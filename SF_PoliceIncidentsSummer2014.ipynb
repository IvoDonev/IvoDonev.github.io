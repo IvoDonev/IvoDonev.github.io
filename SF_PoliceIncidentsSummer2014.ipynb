{
 "cells": [
  {
   "cell_type": "markdown",
   "metadata": {},
   "source": [
    "# San Francisco: Police incident peak in the early evening, much earlier than expected"
   ]
  },
  {
   "cell_type": "markdown",
   "metadata": {},
   "source": [
    "## Introduction\n",
    "\n",
    "I would like to investigate the correlation between the time of day and the number of police incidents which were recorded  during the summer of 2014 in San Francisco. I suspect that there would be more incidents during the evening than the day when it is dark.\n",
    "\n",
    "## Grouping police incidents by time\n",
    "\n",
    "To see if this suspicion is true and if there are any other correlations we created this Jupyter notebook. Initially we load the San Francisco incidents dataset using pandas. We need to convert the date columns into a datetime column so that we can query it. We also split the time column into an hour and minute column to help quering."
   ]
  },
  {
   "cell_type": "code",
   "execution_count": 1,
   "metadata": {},
   "outputs": [],
   "source": [
    "import pandas as pd\n",
    "df = pd.read_csv('sanfrancisco_incidents_summer_2014.csv', sep=\",\")\n",
    "df['Date'] =  pd.to_datetime(df['Date'], format='%m/%d/%Y')\n",
    "df['Hour'] = pd.to_datetime(df['Time'], format='%H:%M').dt.hour\n",
    "df['Minute'] = pd.to_datetime(df['Time'], format='%H:%M').dt.minute"
   ]
  },
  {
   "cell_type": "markdown",
   "metadata": {},
   "source": [
    "We also would like the find the hour in the day with the most and least number of occurrences. To do this we group the incidents by the newly created Hour column and count the incidntnum. We then find the max and min number of occurence."
   ]
  },
  {
   "cell_type": "code",
   "execution_count": 2,
   "metadata": {},
   "outputs": [
    {
     "name": "stdout",
     "output_type": "stream",
     "text": [
      "San Francisco - min :4 max : 18\n"
     ]
    }
   ],
   "source": [
    "# Group by hour\n",
    "df_HOUR = df.groupby(pd.Grouper(key=\"Hour\")).count().reset_index()\n",
    "minHour = df_HOUR.loc[df_HOUR['IncidntNum'].idxmin()].Hour\n",
    "maxHour = df_HOUR.loc[df_HOUR['IncidntNum'].idxmax()].Hour\n",
    "\n",
    "print \"San Francisco - min :\" + str(minHour%24) + \" max : \" + str(maxHour%24)"
   ]
  },
  {
   "cell_type": "markdown",
   "metadata": {},
   "source": [
    "Next we want to show how the number of incidents change throughout the day. However I think it would make more sense to look at the hours of the day from 6:00am to 5:59am which would show the daytime first and the nighttime second. \n",
    "\n",
    "To do this we will rotate the hours by 6 hours, i.e. if the time is before 6 we add 24 hours to it and then sort by the hours. We also rotate the max and min times."
   ]
  },
  {
   "cell_type": "code",
   "execution_count": 3,
   "metadata": {},
   "outputs": [],
   "source": [
    "def rotateTime(x):\n",
    "    return x + 24 if (x <= 5) else x;\n",
    "\n",
    "df_HOUR['Hour'] = df_HOUR['Hour'].transform(rotateTime)\n",
    "df_HOUR = df_HOUR.sort_values(by=['Hour'], ascending=True)\n",
    "\n",
    "minHour = rotateTime(minHour);\n",
    "maxHour = rotateTime(maxHour);"
   ]
  },
  {
   "cell_type": "markdown",
   "metadata": {},
   "source": [
    "To produce the plots we will use the Bokeh library. We then create a line plot of the number of incidents with time. We also add an extra vertical lines at the point for the hour of min and max occurences. We also format the time axis to display for example 10:00. "
   ]
  },
  {
   "cell_type": "code",
   "execution_count": 4,
   "metadata": {},
   "outputs": [
    {
     "data": {
      "text/html": [
       "\n",
       "    <div class=\"bk-root\">\n",
       "        <a href=\"https://bokeh.pydata.org\" target=\"_blank\" class=\"bk-logo bk-logo-small bk-logo-notebook\"></a>\n",
       "        <span id=\"41ee8d23-859a-4fdd-9ca9-2eab750d0c1c\">Loading BokehJS ...</span>\n",
       "    </div>"
      ]
     },
     "metadata": {},
     "output_type": "display_data"
    },
    {
     "data": {
      "application/javascript": [
       "\n",
       "(function(root) {\n",
       "  function now() {\n",
       "    return new Date();\n",
       "  }\n",
       "\n",
       "  var force = true;\n",
       "\n",
       "  if (typeof (root._bokeh_onload_callbacks) === \"undefined\" || force === true) {\n",
       "    root._bokeh_onload_callbacks = [];\n",
       "    root._bokeh_is_loading = undefined;\n",
       "  }\n",
       "\n",
       "  var JS_MIME_TYPE = 'application/javascript';\n",
       "  var HTML_MIME_TYPE = 'text/html';\n",
       "  var EXEC_MIME_TYPE = 'application/vnd.bokehjs_exec.v0+json';\n",
       "  var CLASS_NAME = 'output_bokeh rendered_html';\n",
       "\n",
       "  /**\n",
       "   * Render data to the DOM node\n",
       "   */\n",
       "  function render(props, node) {\n",
       "    var script = document.createElement(\"script\");\n",
       "    node.appendChild(script);\n",
       "  }\n",
       "\n",
       "  /**\n",
       "   * Handle when an output is cleared or removed\n",
       "   */\n",
       "  function handleClearOutput(event, handle) {\n",
       "    var cell = handle.cell;\n",
       "\n",
       "    var id = cell.output_area._bokeh_element_id;\n",
       "    var server_id = cell.output_area._bokeh_server_id;\n",
       "    // Clean up Bokeh references\n",
       "    if (id != null && id in Bokeh.index) {\n",
       "      Bokeh.index[id].model.document.clear();\n",
       "      delete Bokeh.index[id];\n",
       "    }\n",
       "\n",
       "    if (server_id !== undefined) {\n",
       "      // Clean up Bokeh references\n",
       "      var cmd = \"from bokeh.io.state import curstate; print(curstate().uuid_to_server['\" + server_id + \"'].get_sessions()[0].document.roots[0]._id)\";\n",
       "      cell.notebook.kernel.execute(cmd, {\n",
       "        iopub: {\n",
       "          output: function(msg) {\n",
       "            var id = msg.content.text.trim();\n",
       "            if (id in Bokeh.index) {\n",
       "              Bokeh.index[id].model.document.clear();\n",
       "              delete Bokeh.index[id];\n",
       "            }\n",
       "          }\n",
       "        }\n",
       "      });\n",
       "      // Destroy server and session\n",
       "      var cmd = \"import bokeh.io.notebook as ion; ion.destroy_server('\" + server_id + \"')\";\n",
       "      cell.notebook.kernel.execute(cmd);\n",
       "    }\n",
       "  }\n",
       "\n",
       "  /**\n",
       "   * Handle when a new output is added\n",
       "   */\n",
       "  function handleAddOutput(event, handle) {\n",
       "    var output_area = handle.output_area;\n",
       "    var output = handle.output;\n",
       "\n",
       "    // limit handleAddOutput to display_data with EXEC_MIME_TYPE content only\n",
       "    if ((output.output_type != \"display_data\") || (!output.data.hasOwnProperty(EXEC_MIME_TYPE))) {\n",
       "      return\n",
       "    }\n",
       "\n",
       "    var toinsert = output_area.element.find(\".\" + CLASS_NAME.split(' ')[0]);\n",
       "\n",
       "    if (output.metadata[EXEC_MIME_TYPE][\"id\"] !== undefined) {\n",
       "      toinsert[toinsert.length - 1].firstChild.textContent = output.data[JS_MIME_TYPE];\n",
       "      // store reference to embed id on output_area\n",
       "      output_area._bokeh_element_id = output.metadata[EXEC_MIME_TYPE][\"id\"];\n",
       "    }\n",
       "    if (output.metadata[EXEC_MIME_TYPE][\"server_id\"] !== undefined) {\n",
       "      var bk_div = document.createElement(\"div\");\n",
       "      bk_div.innerHTML = output.data[HTML_MIME_TYPE];\n",
       "      var script_attrs = bk_div.children[0].attributes;\n",
       "      for (var i = 0; i < script_attrs.length; i++) {\n",
       "        toinsert[toinsert.length - 1].firstChild.setAttribute(script_attrs[i].name, script_attrs[i].value);\n",
       "      }\n",
       "      // store reference to server id on output_area\n",
       "      output_area._bokeh_server_id = output.metadata[EXEC_MIME_TYPE][\"server_id\"];\n",
       "    }\n",
       "  }\n",
       "\n",
       "  function register_renderer(events, OutputArea) {\n",
       "\n",
       "    function append_mime(data, metadata, element) {\n",
       "      // create a DOM node to render to\n",
       "      var toinsert = this.create_output_subarea(\n",
       "        metadata,\n",
       "        CLASS_NAME,\n",
       "        EXEC_MIME_TYPE\n",
       "      );\n",
       "      this.keyboard_manager.register_events(toinsert);\n",
       "      // Render to node\n",
       "      var props = {data: data, metadata: metadata[EXEC_MIME_TYPE]};\n",
       "      render(props, toinsert[toinsert.length - 1]);\n",
       "      element.append(toinsert);\n",
       "      return toinsert\n",
       "    }\n",
       "\n",
       "    /* Handle when an output is cleared or removed */\n",
       "    events.on('clear_output.CodeCell', handleClearOutput);\n",
       "    events.on('delete.Cell', handleClearOutput);\n",
       "\n",
       "    /* Handle when a new output is added */\n",
       "    events.on('output_added.OutputArea', handleAddOutput);\n",
       "\n",
       "    /**\n",
       "     * Register the mime type and append_mime function with output_area\n",
       "     */\n",
       "    OutputArea.prototype.register_mime_type(EXEC_MIME_TYPE, append_mime, {\n",
       "      /* Is output safe? */\n",
       "      safe: true,\n",
       "      /* Index of renderer in `output_area.display_order` */\n",
       "      index: 0\n",
       "    });\n",
       "  }\n",
       "\n",
       "  // register the mime type if in Jupyter Notebook environment and previously unregistered\n",
       "  if (root.Jupyter !== undefined) {\n",
       "    var events = require('base/js/events');\n",
       "    var OutputArea = require('notebook/js/outputarea').OutputArea;\n",
       "\n",
       "    if (OutputArea.prototype.mime_types().indexOf(EXEC_MIME_TYPE) == -1) {\n",
       "      register_renderer(events, OutputArea);\n",
       "    }\n",
       "  }\n",
       "\n",
       "  \n",
       "  if (typeof (root._bokeh_timeout) === \"undefined\" || force === true) {\n",
       "    root._bokeh_timeout = Date.now() + 5000;\n",
       "    root._bokeh_failed_load = false;\n",
       "  }\n",
       "\n",
       "  var NB_LOAD_WARNING = {'data': {'text/html':\n",
       "     \"<div style='background-color: #fdd'>\\n\"+\n",
       "     \"<p>\\n\"+\n",
       "     \"BokehJS does not appear to have successfully loaded. If loading BokehJS from CDN, this \\n\"+\n",
       "     \"may be due to a slow or bad network connection. Possible fixes:\\n\"+\n",
       "     \"</p>\\n\"+\n",
       "     \"<ul>\\n\"+\n",
       "     \"<li>re-rerun `output_notebook()` to attempt to load from CDN again, or</li>\\n\"+\n",
       "     \"<li>use INLINE resources instead, as so:</li>\\n\"+\n",
       "     \"</ul>\\n\"+\n",
       "     \"<code>\\n\"+\n",
       "     \"from bokeh.resources import INLINE\\n\"+\n",
       "     \"output_notebook(resources=INLINE)\\n\"+\n",
       "     \"</code>\\n\"+\n",
       "     \"</div>\"}};\n",
       "\n",
       "  function display_loaded() {\n",
       "    var el = document.getElementById(\"41ee8d23-859a-4fdd-9ca9-2eab750d0c1c\");\n",
       "    if (el != null) {\n",
       "      el.textContent = \"BokehJS is loading...\";\n",
       "    }\n",
       "    if (root.Bokeh !== undefined) {\n",
       "      if (el != null) {\n",
       "        el.textContent = \"BokehJS \" + root.Bokeh.version + \" successfully loaded.\";\n",
       "      }\n",
       "    } else if (Date.now() < root._bokeh_timeout) {\n",
       "      setTimeout(display_loaded, 100)\n",
       "    }\n",
       "  }\n",
       "\n",
       "\n",
       "  function run_callbacks() {\n",
       "    try {\n",
       "      root._bokeh_onload_callbacks.forEach(function(callback) { callback() });\n",
       "    }\n",
       "    finally {\n",
       "      delete root._bokeh_onload_callbacks\n",
       "    }\n",
       "    console.info(\"Bokeh: all callbacks have finished\");\n",
       "  }\n",
       "\n",
       "  function load_libs(js_urls, callback) {\n",
       "    root._bokeh_onload_callbacks.push(callback);\n",
       "    if (root._bokeh_is_loading > 0) {\n",
       "      console.log(\"Bokeh: BokehJS is being loaded, scheduling callback at\", now());\n",
       "      return null;\n",
       "    }\n",
       "    if (js_urls == null || js_urls.length === 0) {\n",
       "      run_callbacks();\n",
       "      return null;\n",
       "    }\n",
       "    console.log(\"Bokeh: BokehJS not loaded, scheduling load and callback at\", now());\n",
       "    root._bokeh_is_loading = js_urls.length;\n",
       "    for (var i = 0; i < js_urls.length; i++) {\n",
       "      var url = js_urls[i];\n",
       "      var s = document.createElement('script');\n",
       "      s.src = url;\n",
       "      s.async = false;\n",
       "      s.onreadystatechange = s.onload = function() {\n",
       "        root._bokeh_is_loading--;\n",
       "        if (root._bokeh_is_loading === 0) {\n",
       "          console.log(\"Bokeh: all BokehJS libraries loaded\");\n",
       "          run_callbacks()\n",
       "        }\n",
       "      };\n",
       "      s.onerror = function() {\n",
       "        console.warn(\"failed to load library \" + url);\n",
       "      };\n",
       "      console.log(\"Bokeh: injecting script tag for BokehJS library: \", url);\n",
       "      document.getElementsByTagName(\"head\")[0].appendChild(s);\n",
       "    }\n",
       "  };var element = document.getElementById(\"41ee8d23-859a-4fdd-9ca9-2eab750d0c1c\");\n",
       "  if (element == null) {\n",
       "    console.log(\"Bokeh: ERROR: autoload.js configured with elementid '41ee8d23-859a-4fdd-9ca9-2eab750d0c1c' but no matching script tag was found. \")\n",
       "    return false;\n",
       "  }\n",
       "\n",
       "  var js_urls = [\"https://cdn.pydata.org/bokeh/release/bokeh-0.13.0.min.js\", \"https://cdn.pydata.org/bokeh/release/bokeh-widgets-0.13.0.min.js\", \"https://cdn.pydata.org/bokeh/release/bokeh-tables-0.13.0.min.js\", \"https://cdn.pydata.org/bokeh/release/bokeh-gl-0.13.0.min.js\"];\n",
       "\n",
       "  var inline_js = [\n",
       "    function(Bokeh) {\n",
       "      Bokeh.set_log_level(\"info\");\n",
       "    },\n",
       "    \n",
       "    function(Bokeh) {\n",
       "      \n",
       "    },\n",
       "    function(Bokeh) {\n",
       "      console.log(\"Bokeh: injecting CSS: https://cdn.pydata.org/bokeh/release/bokeh-0.13.0.min.css\");\n",
       "      Bokeh.embed.inject_css(\"https://cdn.pydata.org/bokeh/release/bokeh-0.13.0.min.css\");\n",
       "      console.log(\"Bokeh: injecting CSS: https://cdn.pydata.org/bokeh/release/bokeh-widgets-0.13.0.min.css\");\n",
       "      Bokeh.embed.inject_css(\"https://cdn.pydata.org/bokeh/release/bokeh-widgets-0.13.0.min.css\");\n",
       "      console.log(\"Bokeh: injecting CSS: https://cdn.pydata.org/bokeh/release/bokeh-tables-0.13.0.min.css\");\n",
       "      Bokeh.embed.inject_css(\"https://cdn.pydata.org/bokeh/release/bokeh-tables-0.13.0.min.css\");\n",
       "    }\n",
       "  ];\n",
       "\n",
       "  function run_inline_js() {\n",
       "    \n",
       "    if ((root.Bokeh !== undefined) || (force === true)) {\n",
       "      for (var i = 0; i < inline_js.length; i++) {\n",
       "        inline_js[i].call(root, root.Bokeh);\n",
       "      }if (force === true) {\n",
       "        display_loaded();\n",
       "      }} else if (Date.now() < root._bokeh_timeout) {\n",
       "      setTimeout(run_inline_js, 100);\n",
       "    } else if (!root._bokeh_failed_load) {\n",
       "      console.log(\"Bokeh: BokehJS failed to load within specified timeout.\");\n",
       "      root._bokeh_failed_load = true;\n",
       "    } else if (force !== true) {\n",
       "      var cell = $(document.getElementById(\"41ee8d23-859a-4fdd-9ca9-2eab750d0c1c\")).parents('.cell').data().cell;\n",
       "      cell.output_area.append_execute_result(NB_LOAD_WARNING)\n",
       "    }\n",
       "\n",
       "  }\n",
       "\n",
       "  if (root._bokeh_is_loading === 0) {\n",
       "    console.log(\"Bokeh: BokehJS loaded, going straight to plotting\");\n",
       "    run_inline_js();\n",
       "  } else {\n",
       "    load_libs(js_urls, function() {\n",
       "      console.log(\"Bokeh: BokehJS plotting callback run at\", now());\n",
       "      run_inline_js();\n",
       "    });\n",
       "  }\n",
       "}(window));"
      ],
      "application/vnd.bokehjs_load.v0+json": "\n(function(root) {\n  function now() {\n    return new Date();\n  }\n\n  var force = true;\n\n  if (typeof (root._bokeh_onload_callbacks) === \"undefined\" || force === true) {\n    root._bokeh_onload_callbacks = [];\n    root._bokeh_is_loading = undefined;\n  }\n\n  \n\n  \n  if (typeof (root._bokeh_timeout) === \"undefined\" || force === true) {\n    root._bokeh_timeout = Date.now() + 5000;\n    root._bokeh_failed_load = false;\n  }\n\n  var NB_LOAD_WARNING = {'data': {'text/html':\n     \"<div style='background-color: #fdd'>\\n\"+\n     \"<p>\\n\"+\n     \"BokehJS does not appear to have successfully loaded. If loading BokehJS from CDN, this \\n\"+\n     \"may be due to a slow or bad network connection. Possible fixes:\\n\"+\n     \"</p>\\n\"+\n     \"<ul>\\n\"+\n     \"<li>re-rerun `output_notebook()` to attempt to load from CDN again, or</li>\\n\"+\n     \"<li>use INLINE resources instead, as so:</li>\\n\"+\n     \"</ul>\\n\"+\n     \"<code>\\n\"+\n     \"from bokeh.resources import INLINE\\n\"+\n     \"output_notebook(resources=INLINE)\\n\"+\n     \"</code>\\n\"+\n     \"</div>\"}};\n\n  function display_loaded() {\n    var el = document.getElementById(\"41ee8d23-859a-4fdd-9ca9-2eab750d0c1c\");\n    if (el != null) {\n      el.textContent = \"BokehJS is loading...\";\n    }\n    if (root.Bokeh !== undefined) {\n      if (el != null) {\n        el.textContent = \"BokehJS \" + root.Bokeh.version + \" successfully loaded.\";\n      }\n    } else if (Date.now() < root._bokeh_timeout) {\n      setTimeout(display_loaded, 100)\n    }\n  }\n\n\n  function run_callbacks() {\n    try {\n      root._bokeh_onload_callbacks.forEach(function(callback) { callback() });\n    }\n    finally {\n      delete root._bokeh_onload_callbacks\n    }\n    console.info(\"Bokeh: all callbacks have finished\");\n  }\n\n  function load_libs(js_urls, callback) {\n    root._bokeh_onload_callbacks.push(callback);\n    if (root._bokeh_is_loading > 0) {\n      console.log(\"Bokeh: BokehJS is being loaded, scheduling callback at\", now());\n      return null;\n    }\n    if (js_urls == null || js_urls.length === 0) {\n      run_callbacks();\n      return null;\n    }\n    console.log(\"Bokeh: BokehJS not loaded, scheduling load and callback at\", now());\n    root._bokeh_is_loading = js_urls.length;\n    for (var i = 0; i < js_urls.length; i++) {\n      var url = js_urls[i];\n      var s = document.createElement('script');\n      s.src = url;\n      s.async = false;\n      s.onreadystatechange = s.onload = function() {\n        root._bokeh_is_loading--;\n        if (root._bokeh_is_loading === 0) {\n          console.log(\"Bokeh: all BokehJS libraries loaded\");\n          run_callbacks()\n        }\n      };\n      s.onerror = function() {\n        console.warn(\"failed to load library \" + url);\n      };\n      console.log(\"Bokeh: injecting script tag for BokehJS library: \", url);\n      document.getElementsByTagName(\"head\")[0].appendChild(s);\n    }\n  };var element = document.getElementById(\"41ee8d23-859a-4fdd-9ca9-2eab750d0c1c\");\n  if (element == null) {\n    console.log(\"Bokeh: ERROR: autoload.js configured with elementid '41ee8d23-859a-4fdd-9ca9-2eab750d0c1c' but no matching script tag was found. \")\n    return false;\n  }\n\n  var js_urls = [\"https://cdn.pydata.org/bokeh/release/bokeh-0.13.0.min.js\", \"https://cdn.pydata.org/bokeh/release/bokeh-widgets-0.13.0.min.js\", \"https://cdn.pydata.org/bokeh/release/bokeh-tables-0.13.0.min.js\", \"https://cdn.pydata.org/bokeh/release/bokeh-gl-0.13.0.min.js\"];\n\n  var inline_js = [\n    function(Bokeh) {\n      Bokeh.set_log_level(\"info\");\n    },\n    \n    function(Bokeh) {\n      \n    },\n    function(Bokeh) {\n      console.log(\"Bokeh: injecting CSS: https://cdn.pydata.org/bokeh/release/bokeh-0.13.0.min.css\");\n      Bokeh.embed.inject_css(\"https://cdn.pydata.org/bokeh/release/bokeh-0.13.0.min.css\");\n      console.log(\"Bokeh: injecting CSS: https://cdn.pydata.org/bokeh/release/bokeh-widgets-0.13.0.min.css\");\n      Bokeh.embed.inject_css(\"https://cdn.pydata.org/bokeh/release/bokeh-widgets-0.13.0.min.css\");\n      console.log(\"Bokeh: injecting CSS: https://cdn.pydata.org/bokeh/release/bokeh-tables-0.13.0.min.css\");\n      Bokeh.embed.inject_css(\"https://cdn.pydata.org/bokeh/release/bokeh-tables-0.13.0.min.css\");\n    }\n  ];\n\n  function run_inline_js() {\n    \n    if ((root.Bokeh !== undefined) || (force === true)) {\n      for (var i = 0; i < inline_js.length; i++) {\n        inline_js[i].call(root, root.Bokeh);\n      }if (force === true) {\n        display_loaded();\n      }} else if (Date.now() < root._bokeh_timeout) {\n      setTimeout(run_inline_js, 100);\n    } else if (!root._bokeh_failed_load) {\n      console.log(\"Bokeh: BokehJS failed to load within specified timeout.\");\n      root._bokeh_failed_load = true;\n    } else if (force !== true) {\n      var cell = $(document.getElementById(\"41ee8d23-859a-4fdd-9ca9-2eab750d0c1c\")).parents('.cell').data().cell;\n      cell.output_area.append_execute_result(NB_LOAD_WARNING)\n    }\n\n  }\n\n  if (root._bokeh_is_loading === 0) {\n    console.log(\"Bokeh: BokehJS loaded, going straight to plotting\");\n    run_inline_js();\n  } else {\n    load_libs(js_urls, function() {\n      console.log(\"Bokeh: BokehJS plotting callback run at\", now());\n      run_inline_js();\n    });\n  }\n}(window));"
     },
     "metadata": {},
     "output_type": "display_data"
    },
    {
     "data": {
      "text/html": [
       "\n",
       "\n",
       "\n",
       "\n",
       "\n",
       "\n",
       "  <div class=\"bk-root\" id=\"9dd83e69-8677-4053-a108-d019f7bda432\"></div>\n"
      ]
     },
     "metadata": {},
     "output_type": "display_data"
    },
    {
     "data": {
      "application/javascript": [
       "(function(root) {\n",
       "  function embed_document(root) {\n",
       "    \n",
       "  var docs_json = {\"17ca4211-c4ef-49b5-9bd0-b6bb6255cffe\":{\"roots\":{\"references\":[{\"attributes\":{},\"id\":\"82a241a9-36f6-4713-8a41-477e7b141fef\",\"type\":\"BasicTicker\"},{\"attributes\":{\"source\":{\"id\":\"911032e5-308b-4650-abce-eaac1d5b1eef\",\"type\":\"ColumnDataSource\"}},\"id\":\"b212cb4f-3312-491d-b138-d9be30899986\",\"type\":\"CDSView\"},{\"attributes\":{},\"id\":\"172710a1-8f97-4a64-b678-a6a0919fbe55\",\"type\":\"ResetTool\"},{\"attributes\":{\"plot\":null,\"text\":\"Total number of police incidents at each hour throughout the summer of 2014\"},\"id\":\"b9caaef3-a30b-4bec-b39f-f5c3ad2ea444\",\"type\":\"Title\"},{\"attributes\":{\"data_source\":{\"id\":\"911032e5-308b-4650-abce-eaac1d5b1eef\",\"type\":\"ColumnDataSource\"},\"glyph\":{\"id\":\"a12a976e-c9bc-4639-a8bd-c80e11a1f18e\",\"type\":\"Line\"},\"hover_glyph\":null,\"muted_glyph\":null,\"nonselection_glyph\":{\"id\":\"d1dd411b-7c59-48ef-b85d-f6510e97760f\",\"type\":\"Line\"},\"selection_glyph\":null,\"view\":{\"id\":\"b212cb4f-3312-491d-b138-d9be30899986\",\"type\":\"CDSView\"}},\"id\":\"a8741f43-1ec3-4dd1-93f6-ce7cb60bc087\",\"type\":\"GlyphRenderer\"},{\"attributes\":{},\"id\":\"6d495db7-59ac-4a2b-8f4c-1430daea875a\",\"type\":\"HelpTool\"},{\"attributes\":{\"callback\":null,\"data\":{\"x\":[6,7,8,9,10,11,12,13,14,15,16,17,18,19,20,21,22,23,24,25,26,27,28,29],\"y\":[386,610,944,1074,1206,1298,1779,1372,1424,1614,1718,1952,1959,1744,1674,1482,1573,1378,1381,821,654,413,245,292]},\"selected\":{\"id\":\"df6476fd-4f44-41ff-b796-b1b92fbb906b\",\"type\":\"Selection\"},\"selection_policy\":{\"id\":\"e1da111f-c143-477b-b276-58dabb3542e2\",\"type\":\"UnionRenderers\"}},\"id\":\"911032e5-308b-4650-abce-eaac1d5b1eef\",\"type\":\"ColumnDataSource\"},{\"attributes\":{},\"id\":\"df6476fd-4f44-41ff-b796-b1b92fbb906b\",\"type\":\"Selection\"},{\"attributes\":{\"overlay\":{\"id\":\"96bcf538-6053-4d3d-8bf7-5b8b0c226291\",\"type\":\"BoxAnnotation\"}},\"id\":\"1f8cf2fc-1c86-48e5-a60f-5ac1891e38e4\",\"type\":\"BoxZoomTool\"},{\"attributes\":{\"callback\":null},\"id\":\"ec59690a-8581-4912-bdd7-6ef59c277495\",\"type\":\"DataRange1d\"},{\"attributes\":{\"below\":[{\"id\":\"5a204fa0-4a4a-45bc-9fc2-9160129c1389\",\"type\":\"LinearAxis\"}],\"left\":[{\"id\":\"aa1806ee-a420-42e1-b17a-7272963f7686\",\"type\":\"LinearAxis\"}],\"renderers\":[{\"id\":\"5a204fa0-4a4a-45bc-9fc2-9160129c1389\",\"type\":\"LinearAxis\"},{\"id\":\"d3e110fe-13a4-44b6-af6b-2eb75b526a74\",\"type\":\"Grid\"},{\"id\":\"aa1806ee-a420-42e1-b17a-7272963f7686\",\"type\":\"LinearAxis\"},{\"id\":\"3b8a51a2-e38e-4275-9f9b-b3e173679dfb\",\"type\":\"Grid\"},{\"id\":\"96bcf538-6053-4d3d-8bf7-5b8b0c226291\",\"type\":\"BoxAnnotation\"},{\"id\":\"a8741f43-1ec3-4dd1-93f6-ce7cb60bc087\",\"type\":\"GlyphRenderer\"},{\"id\":\"b73aa438-5917-447b-bb8a-c6f982a2c833\",\"type\":\"Span\"},{\"id\":\"426314fc-98ec-47ba-9555-d610fa641064\",\"type\":\"Span\"}],\"title\":{\"id\":\"b9caaef3-a30b-4bec-b39f-f5c3ad2ea444\",\"type\":\"Title\"},\"toolbar\":{\"id\":\"a31c3e9e-4eff-41e0-8d69-2528aa261768\",\"type\":\"Toolbar\"},\"x_range\":{\"id\":\"8feef229-4df2-4199-bbe7-1bc90c31cdb3\",\"type\":\"DataRange1d\"},\"x_scale\":{\"id\":\"51aedbeb-f370-4df5-8043-7f0af7da20a7\",\"type\":\"LinearScale\"},\"y_range\":{\"id\":\"ec59690a-8581-4912-bdd7-6ef59c277495\",\"type\":\"DataRange1d\"},\"y_scale\":{\"id\":\"b4419932-58c7-4ccc-93fb-6d15104dd399\",\"type\":\"LinearScale\"}},\"id\":\"a53b6539-280e-4825-a038-ed3b69154489\",\"subtype\":\"Figure\",\"type\":\"Plot\"},{\"attributes\":{\"active_drag\":\"auto\",\"active_inspect\":\"auto\",\"active_multi\":null,\"active_scroll\":\"auto\",\"active_tap\":\"auto\",\"tools\":[{\"id\":\"71fea8b5-ccbb-4d6c-9d31-fa8e9e323205\",\"type\":\"PanTool\"},{\"id\":\"4efdf36f-ac60-4bda-a8e0-e84723f3eadc\",\"type\":\"WheelZoomTool\"},{\"id\":\"1f8cf2fc-1c86-48e5-a60f-5ac1891e38e4\",\"type\":\"BoxZoomTool\"},{\"id\":\"1627b79f-2913-4d60-88aa-9f5bb6dc488e\",\"type\":\"SaveTool\"},{\"id\":\"172710a1-8f97-4a64-b678-a6a0919fbe55\",\"type\":\"ResetTool\"},{\"id\":\"6d495db7-59ac-4a2b-8f4c-1430daea875a\",\"type\":\"HelpTool\"}]},\"id\":\"a31c3e9e-4eff-41e0-8d69-2528aa261768\",\"type\":\"Toolbar\"},{\"attributes\":{\"axis_label\":\"Time of Incident\",\"formatter\":{\"id\":\"cfa6c7aa-684d-405f-99ba-fa4c01ab34ca\",\"type\":\"FuncTickFormatter\"},\"plot\":{\"id\":\"a53b6539-280e-4825-a038-ed3b69154489\",\"subtype\":\"Figure\",\"type\":\"Plot\"},\"ticker\":{\"id\":\"82a241a9-36f6-4713-8a41-477e7b141fef\",\"type\":\"BasicTicker\"}},\"id\":\"5a204fa0-4a4a-45bc-9fc2-9160129c1389\",\"type\":\"LinearAxis\"},{\"attributes\":{},\"id\":\"361e019f-ade5-4d98-986a-8c512d024324\",\"type\":\"BasicTickFormatter\"},{\"attributes\":{},\"id\":\"51aedbeb-f370-4df5-8043-7f0af7da20a7\",\"type\":\"LinearScale\"},{\"attributes\":{\"axis_label\":\"Number of Incidents\",\"formatter\":{\"id\":\"361e019f-ade5-4d98-986a-8c512d024324\",\"type\":\"BasicTickFormatter\"},\"plot\":{\"id\":\"a53b6539-280e-4825-a038-ed3b69154489\",\"subtype\":\"Figure\",\"type\":\"Plot\"},\"ticker\":{\"id\":\"5562e014-a7aa-4e30-8574-b4ecbc30ca10\",\"type\":\"BasicTicker\"}},\"id\":\"aa1806ee-a420-42e1-b17a-7272963f7686\",\"type\":\"LinearAxis\"},{\"attributes\":{},\"id\":\"71fea8b5-ccbb-4d6c-9d31-fa8e9e323205\",\"type\":\"PanTool\"},{\"attributes\":{\"plot\":{\"id\":\"a53b6539-280e-4825-a038-ed3b69154489\",\"subtype\":\"Figure\",\"type\":\"Plot\"},\"ticker\":{\"id\":\"82a241a9-36f6-4713-8a41-477e7b141fef\",\"type\":\"BasicTicker\"}},\"id\":\"d3e110fe-13a4-44b6-af6b-2eb75b526a74\",\"type\":\"Grid\"},{\"attributes\":{\"line_color\":\"Green\",\"line_width\":6,\"x\":{\"field\":\"x\"},\"y\":{\"field\":\"y\"}},\"id\":\"a12a976e-c9bc-4639-a8bd-c80e11a1f18e\",\"type\":\"Line\"},{\"attributes\":{},\"id\":\"5562e014-a7aa-4e30-8574-b4ecbc30ca10\",\"type\":\"BasicTicker\"},{\"attributes\":{\"dimension\":1,\"plot\":{\"id\":\"a53b6539-280e-4825-a038-ed3b69154489\",\"subtype\":\"Figure\",\"type\":\"Plot\"},\"ticker\":{\"id\":\"5562e014-a7aa-4e30-8574-b4ecbc30ca10\",\"type\":\"BasicTicker\"}},\"id\":\"3b8a51a2-e38e-4275-9f9b-b3e173679dfb\",\"type\":\"Grid\"},{\"attributes\":{},\"id\":\"b4419932-58c7-4ccc-93fb-6d15104dd399\",\"type\":\"LinearScale\"},{\"attributes\":{\"dimension\":\"height\",\"line_color\":{\"value\":\"Green\"},\"line_width\":{\"value\":2},\"location\":18,\"plot\":null},\"id\":\"426314fc-98ec-47ba-9555-d610fa641064\",\"type\":\"Span\"},{\"attributes\":{\"line_alpha\":0.1,\"line_color\":\"#1f77b4\",\"line_width\":6,\"x\":{\"field\":\"x\"},\"y\":{\"field\":\"y\"}},\"id\":\"d1dd411b-7c59-48ef-b85d-f6510e97760f\",\"type\":\"Line\"},{\"attributes\":{},\"id\":\"e1da111f-c143-477b-b276-58dabb3542e2\",\"type\":\"UnionRenderers\"},{\"attributes\":{},\"id\":\"1627b79f-2913-4d60-88aa-9f5bb6dc488e\",\"type\":\"SaveTool\"},{\"attributes\":{\"bottom_units\":\"screen\",\"fill_alpha\":{\"value\":0.5},\"fill_color\":{\"value\":\"lightgrey\"},\"left_units\":\"screen\",\"level\":\"overlay\",\"line_alpha\":{\"value\":1.0},\"line_color\":{\"value\":\"black\"},\"line_dash\":[4,4],\"line_width\":{\"value\":2},\"plot\":null,\"render_mode\":\"css\",\"right_units\":\"screen\",\"top_units\":\"screen\"},\"id\":\"96bcf538-6053-4d3d-8bf7-5b8b0c226291\",\"type\":\"BoxAnnotation\"},{\"attributes\":{},\"id\":\"4efdf36f-ac60-4bda-a8e0-e84723f3eadc\",\"type\":\"WheelZoomTool\"},{\"attributes\":{\"callback\":null},\"id\":\"8feef229-4df2-4199-bbe7-1bc90c31cdb3\",\"type\":\"DataRange1d\"},{\"attributes\":{\"dimension\":\"height\",\"line_color\":{\"value\":\"Green\"},\"line_width\":{\"value\":2},\"location\":28,\"plot\":null},\"id\":\"b73aa438-5917-447b-bb8a-c6f982a2c833\",\"type\":\"Span\"},{\"attributes\":{\"code\":\"\\n    var s = \\\"0\\\" + ((tick%1)*60.0).toFixed(0);\\n    return (tick % 24).toFixed(0) + \\\":\\\" + s.substr(s.length-2);\\n\"},\"id\":\"cfa6c7aa-684d-405f-99ba-fa4c01ab34ca\",\"type\":\"FuncTickFormatter\"}],\"root_ids\":[\"a53b6539-280e-4825-a038-ed3b69154489\"]},\"title\":\"Bokeh Application\",\"version\":\"0.13.0\"}};\n",
       "  var render_items = [{\"docid\":\"17ca4211-c4ef-49b5-9bd0-b6bb6255cffe\",\"roots\":{\"a53b6539-280e-4825-a038-ed3b69154489\":\"9dd83e69-8677-4053-a108-d019f7bda432\"}}];\n",
       "  root.Bokeh.embed.embed_items_notebook(docs_json, render_items);\n",
       "\n",
       "  }\n",
       "  if (root.Bokeh !== undefined) {\n",
       "    embed_document(root);\n",
       "  } else {\n",
       "    var attempts = 0;\n",
       "    var timer = setInterval(function(root) {\n",
       "      if (root.Bokeh !== undefined) {\n",
       "        embed_document(root);\n",
       "        clearInterval(timer);\n",
       "      }\n",
       "      attempts++;\n",
       "      if (attempts > 100) {\n",
       "        console.log(\"Bokeh: ERROR: Unable to run BokehJS code because BokehJS library is missing\")\n",
       "        clearInterval(timer);\n",
       "      }\n",
       "    }, 10, root)\n",
       "  }\n",
       "})(window);"
      ],
      "application/vnd.bokehjs_exec.v0+json": ""
     },
     "metadata": {
      "application/vnd.bokehjs_exec.v0+json": {
       "id": "a53b6539-280e-4825-a038-ed3b69154489"
      }
     },
     "output_type": "display_data"
    }
   ],
   "source": [
    "from bokeh.plotting import figure \n",
    "from bokeh.io import output_notebook, show\n",
    "from bokeh.models import FuncTickFormatter, Span, ColumnDataSource, Range1d, LinearAxis\n",
    "from bokeh.transform import cumsum\n",
    "from math import pi\n",
    "\n",
    "output_notebook()\n",
    "\n",
    "p = figure(title=\"Total number of police incidents at each hour throughout the summer of 2014\")\n",
    "\n",
    "p.line(x=df_HOUR[\"Hour\"],y=df_HOUR[\"IncidntNum\"], line_width=6, line_color=\"Green\")\n",
    "\n",
    "SF_MIN = Span(location=minHour, dimension='height', line_color='Green', line_width=2)\n",
    "SF_MAX = Span(location=maxHour, dimension='height', line_color='Green', line_width=2)\n",
    "p.renderers.extend([SF_MIN, SF_MAX])\n",
    "\n",
    "timeFormatter = FuncTickFormatter(code=\"\"\"\n",
    "    var s = \"0\" + ((tick%1)*60.0).toFixed(0);\n",
    "    return (tick % 24).toFixed(0) + \":\" + s.substr(s.length-2);\n",
    "\"\"\")\n",
    "\n",
    "p.yaxis.axis_label = \"Number of Incidents\"\n",
    "p.xaxis.axis_label = \"Time of Incident\"\n",
    "p.xaxis[0].formatter = timeFormatter\n",
    "\n",
    "show(p)"
   ]
  },
  {
   "cell_type": "markdown",
   "metadata": {},
   "source": [
    "From the graph above it can be seen that in San Francisco the peak time for police incidents is 18:00 while the lowest \n",
    "number of incidents occur at 4:00. This is as I suspected that more crimes occur in the evening than during the day (which can also be seen by the sinusodal shape of the graph. However, what is unexpected is that the peak occurs so early 18:00 , when it is still light during the summer months. "
   ]
  },
  {
   "cell_type": "markdown",
   "metadata": {},
   "source": [
    "## Grouping police incidents by description\n",
    "What I suspect is that different types of incidents may occur more frequently at different times of day. To begin we first get a list of all the different descriptions present in our dataset. We group our dataset by \"Descript\" and count the number of incidntNums in each description. We display this below to get a list.\n",
    "\n",
    "We can see that most incidents are \"Grand Theft From Locked Auto\". But we can also see that there are 368 different descriptions which are perhaps too granular to be able to compare different categories."
   ]
  },
  {
   "cell_type": "code",
   "execution_count": 5,
   "metadata": {},
   "outputs": [
    {
     "name": "stdout",
     "output_type": "stream",
     "text": [
      "                                                  IncidntNum\n",
      "Descript                                                    \n",
      "GRAND THEFT FROM LOCKED AUTO                            3766\n",
      "STOLEN AUTOMOBILE                                       1350\n",
      "LOST PROPERTY                                           1202\n",
      "PETTY THEFT OF PROPERTY                                 1125\n",
      "WARRANT ARREST                                           980\n",
      "PETTY THEFT FROM LOCKED AUTO                             955\n",
      "BATTERY                                                  903\n",
      "FOUND PROPERTY                                           757\n",
      "GRAND THEFT FROM UNLOCKED AUTO                           681\n",
      "SUSPICIOUS OCCURRENCE                                    677\n",
      "FOUND PERSON                                             637\n",
      "INVESTIGATIVE DETENTION                                  559\n",
      "GRAND THEFT OF PROPERTY                                  485\n",
      "THREATS AGAINST LIFE                                     473\n",
      "ENROUTE TO OUTSIDE JURISDICTION                          470\n",
      "PETTY THEFT FROM A BUILDING                              451\n",
      "RESISTING ARREST                                         382\n",
      "PETTY THEFT SHOPLIFTING                                  379\n",
      "MISSING ADULT                                            362\n",
      "STOLEN TRUCK                                             350\n",
      "TRAFFIC VIOLATION ARREST                                 337\n",
      "TRAFFIC VIOLATION                                        330\n",
      "GRAND THEFT FROM PERSON                                  321\n",
      "LOST/STOLEN LICENSE PLATE                                316\n",
      "INFLICT INJURY ON COHABITEE                              297\n",
      "AGGRAVATED ASSAULT WITH A DEADLY WEAPON                  294\n",
      "DOMESTIC VIOLENCE                                        286\n",
      "PROBATION VIOLATION                                      284\n",
      "GRAND THEFT FROM A BUILDING                              277\n",
      "TRESPASSING                                              269\n",
      "...                                                      ...\n",
      "TRESPASSING ON RAILROAD TRAINS                             1\n",
      "PETTY THEFT COIN OPERATED MACHINE                          1\n",
      "ATTEMPTED ROBBERY SERVICE STATION WITH A KNIFE             1\n",
      "MINOR ON ON-SALE LICENSED PREMISE                          1\n",
      "DISRUPTS SCHOOL ACTIVITIES                                 1\n",
      "ESCAPE OR ASSISTING ESCAPE                                 1\n",
      "LOITERS AROUND PUBLIC TOILET FOR LEWD ACT                  1\n",
      "IMPERSONATING FIRE DEPARTMENT MEMBER                       1\n",
      "ATTEMPTED SUICIDE BY FIREARMS                              1\n",
      "UNLAWFUL TRANSPORTATION OF ALCOHOL                         1\n",
      "ATTEMPTED ROBBERY RESIDENCE WITH A GUN                     1\n",
      "ARSON OF A VACANT BUILDING                                 1\n",
      "FAILURE TO PROVIDE FOR CHILD                               1\n",
      "PEEPING TOM                                                1\n",
      "HABITUAL TRUANT                                            1\n",
      "JUDGE/JUROR ACCEPTING A BRIBE                              1\n",
      "SOLICITS LEWD ACT                                          1\n",
      "ROBBERY OF A COMMERCIAL ESTABLISHMENT W/ A KNIFE           1\n",
      "IMPERSONATING PUBLIC UTILITY MEMBER                        1\n",
      "AGGRESSIVE SOLICITING                                      1\n",
      "VIOLATION OF FEDERAL STATUTE                               1\n",
      "SAFE BURGLARY OF A STORE                                   1\n",
      "ATTEMPTED AUTO STRIP                                       1\n",
      "BRIBERY OF EXECUTIVE OFFICER                               1\n",
      "ATTEMPTED ARSON                                            1\n",
      "POSSESSION OF OBSCENE MATTER FOR SALE                      1\n",
      "STOLEN BUS                                                 1\n",
      "ACCIDENTAL BURNS                                           1\n",
      "MAYHEM WITH A GUN                                          1\n",
      "PETTY THEFT MOTORCYCLE STRIP                               1\n",
      "\n",
      "[368 rows x 1 columns]\n"
     ]
    }
   ],
   "source": [
    "dfDescriptGROUP = df.groupby(pd.Grouper(key=\"Descript\"))[[\"IncidntNum\"]].count()\n",
    "dfDescriptGROUP = dfDescriptGROUP.sort_values(by=[\"IncidntNum\"], ascending=False)\n",
    "print dfDescriptGROUP"
   ]
  },
  {
   "cell_type": "markdown",
   "metadata": {},
   "source": [
    "To be be able to compare the different descriptions we will attempt to group the descirptions into common groups. I created a list of categories and I will consider a description to fall within a category if that category name occurs within the description title. This is a pretty naive way to split the categories but it doesn't require detail knowledge of all the different descriptions. We then split the data into each category and calculate the number of incidents for each category and also the hour of max and min number of incidents. We also get the incidents per hour for each category.\n",
    "\n",
    "However, there are many incident descriptions which don't fall within an any category. To account for this we will create another category \"OTHER\" which includes all descriptions which fall in no category."
   ]
  },
  {
   "cell_type": "code",
   "execution_count": 6,
   "metadata": {},
   "outputs": [],
   "source": [
    "# prepare data for our graphs - \n",
    "listOfCategories = [\"ROBBERY\",\"THEFT\", \"ASSAULT\", \"POSSESSION\", \"SALE\", \"HOMICIDE\", \"BATTERY\", \"LOST\", \"STOLEN\" ];\n",
    "\n",
    "data = {\n",
    "    \"categories\": listOfCategories,\n",
    "    \"min\":[],\n",
    "    \"max\":[],\n",
    "    \"totIncidents\":[],\n",
    "    \"incidentTypes\":[],\n",
    "    \"incidntNum\":[]\n",
    "}\n",
    "\n",
    "def extractDetails(df):\n",
    "    data['incidentTypes'].append(df['Descript'].unique())\n",
    "    data['totIncidents'].append(len(df))\n",
    "    df_Hour = df.groupby(pd.Grouper(key=\"Hour\")).count().reset_index()\n",
    "    df_Hour['Hour'] = df_Hour['Hour'].transform(rotateTime)\n",
    "    df_Hour_H = df_Hour.set_index(\"Hour\")\n",
    "    df_Hour_H = df_Hour_H.reindex(range(6, 6+24), fill_value=0)\n",
    "    data['incidntNum'].append(df_Hour_H['IncidntNum'])\n",
    "    data['max'].append(df_Hour.loc[df_Hour['IncidntNum'].idxmax()].Hour)\n",
    "    data['min'].append(df_Hour.loc[df_Hour['IncidntNum'].idxmax()].Hour)\n",
    "\n",
    "def isInNoCategory(x):\n",
    "    return True if not any(s in x['Descript'] for s in listOfCategories) else False\n",
    " \n",
    "#Extract only entries for each category then group by hour and get the hour with most incidents and least    \n",
    "for c in data[\"categories\"]:\n",
    "    df_Filtered = df[df.apply(lambda x: c in x['Descript'], axis=1, result_type='reduce')]\n",
    "    extractDetails(df_Filtered)\n",
    "\n",
    "# Get all entries which don't fit in any category   \n",
    "df_Filtered_Other = df[df.apply(isInNoCategory, axis=1, result_type='reduce')]\n",
    "data['categories'].append(\"OTHER\")\n",
    "extractDetails(df_Filtered_Other)"
   ]
  },
  {
   "cell_type": "markdown",
   "metadata": {},
   "source": [
    "Next we want to compare the number incidents (in total) for each category. To display this we calculate the proportion of incidents for each category. We then display a pie chart. There is a hover-over tooltip on each segment which displays the percentage proportion of each category."
   ]
  },
  {
   "cell_type": "code",
   "execution_count": 7,
   "metadata": {},
   "outputs": [
    {
     "data": {
      "text/html": [
       "\n",
       "\n",
       "\n",
       "\n",
       "\n",
       "\n",
       "  <div class=\"bk-root\" id=\"f9e9fa25-ab1a-4df9-9354-c780601caa08\"></div>\n"
      ]
     },
     "metadata": {},
     "output_type": "display_data"
    },
    {
     "data": {
      "application/javascript": [
       "(function(root) {\n",
       "  function embed_document(root) {\n",
       "    \n",
       "  var docs_json = {\"4e667dc9-f4ce-41a7-82b2-b04dc8c0d0d1\":{\"roots\":{\"references\":[{\"attributes\":{\"source\":{\"id\":\"fb93672b-0084-4c66-b1b8-412f517f5cc8\",\"type\":\"ColumnDataSource\"}},\"id\":\"853d89ac-4781-4471-bb30-de33fab4588b\",\"type\":\"CDSView\"},{\"attributes\":{\"field\":\"angle\",\"include_zero\":true},\"id\":\"27ceb470-26b1-4860-a3b6-8368edb27897\",\"type\":\"CumSum\"},{\"attributes\":{},\"id\":\"13ba9269-4742-42a2-8fe0-c279fc15cf0f\",\"type\":\"LinearScale\"},{\"attributes\":{\"below\":[{\"id\":\"c6938552-9f26-4f29-9951-d489cab915b1\",\"type\":\"LinearAxis\"}],\"left\":[{\"id\":\"284b2987-7dfd-4e39-bbd4-09173bda989c\",\"type\":\"LinearAxis\"}],\"plot_height\":350,\"renderers\":[{\"id\":\"c6938552-9f26-4f29-9951-d489cab915b1\",\"type\":\"LinearAxis\"},{\"id\":\"301eea0d-a0a7-4632-9ed0-42fdd5294027\",\"type\":\"Grid\"},{\"id\":\"284b2987-7dfd-4e39-bbd4-09173bda989c\",\"type\":\"LinearAxis\"},{\"id\":\"d84cfba9-f57d-4f57-a510-64c233dd9af7\",\"type\":\"Grid\"},{\"id\":\"ac21a429-2001-4830-a5fb-a432da3f6c8f\",\"type\":\"Legend\"},{\"id\":\"fed3060d-3132-4c4c-b40b-c966a950f979\",\"type\":\"GlyphRenderer\"}],\"title\":{\"id\":\"3f42b320-5eca-46c6-8d94-4efd2acfcb87\",\"type\":\"Title\"},\"toolbar\":{\"id\":\"593107e8-32c5-4586-a3d6-42206ce290e0\",\"type\":\"Toolbar\"},\"toolbar_location\":null,\"x_range\":{\"id\":\"64acd764-4228-42ea-9fc7-b4662773f894\",\"type\":\"DataRange1d\"},\"x_scale\":{\"id\":\"c29d2008-305a-4d97-b8a1-9f4b3f78ad3d\",\"type\":\"LinearScale\"},\"y_range\":{\"id\":\"509633c7-fa21-4a6d-8d01-da8b94f531ee\",\"type\":\"DataRange1d\"},\"y_scale\":{\"id\":\"13ba9269-4742-42a2-8fe0-c279fc15cf0f\",\"type\":\"LinearScale\"}},\"id\":\"1b9752c4-81b2-4d02-ac9e-220e4059664b\",\"subtype\":\"Figure\",\"type\":\"Plot\"},{\"attributes\":{},\"id\":\"c29d2008-305a-4d97-b8a1-9f4b3f78ad3d\",\"type\":\"LinearScale\"},{\"attributes\":{\"label\":{\"field\":\"categories\"},\"renderers\":[{\"id\":\"fed3060d-3132-4c4c-b40b-c966a950f979\",\"type\":\"GlyphRenderer\"}]},\"id\":\"2c3e73a7-b84b-4392-8a39-6ba3e46017d5\",\"type\":\"LegendItem\"},{\"attributes\":{\"plot\":null,\"text\":\"Proportion of incident categories\"},\"id\":\"3f42b320-5eca-46c6-8d94-4efd2acfcb87\",\"type\":\"Title\"},{\"attributes\":{},\"id\":\"75711cc0-6848-4d2a-832f-27ec5946334a\",\"type\":\"BasicTickFormatter\"},{\"attributes\":{},\"id\":\"869b8e96-c87f-47a1-8437-75479227c707\",\"type\":\"Selection\"},{\"attributes\":{\"callback\":null},\"id\":\"64acd764-4228-42ea-9fc7-b4662773f894\",\"type\":\"DataRange1d\"},{\"attributes\":{\"field\":\"angle\"},\"id\":\"73560d56-14de-4ede-9e06-2249bb69d625\",\"type\":\"CumSum\"},{\"attributes\":{\"dimension\":1,\"plot\":{\"id\":\"1b9752c4-81b2-4d02-ac9e-220e4059664b\",\"subtype\":\"Figure\",\"type\":\"Plot\"},\"ticker\":{\"id\":\"cf4a8596-ef0b-42b6-8990-3e76cd52b570\",\"type\":\"BasicTicker\"},\"visible\":false},\"id\":\"d84cfba9-f57d-4f57-a510-64c233dd9af7\",\"type\":\"Grid\"},{\"attributes\":{\"end_angle\":{\"expr\":{\"id\":\"73560d56-14de-4ede-9e06-2249bb69d625\",\"type\":\"CumSum\"},\"units\":\"rad\"},\"fill_color\":{\"field\":\"color\"},\"line_color\":{\"value\":\"white\"},\"radius\":{\"units\":\"data\",\"value\":0.4},\"start_angle\":{\"expr\":{\"id\":\"27ceb470-26b1-4860-a3b6-8368edb27897\",\"type\":\"CumSum\"},\"units\":\"rad\"},\"x\":{\"value\":0},\"y\":{\"value\":1}},\"id\":\"3e5ab87e-d32d-42d8-a7df-c6d0f55c3581\",\"type\":\"Wedge\"},{\"attributes\":{},\"id\":\"71919860-d066-442a-a72e-73202f4705bb\",\"type\":\"UnionRenderers\"},{\"attributes\":{\"active_drag\":\"auto\",\"active_inspect\":\"auto\",\"active_multi\":null,\"active_scroll\":\"auto\",\"active_tap\":\"auto\",\"tools\":[{\"id\":\"e3223455-8ddf-4471-b3a0-ba0417f02fd0\",\"type\":\"HoverTool\"}]},\"id\":\"593107e8-32c5-4586-a3d6-42206ce290e0\",\"type\":\"Toolbar\"},{\"attributes\":{\"formatter\":{\"id\":\"75711cc0-6848-4d2a-832f-27ec5946334a\",\"type\":\"BasicTickFormatter\"},\"plot\":{\"id\":\"1b9752c4-81b2-4d02-ac9e-220e4059664b\",\"subtype\":\"Figure\",\"type\":\"Plot\"},\"ticker\":{\"id\":\"cf4a8596-ef0b-42b6-8990-3e76cd52b570\",\"type\":\"BasicTicker\"},\"visible\":null},\"id\":\"284b2987-7dfd-4e39-bbd4-09173bda989c\",\"type\":\"LinearAxis\"},{\"attributes\":{\"formatter\":{\"id\":\"680fbc42-3ace-4ec2-9fbd-9d9145138b2a\",\"type\":\"BasicTickFormatter\"},\"plot\":{\"id\":\"1b9752c4-81b2-4d02-ac9e-220e4059664b\",\"subtype\":\"Figure\",\"type\":\"Plot\"},\"ticker\":{\"id\":\"9587ce50-af5d-4c1e-a88c-c34cdac50e06\",\"type\":\"BasicTicker\"},\"visible\":null},\"id\":\"c6938552-9f26-4f29-9951-d489cab915b1\",\"type\":\"LinearAxis\"},{\"attributes\":{\"end_angle\":{\"expr\":{\"id\":\"73560d56-14de-4ede-9e06-2249bb69d625\",\"type\":\"CumSum\"},\"units\":\"rad\"},\"fill_alpha\":{\"value\":0.1},\"fill_color\":{\"value\":\"#1f77b4\"},\"line_alpha\":{\"value\":0.1},\"line_color\":{\"value\":\"#1f77b4\"},\"radius\":{\"units\":\"data\",\"value\":0.4},\"start_angle\":{\"expr\":{\"id\":\"27ceb470-26b1-4860-a3b6-8368edb27897\",\"type\":\"CumSum\"},\"units\":\"rad\"},\"x\":{\"value\":0},\"y\":{\"value\":1}},\"id\":\"2c727b40-5fee-4bc2-a12c-451452624767\",\"type\":\"Wedge\"},{\"attributes\":{\"callback\":null},\"id\":\"509633c7-fa21-4a6d-8d01-da8b94f531ee\",\"type\":\"DataRange1d\"},{\"attributes\":{\"data_source\":{\"id\":\"fb93672b-0084-4c66-b1b8-412f517f5cc8\",\"type\":\"ColumnDataSource\"},\"glyph\":{\"id\":\"3e5ab87e-d32d-42d8-a7df-c6d0f55c3581\",\"type\":\"Wedge\"},\"hover_glyph\":null,\"muted_glyph\":null,\"nonselection_glyph\":{\"id\":\"2c727b40-5fee-4bc2-a12c-451452624767\",\"type\":\"Wedge\"},\"selection_glyph\":null,\"view\":{\"id\":\"853d89ac-4781-4471-bb30-de33fab4588b\",\"type\":\"CDSView\"}},\"id\":\"fed3060d-3132-4c4c-b40b-c966a950f979\",\"type\":\"GlyphRenderer\"},{\"attributes\":{},\"id\":\"cf4a8596-ef0b-42b6-8990-3e76cd52b570\",\"type\":\"BasicTicker\"},{\"attributes\":{},\"id\":\"680fbc42-3ace-4ec2-9fbd-9d9145138b2a\",\"type\":\"BasicTickFormatter\"},{\"attributes\":{\"plot\":{\"id\":\"1b9752c4-81b2-4d02-ac9e-220e4059664b\",\"subtype\":\"Figure\",\"type\":\"Plot\"},\"ticker\":{\"id\":\"9587ce50-af5d-4c1e-a88c-c34cdac50e06\",\"type\":\"BasicTicker\"},\"visible\":false},\"id\":\"301eea0d-a0a7-4632-9ed0-42fdd5294027\",\"type\":\"Grid\"},{\"attributes\":{\"callback\":null,\"renderers\":\"auto\",\"tooltips\":\"@categories: @percent\"},\"id\":\"e3223455-8ddf-4471-b3a0-ba0417f02fd0\",\"type\":\"HoverTool\"},{\"attributes\":{\"items\":[{\"id\":\"2c3e73a7-b84b-4392-8a39-6ba3e46017d5\",\"type\":\"LegendItem\"}],\"plot\":{\"id\":\"1b9752c4-81b2-4d02-ac9e-220e4059664b\",\"subtype\":\"Figure\",\"type\":\"Plot\"}},\"id\":\"ac21a429-2001-4830-a5fb-a432da3f6c8f\",\"type\":\"Legend\"},{\"attributes\":{},\"id\":\"9587ce50-af5d-4c1e-a88c-c34cdac50e06\",\"type\":\"BasicTicker\"},{\"attributes\":{\"callback\":null,\"data\":{\"angle\":[0.06378868332162016,2.0233770349617917,0.1586211925264288,0.28938799333575016,0.0763337910415388,0.006378868332162017,0.22007095745958957,0.32277073760739805,0.48692028268836723,2.63553576590494],\"categories\":[\"ROBBERY\",\"THEFT\",\"ASSAULT\",\"POSSESSION\",\"SALE\",\"HOMICIDE\",\"BATTERY\",\"LOST\",\"STOLEN\",\"OTHER\"],\"color\":[\"#5e4fa2\",\"#3288bd\",\"#66c2a5\",\"#abdda4\",\"#e6f598\",\"#fee08b\",\"#fdae61\",\"#f46d43\",\"#d53e4f\",\"#9e0142\"],\"incidentTypes\":[[\"ROBBERY OF A CHAIN STORE WITH BODILY FORCE\",\"ROBBERY ON THE STREET WITH A KNIFE\",\"ROBBERY ON THE STREET WITH A DANGEROUS WEAPON\",\"ROBBERY OF A SERVICE STATION WITH BODILY FORCE\",\"ROBBERY ON THE STREET WITH A GUN\",\"ROBBERY OF A RESIDENCE WITH BODILY FORCE\",\"ATTEMPTED ROBBERY RESIDENCE WITH BODILY FORCE\",\"ATTEMPTED ROBBERY ON THE STREET WITH A KNIFE\",\"ATTEMPTED ROBBERY WITH BODILY FORCE\",\"ATTEMPTED ROBBERY ON THE STREET WITH BODILY FORCE\",\"ATTEMPTED ROBBERY ON THE STREET WITH A GUN\",\"ROBBERY OF A RESIDENCE WITH A GUN\",\"ATTEMPTED ROBBERY WITH A KNIFE\",\"KIDNAPPING DURING ROBBERY\",\"ATTEMPTED ROBBERY ON THE STREET W/DEADLY WEAPON\",\"ROBBERY OF A COMMERCIAL ESTABLISHMENT WITH A GUN\",\"ATTEMPTED ROBBERY SERVICE STATION WITH A KNIFE\",\"ROBBERY OF A SERVICE STATION WITH A GUN\",\"ATTEMPTED ROBBERY WITH A GUN\",\"ROBBERY OF A CHAIN STORE WITH A KNIFE\",\"ATTEMPTED ROBBERY COMM. ESTAB. WITH BODILY FORCE\",\"ATTEMPTED ROBBERY CHAIN STORE WITH BODILY FORCE\",\"ATTEMPTED ROBBERY RESIDENCE WITH A GUN\",\"ROBBERY OF A BANK WITH A GUN\",\"ATTEMPTED ROBBERY OF A BANK WITH BODILY FORCE\",\"ATTEMPTED ROBBERY COMM. ESTAB. WITH DEADLY WEAPON\",\"ATTEMPTED ROBBERY COMM. ESTABLISHMENT WITH A GUN\",\"ROBBERY OF A COMMERCIAL ESTABLISHMENT W/ A KNIFE\",\"ATTEMPTED ROBBERY WITH A DEADLY WEAPON\",\"ROBBERY OF A COMMERCIAL ESTABLISHMENT W/ WEAPON\",\"ATTEMPTED ROBBERY CHAIN STORE WITH DEADLY WEAPON\",\"ROBBERY OF A RESIDENCE WITH A KNIFE\",\"ROBBERY OF A CHAIN STORE WITH A GUN\",\"ATTEMPTED ROBBERY OF A BANK WITH A DEADLY WEAPON\",\"ROBBERY OF A CHAIN STORE WITH A DANGEROUS WEAPON\",\"ROBBERY OF A BANK WITH BODILY FORCE\",\"ATTEMPTED ROBBERY RESIDENCE WITH A KNIFE\"],[\"GRAND THEFT FROM LOCKED AUTO\",\"PETTY THEFT OF PROPERTY\",\"PETTY THEFT FROM LOCKED AUTO\",\"GRAND THEFT FROM UNLOCKED AUTO\",\"PETTY THEFT SHOPLIFTING\",\"GRAND THEFT PICKPOCKET\",\"GRAND THEFT FROM PERSON\",\"PETTY THEFT BICYCLE\",\"PETTY THEFT FROM A BUILDING\",\"PETTY THEFT FROM UNLOCKED AUTO\",\"GRAND THEFT OF PROPERTY\",\"GRAND THEFT BICYCLE\",\"ELDER ADULT OR DEPENDENT ABUSE (NOT EMBEZZLEMENT OR THEFT)\",\"ATTEMPTED THEFT FROM LOCKED VEHICLE\",\"GRAND THEFT PURSESNATCH\",\"GRAND THEFT AUTO STRIP\",\"PETTY THEFT WITH PRIOR\",\"THEFT FROM MERCHANT OR LIBRARY\",\"GRAND THEFT FROM A BUILDING\",\"ATTEMPTED THEFT OF A BICYCLE\",\"GRAND THEFT SHOPLIFTING\",\"GRAND THEFT BY PROSTITUTE\",\"THEFT OF ANIMALS (GENERAL)\",\"THEFT OF COMPUTERS OR CELL PHONES\",\"PETTY THEFT AUTO STRIP\",\"THEFT OF CHECKS OR CREDIT CARDS\",\"ATTEMPTED THEFT FROM A BUILDING\",\"PETTY THEFT COIN OPERATED MACHINE\",\"THEFT OF WRITTEN INSTRUMENT\",\"ATTEMPTED PETTY THEFT OF PROPERTY\",\"ATTEMPTED GRAND THEFT FROM PERSON\",\"THEFT OF UTILITY SERVICES\",\"ATTEMPTED THEFT FROM UNLOCKED VEHICLE\",\"GRAND THEFT COIN OPERATED MACHINE\",\"PETTY THEFT MOTORCYCLE STRIP\"],[\"AGGRAVATED ASSAULT WITH BODILY FORCE\",\"AGGRAVATED ASSAULT WITH A DEADLY WEAPON\",\"AGGRAVATED ASSAULT WITH A KNIFE\",\"ASSAULT\",\"AGGRAVATED ASSAULT WITH A GUN\",\"POSS OF DEADLY WEAPON WITH INTENT TO ASSAULT\",\"ASSAULT ON A POLICE OFFICER WITH A DEADLY WEAPON\",\"ASSAULT WITH CAUSTIC CHEMICALS\",\"AGGRAVATED ASSAULT ON POLICE OFFICER WITH A KNIFE\",\"ATTEMPTED SIMPLE ASSAULT\"],[\"POSSESSION OF MARIJUANA\",\"POSSESSION OF CONTROLLED SUBSTANCE FOR SALE\",\"POSSESSION OF METH-AMPHETAMINE FOR SALE\",\"POSSESSION OF HEROIN FOR SALES\",\"POSSESSION OF METH-AMPHETAMINE\",\"POSSESSION OF COCAINE\",\"POSSESSION OF NARCOTICS PARAPHERNALIA\",\"POSSESSION OF CONTROLLED SUBSTANCE\",\"POSSESSION OF METHADONE\",\"POSSESSION OF MARIJUANA FOR SALES\",\"POSSESSION OF BASE/ROCK COCAINE\",\"POSSESSION OF AIR GUN\",\"POSSESSION OF HEROIN\",\"POSSESSION OF BASE/ROCK COCAINE FOR SALE\",\"POSSESSION OF HALLUCINOGENIC FOR SALES\",\"POSSESSION OF BURGLARY TOOLS\",\"POSSESSION OF BURGLARY TOOLS W/PRIORS\",\"POSSESSION OF OPIATES\",\"POSSESSION OF ALCOHOL BY MINOR\",\"POSSESSION OF COCAINE FOR SALES\",\"POSSESSION OF EXPLOSIVE DEVICE\",\"FIREARM POSSESSION IN SCHOOL ZONE\",\"POSSESSION OF AMPHETAMINE FOR SALES\",\"POSSESSION OF HALLUCINOGENIC\",\"POSSESSION OF OPIUM DERIVATIVE\",\"POSSESSION OF METHADONE FOR SALES\",\"POSSESSION OF OBSCENE MATTER FOR SALE\",\"POSSESSION OF OPIATES FOR SALES\",\"POSSESSION OF CAUSTIC CHEMICAL\",\"POSSESSION OF FIRECRACKERS\",\"POSSESSION OF MACHINE GUN\"],[\"POSSESSION OF CONTROLLED SUBSTANCE FOR SALE\",\"POSSESSION OF METH-AMPHETAMINE FOR SALE\",\"POSSESSION OF HEROIN FOR SALES\",\"POSSESSION OF MARIJUANA FOR SALES\",\"SALE OF MARIJUANA\",\"MINOR ON ON-SALE LICENSED PREMISE\",\"POSSESSION OF BASE/ROCK COCAINE FOR SALE\",\"SALE OF BASE/ROCK COCAINE\",\"POSSESSION OF HALLUCINOGENIC FOR SALES\",\"SALE OF HEROIN\",\"SALE OF CONTROLLED SUBSTANCE\",\"SALE OF METH-AMPHETAMINE\",\"POSSESSION OF COCAINE FOR SALES\",\"SALE OF ALCOHOL TO MINOR\",\"POSSESSION OF AMPHETAMINE FOR SALES\",\"SALE OF OPIATES\",\"POSSESSION OF METHADONE FOR SALES\",\"POSSESSION OF OBSCENE MATTER FOR SALE\",\"SALE OF COCAINE\",\"POSSESSION OF OPIATES FOR SALES\",\"SALE OF BARBITUATES\",\"SALE OF ALCOHOL TO MINOR IN BAR\"],[\"ATTEMPTED HOMICIDE WITH A GUN\",\"ATTEMPTED HOMICIDE WITH A KNIFE\",\"ATTEMPTED HOMICIDE WITH A DANGEROUS WEAPON\",\"ATTEMPTED HOMICIDE WITH BODILY FORCE\"],[\"BATTERY\",\"BATTERY WITH SERIOUS INJURIES\",\"BATTERY OF A POLICE OFFICER\"],[\"LOST PROPERTY\",\"LOST/STOLEN LICENSE PLATE\"],[\"STOLEN TRUCK\",\"STOLEN AUTOMOBILE\",\"STOLEN MOTORCYCLE\",\"LOST/STOLEN LICENSE PLATE\",\"STOLEN AND RECOVERED VEHICLE\",\"ATTEMPTED STOLEN VEHICLE\",\"RECEIVING STOLEN PROPERTY\",\"STOLEN BUS\",\"STOLEN MISCELLANEOUS VEHICLE\"],[\"ARSON OF A VEHICLE\",\"FOUND PROPERTY\",\"DRIVING WHILE UNDER THE INFLUENCE OF ALCOHOL\",\"EVADING A POLICE OFFICER RECKLESSLY\",\"TRESPASSING\",\"DEFRAUDING AN INNKEEPER\",\"SUSPICIOUS OCCURRENCE\",\"DOMESTIC VIOLENCE\",\"THREATS AGAINST LIFE\",\"MISCELLANEOUS INVESTIGATION\",\"SHOOTING INTO INHABITED DWELLING OR OCCUPIED VEHICLE\",\"POSS OF FIREARM BY CONVICTED FELON/ADDICT/ALIEN\",\"CRUELTY TO ANIMALS\",\"INVESTIGATIVE DETENTION\",\"MISSING JUVENILE\",\"CASE CLOSURE\",\"RESISTING ARREST\",\"ENROUTE TO DEPARTMENT OF CORRECTIONS\",\"WARRANT ARREST\",\"TRAFFIC VIOLATION ARREST\",\"EXHIBITING DEADLY WEAPON IN A THREATING MANNER\",\"SPEEDING\",\"OPERATING TAXI WITHOUT A PERMIT\",\"AIDED CASE -PROPERTY FOR DESTRUCTION\",\"MISSING ADULT\",\"FOUND PERSON\",\"FALSE PERSONATION\",\"ENROUTE TO OUTSIDE JURISDICTION\",\"CARRYING A CONCEALED WEAPON\",\"POSS OF LOADED FIREARM\",\"GANG ACTIVITY\",\"INFLICT INJURY ON COHABITEE\",\"SEARCH WARRANT SERVICE\",\"PROPERTY FOR IDENTIFICATION\",\"PROBATION VIOLATION\",\"FALSE PERSONATION TO RECEIVE MONEY OR PROPERTY\",\"ARSON OF AN INHABITED DWELLING\",\"HARASSING PHONE CALLS\",\"COURTESY REPORT\",\"MISCELLANEOUS STATE FELONY\",\"VIOLATION OF MUNICIPAL CODE\",\"INJURY TO TELEGRAPH/TELEPHONE LINES\",\"SHELTER\",\"MINOR PURCHASING OR RECEIVING TOBACCO PRODUCT\",\"FALSE EVIDENCE OF VEHICLE REGISTRATION\",\"BEYOND PARENTAL CONTROL\",\"TRAFFIC VIOLATION\",\"THROWING SUBSTANCE AT VEHICLE\",\"UNDER INFLUENCE OF ALCOHOL IN A PUBLIC PLACE\",\"THREATENING PHONE CALL(S)\",\"LOCATED PROPERTY\",\"LOITERING FOR PURPOSE OF PROSTITUTION\",\"INDECENT EXPOSURE - PROSTITUTION RELATED\",\"VIOLATION OF EMERGENCY PROTECTIVE ORDER\",\"DRIVING WHILE UNDER THE INFLUENCE OF DRUGS\",\"ARSON\",\"CHILD ABUSE (PHYSICAL)\",\"FRAUDULENT USE OF AUTOMATED TELLER CARD\",\"CONSPIRACY\",\"DANGER OF LEADING IMMORAL LIFE\",\"PUBLIC TRANSIT CRIMES - INFRACTIONS\",\"PAROLE VIOLATION\",\"AIDED CASE\",\"CARRYING OF CONCEALED WEAPON BY CONVICTED FELON\",\"UNUSUAL OCCURENCE\",\"PROBATION SEARCH\",\"AID OR HARBOR FELON\",\"JUVENILE INVOLVED\",\"TAMPERING WITH A VEHICLE\",\"DISCHARGING IN GROSSLY NEGLIGENT MANNER\",\"FRAUDULENT CREDIT APPLICATION\",\"FIRE REPORT\",\"SUSPICIOUS ACT TOWARDS FEMALE\",\"TRANSPORTATION OF METH-AMPHETAMINE\",\"MISCELLANEOUS LIQOUR LAW VIOLATION\",\"POSS OF PROHIBITED WEAPON\",\"ENROUTE TO PAROLE OFFICER\",\"LICENSE REQUIRED TO SELL ALCOHOL\",\"TRAFFIC ACCIDENT\",\"TARASOFF REPORT\",\"VIOLATION OF RESTRAINING ORDER\",\"FALSE ID TO PEACE OFFICER\",\"ATTEMPTED MAYHEM WITH A DEADLY WEAPON\",\"OBSCENE PHONE CALLS(S)\",\"SUSPICIOUS PERSON\",\"VIOLATION OF STAY AWAY ORDER\",\"FALSE PERSONATION AND CHEAT CRIMES (GENERAL)\",\"ATM RELATED CRIME\",\"MISPLACED VEHICLE\",\"FALSE IMPRISONMENT\",\"FALSE REPORT OF EMERGENCY\",\"IMMORAL ACTS OR DRUNK IN PRESENCE OF CHILD\",\"VIOLATION OF MUNICIPAL POLICE CODE\",\"MISCELLANEOUS STATE MISDEMEANOR\",\"ENROUTE TO U.S. MARSHALL\",\"REFUSING TO DISPERSE UPON LAWFUL COMMAND\",\"INCIDENT ON SCHOOL GROUNDS\",\"THREATENING SCHOOL OR PUBLIC EMPLOYEE\",\"DISRUPTS SCHOOL ACTIVITIES\",\"LODGING WITHOUT PERMISSION\",\"COMMITTING PUBLIC NUISANCE\",\"DEFRAUDING TAXI DRIVER\",\"FORGERY & COUNTERFEITING (GENERAL)\",\"RESTRAINING ORDER NOTIFICATION/SERVICE OF RESTRAINING ORDER\",\"PAROLE SEARCH\",\"HUMAN TRAFFICKING\",\"EMBEZZLEMENT (GENERAL)\",\"ABANDONMENT OF CHILD\",\"SAFE BURGLARY OF A RESIDENCE\",\"FAILURE TO REGISTER AS SEX OFFENDER\",\"MASSAGE ESTABLISHMENT PERMIT VIOLATION\",\"THREAT OR FORCE TO RESIST EXECUTIVE OFFICER\",\"LOITERING WHILE CARRYING CONCEALED WEAPON\",\"WILLFUL CRUELTY TO CHILD\",\"ENROUTE TO ADULT AUTHORITY\",\"TURNED IN GUN\",\"LOITERS AROUND PUBLIC TOILET FOR LEWD ACT\",\"DISCHARGE FIREARM WITHIN CITY LIMITS\",\"ATTEMPTED SUICIDE\",\"STALKING\",\"ATTEMPTED SUICIDE BY JUMPING\",\"ATTEMPTED SUICIDE BY FIREARMS\",\"OPEN CONTAINER OF ALCOHOL IN VEHICLE\",\"POST RELEASE COMMUNITY SUPERVISION\",\"SAFE BURGLARY\",\"RECKLESS DRIVING\",\"VIOLATION OF PARK CODE\",\"VIOLATION OF FIRE CODE\",\"DAMAGE TO FIRE ALARM APPARATUS\",\"POSS OF TEAR GAS WEAPON\",\"GRAFFITI ON GOVERNMENT VEHICLES OR PUBLIC TRANSPORTATION\",\"SUSPICIOUS ACT TOWARDS CHILD\",\"CARJACKING WITH A GUN\",\"MAYHEM WITH A DEADLY WEAPON\",\"CARJACKING WITH BODILY FORCE\",\"IMPERSONATING FIRE DEPARTMENT MEMBER\",\"INDECENT EXPOSURE (JUVENILE VICTIM)\",\"ACTS AGAINST PUBLIC TRANSIT\",\"FAILURE TO HEED RED LIGHT AND SIREN\",\"UNDER INFLUENCE OF DRUGS IN A PUBLIC PLACE\",\"INDECENT EXPOSURE\",\"EVADING A POLICE VEHICLE OR BICYCLE\",\"OBSTRUCTIONS ON STREETS/SIDEWALKS\",\"VANDALISM OR GRAFFITI ON OR WITHIN 100 FT OF HIGHWAY\",\"LOCATED EXPLOSIVE DEVICE\",\"PLANTING/CULTIVATING MARIJUANA\",\"ESCAPE OR ASSISTING ESCAPE\",\"FALSE FIRE ALARM\",\"EMBEZZLEMENT FROM DEPENDENT OR ELDER ADULT BY CARETAKER\",\"MAINTAINING PREMISE WHERE NARCOTICS ARE SOLD/USED\",\"INMATE/KEEPER OF HOUSE OF PROSTITUTION\",\"DISTURBING THE PEACE\",\"PREJUDICE-BASED INCIDENT\",\"LOITERING WHERE NARCOTICS ARE SOLD/USED\",\"CONTRIBUTING TO THE DELINQUENCY OF MINOR\",\"ENROUTE TO PROBATION OFFICER\",\"INDECENT EXPOSURE WITH PRIOR CONVICTION\",\"RUNAWAY\",\"ATTEMPTED SUICIDE BY INGESTION\",\"TRESPASSING ON RAILROAD TRAINS\",\"CHILD STEALING\",\"SUSPICIOUS PACKAGE\",\"TRANSPORTAION OF CONTROLLED SUBSTANCE\",\"DISCHARGE FIREARM AT AN INHABITED DWELLING\",\"UNLAWFUL DISSUADING/THREATENING OF A WITNESS\",\"DAMAGE TO MAIL BOX\",\"INTOXICATED JUVENILE\",\"FIREARM WITH ALTERED IDENTIFICATION\",\"AUTO IMPOUNDED\",\"GAMBLING\",\"IMPERSONATING A POLICE OFFICER\",\"MAINTAINING A PUBLIC NUISANCE AFTER NOTIFICATION\",\"ATTEMPTED SHOPLIFTING\",\"CONSUMING ALCOHOL IN PUBLIC VIEW\",\"SCALPING TICKETS\",\"EMBEZZLED VEHICLE\",\"ATTEMPTED SUICIDE BY LACERATION\",\"UNLAWFUL TRANSPORTATION OF ALCOHOL\",\"ARSON OF A VACANT BUILDING\",\"SAFE BURGLARY OF A STORE\",\"MAYHEM WITH A GUN\",\"FORGE OR ALTER PRESCRIPTION\",\"UNDER THE INFLUENCE OF CONTROLLED SUBSTANCES\",\"IMPOUNDED VEHICLE\",\"MINOR WITHOUT PROPER PARENTAL CARE\",\"ACCIDENTAL BURNS\",\"ATTEMPTED EXTORTION\",\"FALSE REPORT OF BOMB\",\"PHONE CALLS IN VIOLATION OF DV COURT ORDER\",\"PEDDLING WITHOUT A LICENSE\",\"ATTEMPTED ARSON\",\"BRIBERY OF EXECUTIVE OFFICER\",\"PANDERING\",\"PIMPING\",\"ATTEMPTED AUTO STRIP\",\"VIOLATION OF FEDERAL STATUTE\",\"FAILURE TO PROVIDE FOR CHILD\",\"AGGRESSIVE SOLICITING\",\"TRANSPORTATION OF COCAINE\",\"IMPERSONATING PUBLIC UTILITY MEMBER\",\"SOLICITS LEWD ACT\",\"JUDGE/JUROR ACCEPTING A BRIBE\",\"HABITUAL TRUANT\",\"PEEPING TOM\",\"TAMPERING WITH MARKS ON FIREARM\",\"SUICIDE BY STRANGULATION\",\"TRANSPORTATION OF MARIJUANA\",\"SOLICITS FOR ACT OF PROSTITUTION\",\"SELLING/DISCHARGING OF FIRECRACKERS\",\"FALSE REPORT OF CRIME\",\"SPITTING ON SIDEWALK\",\"OTHER OFFENSES AGAINST PUBLIC JUSTICE\",\"LYNCHING BY RIOT\",\"MAYHEM WITH BODILY FORCE\",\"DESTROYING JAIL PROPERTY-OVER $200\",\"TERRORIZING BY ARSON OR EXPLOSIVE DEVICE\",\"MINOR PURCHASING ALCOHOL\",\"FALSIFYING JUDICIAL & PUBLIC RECORDS & DOCUMENTS\",\"UNSOLICITED FAX ADVERTISING\",\"EXTORTION\",\"UNAUTHORIZED USE OF LOUD SPEAKERS\",\"THROWING INJURIOUS SUBSTANCE ON HIGHWAY\",\"OPERATING WITHOUT DANCEHALL PERMIT\",\"TRANSPORTATION OF HEROIN\",\"ESCAPE FROM JAIL\",\"FAILURE TO REGISTER AS NARCOTICS ADDICT\",\"SUICIDE BY FIREARMS\"]],\"incidntNum\":[[8,5,10,8,5,9,21,11,10,7,10,15,16,14,15,16,19,23,18,19,19,10,6,6],[93,154,238,298,365,419,517,441,479,515,548,655,820,721,681,595,565,462,356,231,144,88,65,66],[22,14,18,16,20,19,28,19,29,46,46,45,47,23,40,33,46,43,46,34,53,27,15,17],[9,27,32,57,39,66,66,97,79,89,100,116,96,64,87,38,57,67,59,35,37,28,7,9],[0,4,4,10,14,37,21,28,36,32,33,32,26,11,29,4,12,4,7,4,5,5,0,1],[0,0,0,0,0,0,0,2,2,0,1,2,0,2,2,3,4,3,2,1,2,2,1,1],[7,28,33,41,46,51,50,46,51,60,54,67,46,53,60,56,62,42,46,54,39,18,10,15],[20,27,69,74,85,65,121,83,63,96,95,98,89,78,66,80,63,74,71,38,36,14,3,10],[46,40,93,84,64,55,116,68,70,105,111,163,203,167,186,151,178,149,79,56,39,25,19,23],[194,321,472,511,588,607,878,601,642,705,752,808,656,642,541,529,596,526,715,355,288,201,119,148]],\"max\":[23,18,26,17,11,22,17,12,18,12],\"min\":[23,18,26,17,11,22,17,12,18,12],\"percent\":[\"1.02%\",\"32.20%\",\"2.52%\",\"4.61%\",\"1.21%\",\"0.10%\",\"3.50%\",\"5.14%\",\"7.75%\",\"41.95%\"],\"totIncidents\":[300,9516,746,1361,359,30,1035,1518,2290,12395]},\"selected\":{\"id\":\"869b8e96-c87f-47a1-8437-75479227c707\",\"type\":\"Selection\"},\"selection_policy\":{\"id\":\"71919860-d066-442a-a72e-73202f4705bb\",\"type\":\"UnionRenderers\"}},\"id\":\"fb93672b-0084-4c66-b1b8-412f517f5cc8\",\"type\":\"ColumnDataSource\"}],\"root_ids\":[\"1b9752c4-81b2-4d02-ac9e-220e4059664b\"]},\"title\":\"Bokeh Application\",\"version\":\"0.13.0\"}};\n",
       "  var render_items = [{\"docid\":\"4e667dc9-f4ce-41a7-82b2-b04dc8c0d0d1\",\"roots\":{\"1b9752c4-81b2-4d02-ac9e-220e4059664b\":\"f9e9fa25-ab1a-4df9-9354-c780601caa08\"}}];\n",
       "  root.Bokeh.embed.embed_items_notebook(docs_json, render_items);\n",
       "\n",
       "  }\n",
       "  if (root.Bokeh !== undefined) {\n",
       "    embed_document(root);\n",
       "  } else {\n",
       "    var attempts = 0;\n",
       "    var timer = setInterval(function(root) {\n",
       "      if (root.Bokeh !== undefined) {\n",
       "        embed_document(root);\n",
       "        clearInterval(timer);\n",
       "      }\n",
       "      attempts++;\n",
       "      if (attempts > 100) {\n",
       "        console.log(\"Bokeh: ERROR: Unable to run BokehJS code because BokehJS library is missing\")\n",
       "        clearInterval(timer);\n",
       "      }\n",
       "    }, 10, root)\n",
       "  }\n",
       "})(window);"
      ],
      "application/vnd.bokehjs_exec.v0+json": ""
     },
     "metadata": {
      "application/vnd.bokehjs_exec.v0+json": {
       "id": "1b9752c4-81b2-4d02-ac9e-220e4059664b"
      }
     },
     "output_type": "display_data"
    }
   ],
   "source": [
    "from bokeh.palettes import brewer\n",
    "\n",
    "allIncidents = float(sum(data['totIncidents']))\n",
    "data['percent'] = map(lambda x: '{0:.2f}'.format(x/allIncidents*100.0) + \"%\", data['totIncidents'])\n",
    "data['angle'] = map(lambda x: x/allIncidents*2*pi, data['totIncidents'])\n",
    "data['color'] = brewer['Spectral'][len(data['categories'])]\n",
    "\n",
    "p = figure(plot_height=350, title=\"Proportion of incident categories\", toolbar_location=None,\n",
    "        tools=\"hover\", tooltips=\"@categories: @percent\")\n",
    "\n",
    "p.wedge(x=0, y=1, radius=0.4,\n",
    "        start_angle=cumsum('angle', include_zero=True), end_angle=cumsum('angle'),\n",
    "        line_color=\"white\", fill_color='color', legend='categories', source=data)\n",
    "p.axis.visible = None\n",
    "p.xgrid.visible = False\n",
    "p.ygrid.visible = False\n",
    "show(p)"
   ]
  },
  {
   "cell_type": "markdown",
   "metadata": {},
   "source": [
    "We can see that the majority of incidents actually do not fit in any of the categories that we have listed - so the the \"OTHER\" category accounts for 41.95%. The next most popular incident category is theft 32.20%. More serious types of incidents such as \"ROBBERY\", \"HOMICIDE\", \"ASSAULT\" account for quite little of the total incidents. \"POSSESSION\" and \"SALE\" refer to drug related incidents and they and \"LOST\" and \"STOLEN\" (which relate to property incidents) "
   ]
  },
  {
   "cell_type": "markdown",
   "metadata": {},
   "source": [
    "We can compare the time when the most occurences of a category of incidents occur for the different categories. We then display a horizontal bar chart for each category. We also display the average (i.e. for all categories) in a different colour (green) to act as a baseline. There is a hover-over tooltip which displays the hour when most incidents occur for a category."
   ]
  },
  {
   "cell_type": "code",
   "execution_count": 8,
   "metadata": {},
   "outputs": [
    {
     "data": {
      "text/html": [
       "\n",
       "\n",
       "\n",
       "\n",
       "\n",
       "\n",
       "  <div class=\"bk-root\" id=\"a7fccc31-4c23-4ea7-a180-9b960204d297\"></div>\n"
      ]
     },
     "metadata": {},
     "output_type": "display_data"
    },
    {
     "data": {
      "application/javascript": [
       "(function(root) {\n",
       "  function embed_document(root) {\n",
       "    \n",
       "  var docs_json = {\"9b4fd60d-4981-4c8a-bdeb-b1a799abe3da\":{\"roots\":{\"references\":[{\"attributes\":{\"fill_alpha\":{\"value\":0.1},\"fill_color\":{\"value\":\"#1f77b4\"},\"height\":{\"value\":0.8},\"left\":{\"value\":6},\"line_alpha\":{\"value\":0.1},\"line_color\":{\"value\":\"#1f77b4\"},\"right\":{\"field\":\"max\"},\"y\":{\"field\":\"categories\"}},\"id\":\"21d830af-1477-4213-80ea-5f6d8eacec12\",\"type\":\"HBar\"},{\"attributes\":{\"plot\":null,\"text\":\"Total number of police incidents at each hour throughout the summer of 2014\"},\"id\":\"d74cbc8f-5310-4d54-b33d-cb66c172d408\",\"type\":\"Title\"},{\"attributes\":{\"callback\":null,\"renderers\":\"auto\",\"tooltips\":\"@categories: @max_Time\"},\"id\":\"2a530d91-6de3-4313-b6cc-fd759420d810\",\"type\":\"HoverTool\"},{\"attributes\":{},\"id\":\"df08e86f-b873-464c-80c4-4d496dee2462\",\"type\":\"CategoricalTickFormatter\"},{\"attributes\":{\"below\":[{\"id\":\"603ef0ed-b954-40ab-a1f5-c65ab80d6045\",\"type\":\"LinearAxis\"}],\"left\":[{\"id\":\"e43d7d38-96cb-4fb3-9997-a83b0e8d8cbb\",\"type\":\"CategoricalAxis\"}],\"renderers\":[{\"id\":\"603ef0ed-b954-40ab-a1f5-c65ab80d6045\",\"type\":\"LinearAxis\"},{\"id\":\"bc6e1a3f-d7a8-4659-9462-1812593fcc32\",\"type\":\"Grid\"},{\"id\":\"e43d7d38-96cb-4fb3-9997-a83b0e8d8cbb\",\"type\":\"CategoricalAxis\"},{\"id\":\"d24f8f2f-880e-48f3-bc67-8c90de1752e2\",\"type\":\"Grid\"},{\"id\":\"9aa9665b-2b2b-4ce6-9c22-57227cca99d8\",\"type\":\"GlyphRenderer\"}],\"title\":{\"id\":\"d74cbc8f-5310-4d54-b33d-cb66c172d408\",\"type\":\"Title\"},\"toolbar\":{\"id\":\"d44db6f2-ce00-4bde-a787-23c04fd2b26a\",\"type\":\"Toolbar\"},\"x_range\":{\"id\":\"3edf1703-106d-4086-9bd1-d63621628579\",\"type\":\"DataRange1d\"},\"x_scale\":{\"id\":\"b95500ee-ce50-4194-a9f7-a13cdb763e55\",\"type\":\"LinearScale\"},\"y_range\":{\"id\":\"7e83fdad-b4ad-4da8-8d69-fb6915b4c2fd\",\"type\":\"FactorRange\"},\"y_scale\":{\"id\":\"f5529e04-885d-4d53-a422-c578905a55ff\",\"type\":\"CategoricalScale\"}},\"id\":\"287e472e-d594-4f04-90ff-ead349f28abf\",\"subtype\":\"Figure\",\"type\":\"Plot\"},{\"attributes\":{\"formatter\":{\"id\":\"df08e86f-b873-464c-80c4-4d496dee2462\",\"type\":\"CategoricalTickFormatter\"},\"plot\":{\"id\":\"287e472e-d594-4f04-90ff-ead349f28abf\",\"subtype\":\"Figure\",\"type\":\"Plot\"},\"ticker\":{\"id\":\"607062f1-3d05-4198-a6e6-9f3edc6a0fb4\",\"type\":\"CategoricalTicker\"}},\"id\":\"e43d7d38-96cb-4fb3-9997-a83b0e8d8cbb\",\"type\":\"CategoricalAxis\"},{\"attributes\":{},\"id\":\"d229586d-619d-4598-a118-dabca8b6dbcf\",\"type\":\"Selection\"},{\"attributes\":{},\"id\":\"f5529e04-885d-4d53-a422-c578905a55ff\",\"type\":\"CategoricalScale\"},{\"attributes\":{\"callback\":null,\"factors\":[\"SALE\",\"LOST\",\"OTHER\",\"POSSESSION\",\"BATTERY\",\"THEFT\",\"STOLEN\",\"AVERAGE\",\"HOMICIDE\",\"ROBBERY\",\"ASSAULT\"]},\"id\":\"7e83fdad-b4ad-4da8-8d69-fb6915b4c2fd\",\"type\":\"FactorRange\"},{\"attributes\":{},\"id\":\"b95500ee-ce50-4194-a9f7-a13cdb763e55\",\"type\":\"LinearScale\"},{\"attributes\":{\"callback\":null,\"data\":{\"categories\":[\"SALE\",\"LOST\",\"OTHER\",\"POSSESSION\",\"BATTERY\",\"THEFT\",\"STOLEN\",\"AVERAGE\",\"HOMICIDE\",\"ROBBERY\",\"ASSAULT\"],\"colour\":[\"blue\",\"blue\",\"blue\",\"blue\",\"blue\",\"blue\",\"blue\",\"green\",\"blue\",\"blue\",\"blue\"],\"index\":[4,7,9,3,6,1,8,10,5,0,2],\"max\":[11,12,12,17,17,18,18,18,22,23,26],\"max_Time\":[\"11:00\",\"12:00\",\"12:00\",\"17:00\",\"17:00\",\"18:00\",\"18:00\",\"18:00\",\"22:00\",\"23:00\",\"02:00\"]},\"selected\":{\"id\":\"d229586d-619d-4598-a118-dabca8b6dbcf\",\"type\":\"Selection\"},\"selection_policy\":{\"id\":\"e0902d1c-26aa-4488-8638-81747c1527a2\",\"type\":\"UnionRenderers\"}},\"id\":\"e726c9a1-2bbf-48a0-9568-62f2211d7937\",\"type\":\"ColumnDataSource\"},{\"attributes\":{},\"id\":\"607062f1-3d05-4198-a6e6-9f3edc6a0fb4\",\"type\":\"CategoricalTicker\"},{\"attributes\":{\"active_drag\":\"auto\",\"active_inspect\":\"auto\",\"active_multi\":null,\"active_scroll\":\"auto\",\"active_tap\":\"auto\",\"tools\":[{\"id\":\"2a530d91-6de3-4313-b6cc-fd759420d810\",\"type\":\"HoverTool\"}]},\"id\":\"d44db6f2-ce00-4bde-a787-23c04fd2b26a\",\"type\":\"Toolbar\"},{\"attributes\":{\"dimension\":1,\"plot\":{\"id\":\"287e472e-d594-4f04-90ff-ead349f28abf\",\"subtype\":\"Figure\",\"type\":\"Plot\"},\"ticker\":{\"id\":\"607062f1-3d05-4198-a6e6-9f3edc6a0fb4\",\"type\":\"CategoricalTicker\"}},\"id\":\"d24f8f2f-880e-48f3-bc67-8c90de1752e2\",\"type\":\"Grid\"},{\"attributes\":{\"fill_color\":{\"field\":\"colour\"},\"height\":{\"value\":0.8},\"left\":{\"value\":6},\"line_color\":{\"value\":\"#1f77b4\"},\"right\":{\"field\":\"max\"},\"y\":{\"field\":\"categories\"}},\"id\":\"2bc56f13-f7e8-4bba-bf54-a54c1df32939\",\"type\":\"HBar\"},{\"attributes\":{\"source\":{\"id\":\"e726c9a1-2bbf-48a0-9568-62f2211d7937\",\"type\":\"ColumnDataSource\"}},\"id\":\"46b74487-978e-4a20-9e07-556d86e820f1\",\"type\":\"CDSView\"},{\"attributes\":{},\"id\":\"e238d1e1-eeb8-4376-9c2a-26bda12705e1\",\"type\":\"BasicTicker\"},{\"attributes\":{},\"id\":\"e0902d1c-26aa-4488-8638-81747c1527a2\",\"type\":\"UnionRenderers\"},{\"attributes\":{\"callback\":null},\"id\":\"3edf1703-106d-4086-9bd1-d63621628579\",\"type\":\"DataRange1d\"},{\"attributes\":{\"plot\":{\"id\":\"287e472e-d594-4f04-90ff-ead349f28abf\",\"subtype\":\"Figure\",\"type\":\"Plot\"},\"ticker\":{\"id\":\"e238d1e1-eeb8-4376-9c2a-26bda12705e1\",\"type\":\"BasicTicker\"}},\"id\":\"bc6e1a3f-d7a8-4659-9462-1812593fcc32\",\"type\":\"Grid\"},{\"attributes\":{\"axis_label\":\"Peak time for incident categories\",\"formatter\":{\"id\":\"cfa6c7aa-684d-405f-99ba-fa4c01ab34ca\",\"type\":\"FuncTickFormatter\"},\"plot\":{\"id\":\"287e472e-d594-4f04-90ff-ead349f28abf\",\"subtype\":\"Figure\",\"type\":\"Plot\"},\"ticker\":{\"id\":\"e238d1e1-eeb8-4376-9c2a-26bda12705e1\",\"type\":\"BasicTicker\"}},\"id\":\"603ef0ed-b954-40ab-a1f5-c65ab80d6045\",\"type\":\"LinearAxis\"},{\"attributes\":{\"code\":\"\\n    var s = \\\"0\\\" + ((tick%1)*60.0).toFixed(0);\\n    return (tick % 24).toFixed(0) + \\\":\\\" + s.substr(s.length-2);\\n\"},\"id\":\"cfa6c7aa-684d-405f-99ba-fa4c01ab34ca\",\"type\":\"FuncTickFormatter\"},{\"attributes\":{\"data_source\":{\"id\":\"e726c9a1-2bbf-48a0-9568-62f2211d7937\",\"type\":\"ColumnDataSource\"},\"glyph\":{\"id\":\"2bc56f13-f7e8-4bba-bf54-a54c1df32939\",\"type\":\"HBar\"},\"hover_glyph\":null,\"muted_glyph\":null,\"nonselection_glyph\":{\"id\":\"21d830af-1477-4213-80ea-5f6d8eacec12\",\"type\":\"HBar\"},\"selection_glyph\":null,\"view\":{\"id\":\"46b74487-978e-4a20-9e07-556d86e820f1\",\"type\":\"CDSView\"}},\"id\":\"9aa9665b-2b2b-4ce6-9c22-57227cca99d8\",\"type\":\"GlyphRenderer\"}],\"root_ids\":[\"287e472e-d594-4f04-90ff-ead349f28abf\"]},\"title\":\"Bokeh Application\",\"version\":\"0.13.0\"}};\n",
       "  var render_items = [{\"docid\":\"9b4fd60d-4981-4c8a-bdeb-b1a799abe3da\",\"roots\":{\"287e472e-d594-4f04-90ff-ead349f28abf\":\"a7fccc31-4c23-4ea7-a180-9b960204d297\"}}];\n",
       "  root.Bokeh.embed.embed_items_notebook(docs_json, render_items);\n",
       "\n",
       "  }\n",
       "  if (root.Bokeh !== undefined) {\n",
       "    embed_document(root);\n",
       "  } else {\n",
       "    var attempts = 0;\n",
       "    var timer = setInterval(function(root) {\n",
       "      if (root.Bokeh !== undefined) {\n",
       "        embed_document(root);\n",
       "        clearInterval(timer);\n",
       "      }\n",
       "      attempts++;\n",
       "      if (attempts > 100) {\n",
       "        console.log(\"Bokeh: ERROR: Unable to run BokehJS code because BokehJS library is missing\")\n",
       "        clearInterval(timer);\n",
       "      }\n",
       "    }, 10, root)\n",
       "  }\n",
       "})(window);"
      ],
      "application/vnd.bokehjs_exec.v0+json": ""
     },
     "metadata": {
      "application/vnd.bokehjs_exec.v0+json": {
       "id": "287e472e-d594-4f04-90ff-ead349f28abf"
      }
     },
     "output_type": "display_data"
    }
   ],
   "source": [
    "from bokeh.layouts import row\n",
    "from bokeh.models import FuncTickFormatter\n",
    "\n",
    "data_MAX = {\n",
    "     'categories' : list(data['categories']),\n",
    "     'max': list(data['max']), \n",
    "     'colour' : ['blue']*len(data['max'])\n",
    "    }\n",
    "\n",
    "# Add the average\n",
    "data_MAX[\"categories\"].append('AVERAGE')\n",
    "data_MAX[\"max\"].append(maxHour)\n",
    "data_MAX[\"colour\"].append(\"green\")\n",
    "\n",
    "df_Categories = pd.DataFrame(data_MAX, columns=data_MAX.keys())\n",
    "# rotate the time\n",
    "df_Categories['max'] = df_Categories['max'].transform(rotateTime)\n",
    "df_Categories['max_Time'] = map(lambda x: str(x%24).zfill(2)+\":00\", df_Categories['max'])\n",
    "\n",
    "df_Categories = df_Categories.sort_values(by=['max'], ascending=True)\n",
    "\n",
    "p = figure(title=\"Total number of police incidents at each hour throughout the summer of 2014\", \n",
    "            y_range=df_Categories[\"categories\"], tools=\"hover\", tooltips=\"@categories: @max_Time\")\n",
    "p.hbar(height=0.8, y='categories', right=\"max\", left=6, source=df_Categories, fill_color=\"colour\")\n",
    "p.xaxis.formatter = timeFormatter\n",
    "p.xaxis.axis_label = \"Peak time for incident categories\"\n",
    "show(p)\n"
   ]
  },
  {
   "cell_type": "markdown",
   "metadata": {},
   "source": [
    "From the above graph we can see that although violent incident types which we more typically think of, such as \"ASSAULT\", \"ROBBERY\", \"HOMICIDE\" do occur late at night (22:00, 23:00 and 2:00am) but these incidents account for very little of the total. The majority of incidents which fall into the \"OTHER\" category have peaks early at 12:00. \"THEFT\" which accounts for a high proportion of incidents have a peak at 18:00."
   ]
  },
  {
   "cell_type": "markdown",
   "metadata": {},
   "source": [
    "Lastly we want to investigate the relative occurence of different categories throughout the day. To do so we will create a stacked area chart of the relative proportion of incident categories for each hour. \n",
    "\n",
    "The bokeh library does not support stacked graphs directly but they can be acheived using the \"patches' but does require some work. "
   ]
  },
  {
   "cell_type": "code",
   "execution_count": 9,
   "metadata": {
    "scrolled": false
   },
   "outputs": [
    {
     "data": {
      "text/html": [
       "\n",
       "\n",
       "\n",
       "\n",
       "\n",
       "\n",
       "  <div class=\"bk-root\" id=\"4e1b2aff-e4b2-4798-8e35-5c995db7f81d\"></div>\n"
      ]
     },
     "metadata": {},
     "output_type": "display_data"
    },
    {
     "data": {
      "application/javascript": [
       "(function(root) {\n",
       "  function embed_document(root) {\n",
       "    \n",
       "  var docs_json = {\"4ee28b69-4a17-48f4-84ee-f59cdd05523c\":{\"roots\":{\"references\":[{\"attributes\":{},\"id\":\"9fb809ff-d0e7-4f05-9bd6-50a00f417240\",\"type\":\"SaveTool\"},{\"attributes\":{},\"id\":\"a66ac9d6-2b39-45ce-aa77-2e345dd2c6c7\",\"type\":\"PanTool\"},{\"attributes\":{\"callback\":null,\"data\":{\"col\":[\"#5e4fa2\",\"#3288bd\",\"#66c2a5\",\"#abdda4\",\"#e6f598\",\"#fee08b\",\"#fdae61\",\"#f46d43\",\"#d53e4f\",\"#9e0142\"],\"names\":[\"ROBBERY\",\"THEFT\",\"ASSAULT\",\"POSSESSION\",\"SALE\",\"HOMICIDE\",\"BATTERY\",\"LOST\",\"STOLEN\",\"OTHER\"],\"xs\":[[29,28,27,26,25,24,23,22,21,20,19,18,17,16,15,14,13,12,11,10,9,8,7,6,6,7,8,9,10,11,12,13,14,15,16,17,18,19,20,21,22,23,24,25,26,27,28,29],[29,28,27,26,25,24,23,22,21,20,19,18,17,16,15,14,13,12,11,10,9,8,7,6,6,7,8,9,10,11,12,13,14,15,16,17,18,19,20,21,22,23,24,25,26,27,28,29],[29,28,27,26,25,24,23,22,21,20,19,18,17,16,15,14,13,12,11,10,9,8,7,6,6,7,8,9,10,11,12,13,14,15,16,17,18,19,20,21,22,23,24,25,26,27,28,29],[29,28,27,26,25,24,23,22,21,20,19,18,17,16,15,14,13,12,11,10,9,8,7,6,6,7,8,9,10,11,12,13,14,15,16,17,18,19,20,21,22,23,24,25,26,27,28,29],[29,28,27,26,25,24,23,22,21,20,19,18,17,16,15,14,13,12,11,10,9,8,7,6,6,7,8,9,10,11,12,13,14,15,16,17,18,19,20,21,22,23,24,25,26,27,28,29],[29,28,27,26,25,24,23,22,21,20,19,18,17,16,15,14,13,12,11,10,9,8,7,6,6,7,8,9,10,11,12,13,14,15,16,17,18,19,20,21,22,23,24,25,26,27,28,29],[29,28,27,26,25,24,23,22,21,20,19,18,17,16,15,14,13,12,11,10,9,8,7,6,6,7,8,9,10,11,12,13,14,15,16,17,18,19,20,21,22,23,24,25,26,27,28,29],[29,28,27,26,25,24,23,22,21,20,19,18,17,16,15,14,13,12,11,10,9,8,7,6,6,7,8,9,10,11,12,13,14,15,16,17,18,19,20,21,22,23,24,25,26,27,28,29],[29,28,27,26,25,24,23,22,21,20,19,18,17,16,15,14,13,12,11,10,9,8,7,6,6,7,8,9,10,11,12,13,14,15,16,17,18,19,20,21,22,23,24,25,26,27,28,29],[29,28,27,26,25,24,23,22,21,20,19,18,17,16,15,14,13,12,11,10,9,8,7,6,6,7,8,9,10,11,12,13,14,15,16,17,18,19,20,21,22,23,24,25,26,27,28,29]],\"ys\":[{\"__ndarray__\":\"AAAAAAAAAAAAAAAAAAAAAAAAAAAAAAAAAAAAAAAAAAAAAAAAAAAAAAAAAAAAAAAAAAAAAAAAAAAAAAAAAAAAAAAAAAAAAAAAAAAAAAAAAAAAAAAAAAAAAAAAAAAAAAAAAAAAAAAAAAAAAAAAAAAAAAAAAAAAAAAAAAAAAAAAAAAAAAAAAAAAAAAAAAAAAAAAAAAAAAAAAAAAAAAAAAAAAAAAAAAAAAAAAAAAAAAAAAAAAAAAAAAAAAAAAAAAAAAAgEgBIgWIlD+EEEIIIYSAP2aOPd+bIoU/uVWwQfLQfT+Oz2M9abRwPx9yWTFQwns/T/6dyyGohz8paBqMNSOAP2Cyro8cCXw/DxkSjRBTcT+xqTTk3Gd3P15RRMpjtH4/R72m9mZkgD85vSCzOieAP+UkHqUZ/4E/pTgTb9PFhT8v7H22JUqIP3m9CftK6JA/QO7m/qlZij+X1QrHp4aXPxWPdTjFY50/PJ8eN2N/mD+rbDhi2hOZPxxMkc+6wZQ/\",\"dtype\":\"float64\",\"shape\":[48]},{\"__ndarray__\":\"HEyRz7rBlD+rbDhi2hOZPzyfHjdjf5g/FY91OMVjnT+X1QrHp4aXP0Du5v6pWYo/eb0J+0rokD8v7H22JUqIP6U4E2/TxYU/5SQepRn/gT85vSCzOieAP0e9pvZmZIA/XlFEymO0fj+xqTTk3Gd3Pw8ZEo0QU3E/YLKujxwJfD8paBqMNSOAP0/+ncshqIc/H3JZMVDCez+Oz2M9abRwP7lVsEHy0H0/Zo4935sihT+EEEIIIYSAP4BIASIFiJQ/NQPVDFQz0D9qQJsGtGnQP/XnAs04YdA/PGNCyeDR0T/8Z/uumVDTP6895LJioNQ/7nDrrILw0j/Xooof2bjUP35HyAXDa9U/xfGDbaQv1D8ntyrKJ2jUP8lYKqXlbdU/DkG8HvDD2j9ytuFNXIDaP+Ub0pVLGNo/GHAN0ZP72T8fHKiysVTXP8ICgWJoSNY/XdWeRP8b0T9VEdhy11jTPwQRfvdAhM8/EIOFI3MCzj8Ku/ktBIzSPyryWTeYIs8/\",\"dtype\":\"float64\",\"shape\":[48]},{\"__ndarray__\":\"KvJZN5gizz8Ku/ktBIzSPxCDhSNzAs4/BBF+90CEzz9VEdhy11jTP13VnkT/G9E/wgKBYmhI1j8fHKiysVTXPxhwDdGT+9k/5RvSlUsY2j9ytuFNXIDaPw5BvB7ww9o/yVgqpeVt1T8ntyrKJ2jUP8Xxg22kL9Q/fkfIBcNr1T/Xooof2bjUP+5w66yC8NI/rz3ksmKg1D/8Z/uumVDTPzxjQsng0dE/9ecCzThh0D9qQJsGtGnQPzUD1QxUM9A/qzut7rS60z/cobodqtvRP5GRkZGRkdE/6uVPW2jA0j/1pNFC4FvUPzq/9pDLitU/3LC8atns0z8w4THs1pfVP8b+SoT5sNY/6qgkRQf31T/AGfgQ0hbWP5mMpVJa3tY/bo9gkidF3D9OiTgIqVTbP/ielGM4mNs/Py228dNi2z+SlaxkJSvZP1XjW8woQtg/uQ0zn7Y20z+kEeWUbfrVP1mHUzzW4dQ/Z+wPg4Uj0z8FjFJNHnfWP+WzbjBFPtM/\",\"dtype\":\"float64\",\"shape\":[48]},{\"__ndarray__\":\"5bNuMEU+0z8FjFJNHnfWP2fsD4OFI9M/WYdTPNbh1D+kEeWUbfrVP7kNM5+2NtM/VeNbzChC2D+SlaxkJSvZPz8ttvHTYts/+J6UYziY2z9OiTgIqVTbP26PYJInRdw/mYylUlre1j/AGfgQ0hbWP+qoJEUH99U/xv5KhPmw1j8w4THs1pfVP9ywvGrZ7NM/Or/2kMuK1T/1pNFC4FvUP+rlT1towNI/kZGRkZGR0T/cobodqtvRP6s7re60utM/xFIRS0Us1T+mlFJKKaXUPzWG5CehrtM/dQegUysS1j90NYBJEGXWP6Op82sPudg/1lkF4aU/1j+2s4fzRAraP/5bBz7mJto/m9OY/Blo2T9EVKCUDL/ZP9S8fGEmlNo/69Kf4PpX3z/oyGFGaKPdP3XiTtZB294/c5r0ooIA3T+2Y8jtGHLbP8l8aeIwVts/y5hr7Kzp1T+MKKds06/YPzzW4RSPddg/RUi1rANt1z9HqSaPO0vYPwhT5LNuMNU/\",\"dtype\":\"float64\",\"shape\":[48]},{\"__ndarray__\":\"CFPks24w1T9HqSaPO0vYP0VItawDbdc/PNbhFI912D+MKKds06/YP8uYa+ys6dU/yXxp4jBW2z+2Y8jtGHLbP3Oa9KKCAN0/deJO1kHb3j/oyGFGaKPdP+vSn+D6V98/1Lx8YSaU2j9EVKCUDL/ZP5vTmPwZaNk//lsHPuYm2j+2s4fzRAraP9ZZBeGlP9Y/o6nzaw+52D90NYBJEGXWP3UHoFMrEtY/NYbkJ6Gu0z+mlFJKKaXUP8RSEUtFLNU/xFIRS0Us1T8Q1e1Q3Q7VP8nkrhpD8tM/InnoDkCn1j+8+WIXKCDXP7/2kMuKgdo/yEli7+b81j+LKn5k41LbP9NiHKacuts/+PnQT+Sk2j832JcrAfTaP1eMB7Upmts/RCWTDYoW4D/X3xAl8QjeP0lO4lGa8d8/5MDSSQ4s3T++S7Pv0uzbP+7wcdQ8hds/BtkSb6c71j/wgntDEv/YPzjFYx1O8dg/Pz1uxv4w2D9HqSaPO0vYP37WDabIZ9U/\",\"dtype\":\"float64\",\"shape\":[48]},{\"__ndarray__\":\"ftYNpshn1T9HqSaPO0vYPz89bsb+MNg/OMVjHU7x2D/wgntDEv/YPwbZEm+nO9Y/7vBx1DyF2z++S7Pv0uzbP+TA0kkOLN0/SU7iUZrx3z/X3xAl8QjeP0Qlkw2KFuA/V4wHtSma2z832JcrAfTaP/j50E/kpNo/02Icppy62z+LKn5k41LbP8hJYu/m/NY/v/aQy4qB2j+8+WIXKCDXPyJ56A5Ap9Y/yeSuGkPy0z8Q1e1Q3Q7VP8RSEUtFLNU/xFIRS0Us1T8Q1e1Q3Q7VP8nkrhpD8tM/InnoDkCn1j+8+WIXKCDXP7/2kMuKgdo/yEli7+b81j9RxY9sXGrbP/tUj1YK0ds/+PnQT+Sk2j/hhlnqXf3aP085QOqJqts/RCWTDYoW4D/UKQIfZxveP5+dr0dmAuA/uV35BrdM3T8WmQGbuxXcPwpI+MmFqNs/hDRnlBNT1j+JmTD54RLZPzaLZLrNItk/PZ8eN2N/2D++P9cqG47YP/RZN5gin9U/\",\"dtype\":\"float64\",\"shape\":[48]},{\"__ndarray__\":\"9Fk3mCKf1T++P9cqG47YPz2fHjdjf9g/Notkus0i2T+JmTD54RLZP4Q0Z5QTU9Y/Ckj4yYWo2z8WmQGbuxXcP7ld+Qa3TN0/n52vR2YC4D/UKQIfZxveP0Qlkw2KFuA/TzlA6omq2z/hhlnqXf3aP/j50E/kpNo/+1SPVgrR2z9RxY9sXGrbP8hJYu/m/NY/v/aQy4qB2j+8+WIXKCDXPyJ56A5Ap9Y/yeSuGkPy0z8Q1e1Q3Q7VP8RSEUtFLNU/u2TtkrVL1j/0lyx/yfLXPxJxtC07INY//xcrdXsK2T9f7AIF5IbZP4Q3mjq/9tw/Xxeh1IG/2D8crSQmPIbdP/9zAmr3DN4/5kHaq9/23D/MXjQn7vbcP8rbKuEgz90/xaKnrQzT4D9AKT6/TgLgP+1/AeJXIuE/63cfJ1qu3z/oRz/60Y/eP5QLUTeDlt0/4Gz77spt2D/LXWNNskDdPxig8y8G6Nw/JxFSLetA2z9lIL0/1yrbP9gNpshn3dg/\",\"dtype\":\"float64\",\"shape\":[48]},{\"__ndarray__\":\"2A2myGfd2D9lIL0/1yrbPycRUi3rQNs/GKDzLwbo3D/LXWNNskDdP+Bs++7Kbdg/lAtRN4OW3T/oRz/60Y/eP+t3Hydart8/7X8B4lci4T9AKT6/TgLgP8Wip60M0+A/ytsq4SDP3T/MXjQn7vbcP+ZB2qvf9tw//3MCavcM3j8crSQmPIbdP18XodSBv9g/hDeaOr/23D9f7AIF5IbZP/8XK3V7Ctk/EnG0LTsg1j/0lyx/yfLXP7tk7ZK1S9Y/D5g9YPaA2T++isSrSLzaP5NQ18nkrto/Y5SpeK5Z3T+Bb1H5z/bdP/q1h1xWDOA/f6J7rfgB3T8con96LargP/qfE1C7Z+A/flrBUp9W4D/+F4p4LDjgP6b7gYjFeOA/uKCXoMY/4j8CTB9JS2rhP6rFjtgUX+I/Yjw9mKGK4T8IRShCEYrgPyW4dhpwfuA/6RwuHEqt2z8/XCKjwxjgP/7FAJ1/MeA/Fr8kQqpl3T/K484SdvPbP3AwRT7rBts/\",\"dtype\":\"float64\",\"shape\":[48]},{\"__ndarray__\":\"cDBFPusG2z/K484SdvPbPxa/JEKqZd0//sUAnX8x4D8/XCKjwxjgP+kcLhxKrds/Jbh2GnB+4D8IRShCEYrgP2I8PZihiuE/qsWO2BRf4j8CTB9JS2rhP7igl6DGP+I/pvuBiMV44D/+F4p4LDjgP35awVKfVuA/+p8TULtn4D8con96LargP3+ie634Ad0/+rWHXFYM4D+Bb1H5z/bdP2OUqXiuWd0/k1DXyeSu2j++isSrSLzaPw+YPWD2gNk/Dgc7HOxw4D/fDtXtUN3eP8gzXAutaeA/OkG4G/se4T8c5mUcDKfgP1DCG02dX+E/iIyBBLCL4D9D6aoDNzniP7st79868OE/bnlJQ1te4j/odYfTxz/iPyiERwEWFOM/vi79Ca5/5T/+HDnMCG3kPwPQvwO12+U//FHehY3A5D/sfbYlShjkP18rVJau6uM/7Dqy3nlK3z/51PCCe0PiP29QyNcbFOI//MNg4cic4D9RB3VQB3XgPwEAAAAAAOA/\",\"dtype\":\"float64\",\"shape\":[48]},{\"__ndarray__\":\"AQAAAAAA4D9RB3VQB3XgP/zDYOHInOA/b1DI1xsU4j/51PCCe0PiP+w6st55St8/XytUlq7q4z/sfbYlShjkP/xR3oWNwOQ/A9C/A7Xb5T/+HDnMCG3kP74u/Qmuf+U/KIRHARYU4z/odYfTxz/iP255SUNbXuI/uy3v3zrw4T9D6aoDNzniP4iMgQSwi+A/UMIbTZ1f4T8c5mUcDKfgPzpBuBv7HuE/yDNcC61p4D/fDtXtUN3ePw4HOxzscOA/////////7z8AAAAAAADwPwAAAAAAAPA/AAAAAAAA8D8AAAAAAADwPwAAAAAAAPA/AAAAAAAA8D8AAAAAAADwPwAAAAAAAPA/AAAAAAAA8D8AAAAAAADwPwAAAAAAAPA/AAAAAAAA8D8AAAAAAADwPwAAAAAAAPA/////////7z8AAAAAAADwPwAAAAAAAPA/AAAAAAAA8D8AAAAAAADwPwAAAAAAAPA/AAAAAAAA8D8AAAAAAADwPwAAAAAAAPA/\",\"dtype\":\"float64\",\"shape\":[48]}]},\"selected\":{\"id\":\"7b28e0f0-363e-4267-a403-c27e9a98db9f\",\"type\":\"Selection\"},\"selection_policy\":{\"id\":\"e856c3cd-2f4d-4131-aa99-30e43b0000ec\",\"type\":\"UnionRenderers\"}},\"id\":\"2c89dc78-6b5c-4c34-9a91-d7e1419adf44\",\"type\":\"ColumnDataSource\"},{\"attributes\":{},\"id\":\"924b07bf-ae24-4cff-b00c-8fcfa0b3b8ce\",\"type\":\"LinearScale\"},{\"attributes\":{\"dimension\":1,\"plot\":{\"id\":\"6b34e961-7058-453a-8e88-dd7203612c48\",\"subtype\":\"Figure\",\"type\":\"Plot\"},\"ticker\":{\"id\":\"d68b6efb-8c83-4c75-be8a-036fa5470ab3\",\"type\":\"BasicTicker\"}},\"id\":\"001917c0-1d92-47b2-ab8f-5069826e1bcd\",\"type\":\"Grid\"},{\"attributes\":{\"callback\":null,\"renderers\":\"auto\",\"tooltips\":\"@names\"},\"id\":\"245b3fd6-1dab-4abf-93ee-27b1f493cdeb\",\"type\":\"HoverTool\"},{\"attributes\":{\"callback\":null},\"id\":\"e96c5759-6984-45fe-9fd2-baccdbed5c3b\",\"type\":\"DataRange1d\"},{\"attributes\":{\"source\":{\"id\":\"2c89dc78-6b5c-4c34-9a91-d7e1419adf44\",\"type\":\"ColumnDataSource\"}},\"id\":\"66d11c00-1861-4c9c-89f0-d7956fd30928\",\"type\":\"CDSView\"},{\"attributes\":{},\"id\":\"be2aa355-ff67-4ce5-8b84-5a080f57589f\",\"type\":\"ResetTool\"},{\"attributes\":{},\"id\":\"d68b6efb-8c83-4c75-be8a-036fa5470ab3\",\"type\":\"BasicTicker\"},{\"attributes\":{},\"id\":\"9772171b-ef7c-46ec-873e-5a62e09cd14f\",\"type\":\"HelpTool\"},{\"attributes\":{\"fill_alpha\":{\"value\":0.1},\"fill_color\":{\"value\":\"#1f77b4\"},\"line_alpha\":{\"value\":0.1},\"line_color\":{\"value\":\"#1f77b4\"},\"xs\":{\"field\":\"xs\"},\"ys\":{\"field\":\"ys\"}},\"id\":\"7681b9c3-1ae6-46e9-b1aa-a787e60b5ee5\",\"type\":\"Patches\"},{\"attributes\":{\"active_drag\":\"auto\",\"active_inspect\":\"auto\",\"active_multi\":null,\"active_scroll\":\"auto\",\"active_tap\":\"auto\",\"tools\":[{\"id\":\"a66ac9d6-2b39-45ce-aa77-2e345dd2c6c7\",\"type\":\"PanTool\"},{\"id\":\"960e9151-a93a-4095-89fe-394d98d596e1\",\"type\":\"WheelZoomTool\"},{\"id\":\"58a1d262-a263-405e-a71a-bb31d85eabaf\",\"type\":\"BoxZoomTool\"},{\"id\":\"9fb809ff-d0e7-4f05-9bd6-50a00f417240\",\"type\":\"SaveTool\"},{\"id\":\"be2aa355-ff67-4ce5-8b84-5a080f57589f\",\"type\":\"ResetTool\"},{\"id\":\"9772171b-ef7c-46ec-873e-5a62e09cd14f\",\"type\":\"HelpTool\"},{\"id\":\"245b3fd6-1dab-4abf-93ee-27b1f493cdeb\",\"type\":\"HoverTool\"}]},\"id\":\"c48e1452-9053-4eba-a937-41485da17174\",\"type\":\"Toolbar\"},{\"attributes\":{\"label\":{\"field\":\"names\"},\"renderers\":[{\"id\":\"c32537b4-7889-4de8-acc3-b17d9da37b89\",\"type\":\"GlyphRenderer\"}]},\"id\":\"dd04679e-80ca-40f0-aa9e-1529794ff3a7\",\"type\":\"LegendItem\"},{\"attributes\":{\"items\":[{\"id\":\"dd04679e-80ca-40f0-aa9e-1529794ff3a7\",\"type\":\"LegendItem\"}],\"plot\":{\"id\":\"6b34e961-7058-453a-8e88-dd7203612c48\",\"subtype\":\"Figure\",\"type\":\"Plot\"}},\"id\":\"37f91d5c-726f-445d-9c2b-effa8b35a9cd\",\"type\":\"Legend\"},{\"attributes\":{\"fill_alpha\":{\"value\":0.7},\"fill_color\":{\"field\":\"col\"},\"line_alpha\":{\"value\":0.7},\"xs\":{\"field\":\"xs\"},\"ys\":{\"field\":\"ys\"}},\"id\":\"8753e9f0-4b08-40e1-98ea-d7f1a79080d6\",\"type\":\"Patches\"},{\"attributes\":{\"axis_label\":\"Proportion of Incidents\",\"formatter\":{\"id\":\"0c976e38-284f-4cea-844e-05fa623d9285\",\"type\":\"BasicTickFormatter\"},\"plot\":{\"id\":\"6b34e961-7058-453a-8e88-dd7203612c48\",\"subtype\":\"Figure\",\"type\":\"Plot\"},\"ticker\":{\"id\":\"d68b6efb-8c83-4c75-be8a-036fa5470ab3\",\"type\":\"BasicTicker\"}},\"id\":\"22cbf6b9-c20d-44fc-9d9d-5ddcae72d4e9\",\"type\":\"LinearAxis\"},{\"attributes\":{},\"id\":\"e856c3cd-2f4d-4131-aa99-30e43b0000ec\",\"type\":\"UnionRenderers\"},{\"attributes\":{\"bottom_units\":\"screen\",\"fill_alpha\":{\"value\":0.5},\"fill_color\":{\"value\":\"lightgrey\"},\"left_units\":\"screen\",\"level\":\"overlay\",\"line_alpha\":{\"value\":1.0},\"line_color\":{\"value\":\"black\"},\"line_dash\":[4,4],\"line_width\":{\"value\":2},\"plot\":null,\"render_mode\":\"css\",\"right_units\":\"screen\",\"top_units\":\"screen\"},\"id\":\"d58522ee-cb4d-4fac-b327-e957b80de429\",\"type\":\"BoxAnnotation\"},{\"attributes\":{\"below\":[{\"id\":\"455f5516-6218-461a-8092-46a89f336f0c\",\"type\":\"LinearAxis\"}],\"left\":[{\"id\":\"22cbf6b9-c20d-44fc-9d9d-5ddcae72d4e9\",\"type\":\"LinearAxis\"}],\"renderers\":[{\"id\":\"455f5516-6218-461a-8092-46a89f336f0c\",\"type\":\"LinearAxis\"},{\"id\":\"273e8376-9c07-40cb-897c-707d274c8cf0\",\"type\":\"Grid\"},{\"id\":\"22cbf6b9-c20d-44fc-9d9d-5ddcae72d4e9\",\"type\":\"LinearAxis\"},{\"id\":\"001917c0-1d92-47b2-ab8f-5069826e1bcd\",\"type\":\"Grid\"},{\"id\":\"d58522ee-cb4d-4fac-b327-e957b80de429\",\"type\":\"BoxAnnotation\"},{\"id\":\"37f91d5c-726f-445d-9c2b-effa8b35a9cd\",\"type\":\"Legend\"},{\"id\":\"c32537b4-7889-4de8-acc3-b17d9da37b89\",\"type\":\"GlyphRenderer\"}],\"title\":{\"id\":\"2d514cc1-e56a-4b0e-a3d5-75ac943dbaa6\",\"type\":\"Title\"},\"toolbar\":{\"id\":\"c48e1452-9053-4eba-a937-41485da17174\",\"type\":\"Toolbar\"},\"x_range\":{\"id\":\"af85adb1-3c1d-4bdd-aa0f-b24d8eb26350\",\"type\":\"DataRange1d\"},\"x_scale\":{\"id\":\"924b07bf-ae24-4cff-b00c-8fcfa0b3b8ce\",\"type\":\"LinearScale\"},\"y_range\":{\"id\":\"e96c5759-6984-45fe-9fd2-baccdbed5c3b\",\"type\":\"DataRange1d\"},\"y_scale\":{\"id\":\"f3a3e0d9-87a0-4347-b619-85a6b25b4564\",\"type\":\"LinearScale\"}},\"id\":\"6b34e961-7058-453a-8e88-dd7203612c48\",\"subtype\":\"Figure\",\"type\":\"Plot\"},{\"attributes\":{\"data_source\":{\"id\":\"2c89dc78-6b5c-4c34-9a91-d7e1419adf44\",\"type\":\"ColumnDataSource\"},\"glyph\":{\"id\":\"8753e9f0-4b08-40e1-98ea-d7f1a79080d6\",\"type\":\"Patches\"},\"hover_glyph\":null,\"muted_glyph\":null,\"nonselection_glyph\":{\"id\":\"7681b9c3-1ae6-46e9-b1aa-a787e60b5ee5\",\"type\":\"Patches\"},\"selection_glyph\":null,\"view\":{\"id\":\"66d11c00-1861-4c9c-89f0-d7956fd30928\",\"type\":\"CDSView\"}},\"id\":\"c32537b4-7889-4de8-acc3-b17d9da37b89\",\"type\":\"GlyphRenderer\"},{\"attributes\":{},\"id\":\"7b28e0f0-363e-4267-a403-c27e9a98db9f\",\"type\":\"Selection\"},{\"attributes\":{\"plot\":{\"id\":\"6b34e961-7058-453a-8e88-dd7203612c48\",\"subtype\":\"Figure\",\"type\":\"Plot\"},\"ticker\":{\"id\":\"374a9a1c-233b-44e2-b0fb-e13216f734fc\",\"type\":\"BasicTicker\"}},\"id\":\"273e8376-9c07-40cb-897c-707d274c8cf0\",\"type\":\"Grid\"},{\"attributes\":{},\"id\":\"960e9151-a93a-4095-89fe-394d98d596e1\",\"type\":\"WheelZoomTool\"},{\"attributes\":{\"plot\":null,\"text\":\"\"},\"id\":\"2d514cc1-e56a-4b0e-a3d5-75ac943dbaa6\",\"type\":\"Title\"},{\"attributes\":{},\"id\":\"f3a3e0d9-87a0-4347-b619-85a6b25b4564\",\"type\":\"LinearScale\"},{\"attributes\":{},\"id\":\"0c976e38-284f-4cea-844e-05fa623d9285\",\"type\":\"BasicTickFormatter\"},{\"attributes\":{\"overlay\":{\"id\":\"d58522ee-cb4d-4fac-b327-e957b80de429\",\"type\":\"BoxAnnotation\"}},\"id\":\"58a1d262-a263-405e-a71a-bb31d85eabaf\",\"type\":\"BoxZoomTool\"},{\"attributes\":{\"axis_label\":\"Time of Incident\",\"formatter\":{\"id\":\"cfa6c7aa-684d-405f-99ba-fa4c01ab34ca\",\"type\":\"FuncTickFormatter\"},\"plot\":{\"id\":\"6b34e961-7058-453a-8e88-dd7203612c48\",\"subtype\":\"Figure\",\"type\":\"Plot\"},\"ticker\":{\"id\":\"374a9a1c-233b-44e2-b0fb-e13216f734fc\",\"type\":\"BasicTicker\"}},\"id\":\"455f5516-6218-461a-8092-46a89f336f0c\",\"type\":\"LinearAxis\"},{\"attributes\":{\"code\":\"\\n    var s = \\\"0\\\" + ((tick%1)*60.0).toFixed(0);\\n    return (tick % 24).toFixed(0) + \\\":\\\" + s.substr(s.length-2);\\n\"},\"id\":\"cfa6c7aa-684d-405f-99ba-fa4c01ab34ca\",\"type\":\"FuncTickFormatter\"},{\"attributes\":{},\"id\":\"374a9a1c-233b-44e2-b0fb-e13216f734fc\",\"type\":\"BasicTicker\"},{\"attributes\":{\"callback\":null},\"id\":\"af85adb1-3c1d-4bdd-aa0f-b24d8eb26350\",\"type\":\"DataRange1d\"}],\"root_ids\":[\"6b34e961-7058-453a-8e88-dd7203612c48\"]},\"title\":\"Bokeh Application\",\"version\":\"0.13.0\"}};\n",
       "  var render_items = [{\"docid\":\"4ee28b69-4a17-48f4-84ee-f59cdd05523c\",\"roots\":{\"6b34e961-7058-453a-8e88-dd7203612c48\":\"4e1b2aff-e4b2-4798-8e35-5c995db7f81d\"}}];\n",
       "  root.Bokeh.embed.embed_items_notebook(docs_json, render_items);\n",
       "\n",
       "  }\n",
       "  if (root.Bokeh !== undefined) {\n",
       "    embed_document(root);\n",
       "  } else {\n",
       "    var attempts = 0;\n",
       "    var timer = setInterval(function(root) {\n",
       "      if (root.Bokeh !== undefined) {\n",
       "        embed_document(root);\n",
       "        clearInterval(timer);\n",
       "      }\n",
       "      attempts++;\n",
       "      if (attempts > 100) {\n",
       "        console.log(\"Bokeh: ERROR: Unable to run BokehJS code because BokehJS library is missing\")\n",
       "        clearInterval(timer);\n",
       "      }\n",
       "    }, 10, root)\n",
       "  }\n",
       "})(window);"
      ],
      "application/vnd.bokehjs_exec.v0+json": ""
     },
     "metadata": {
      "application/vnd.bokehjs_exec.v0+json": {
       "id": "6b34e961-7058-453a-8e88-dd7203612c48"
      }
     },
     "output_type": "display_data"
    }
   ],
   "source": [
    "import numpy as np\n",
    "from bokeh.palettes import brewer\n",
    "\n",
    "def  stacked(df):\n",
    "    df_top = df.cumsum(axis=1)\n",
    "    df_bottom = df_top.shift(axis=1).fillna(0)[::-1]\n",
    "    df_stack = pd.concat([df_bottom, df_top], ignore_index=True)\n",
    "    return df_stack\n",
    "\n",
    "df_stacked =  pd.DataFrame(data['incidntNum']).transpose()\n",
    "df_stacked.columns = data['categories']\n",
    "df_stacked = df_stacked.div(df_stacked.sum(axis=1), axis=0)\n",
    "\n",
    "areas = stacked(df_stacked)\n",
    "x2 = np.hstack((df_stacked.index[::-1], df_stacked.index))\n",
    "colors = brewer['Spectral'][areas.shape[1]]\n",
    "p = figure(tooltips='@names')\n",
    "\n",
    "stackedData = {\n",
    "    'xs' : [x2]*areas.shape[1],\n",
    "    'ys' : [areas[c].values for c in areas],\n",
    "    'col' : colors,\n",
    "    'names' : data['categories']\n",
    "}\n",
    "p.patches(xs='xs', ys='ys', color=\"col\",  alpha=0.7, line_color='black', legend=\"names\", source=stackedData)\n",
    "p.yaxis.axis_label = \"Proportion of Incidents\"\n",
    "p.xaxis.axis_label = \"Time of Incident\"\n",
    "p.xaxis[0].formatter = timeFormatter\n",
    "\n",
    "show(p)"
   ]
  },
  {
   "cell_type": "markdown",
   "metadata": {},
   "source": [
    "From the above graph it can be seen that  \"THEFT\" category takes a higher proportion of the incidents between 17:00 and 22:00. It can also be observed that the violent types \"ASSAULT\" and \"ROBBERY\" have higher proportions during the early morning 2:00am to 4:00am. It is difficult to observe much else from this graph and the relative proportions of the different categories remains at least visually constant."
   ]
  },
  {
   "cell_type": "markdown",
   "metadata": {},
   "source": [
    "## Conclusion\n",
    "\n",
    "In San Francisco during the summer of 2014 the peak time for incidents is 18:00. Violent types of incidents occur typically late at night but they account for little of the total number of incidents that the police deal with. Due to the high variety in incident types (which fall within the \"OTHER\" category) these occur throughout the day and shift the peak earlier. \"THEFT\" is major contributor to the number of incidents and occurs throughout the day peaking the early evening. "
   ]
  },
  {
   "cell_type": "code",
   "execution_count": null,
   "metadata": {},
   "outputs": [],
   "source": []
  }
 ],
 "metadata": {
  "kernelspec": {
   "display_name": "Python 2",
   "language": "python",
   "name": "python2"
  },
  "language_info": {
   "codemirror_mode": {
    "name": "ipython",
    "version": 2
   },
   "file_extension": ".py",
   "mimetype": "text/x-python",
   "name": "python",
   "nbconvert_exporter": "python",
   "pygments_lexer": "ipython2",
   "version": "2.7.15"
  }
 },
 "nbformat": 4,
 "nbformat_minor": 2
}
