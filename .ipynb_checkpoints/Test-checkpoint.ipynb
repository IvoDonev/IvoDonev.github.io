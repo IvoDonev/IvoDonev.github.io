{
 "cells": [
  {
   "cell_type": "markdown",
   "metadata": {},
   "source": [
    "# San Francisco: Police incident peak in the early evening, much earlier than expected"
   ]
  },
  {
   "cell_type": "markdown",
   "metadata": {},
   "source": [
    "## Introduction\n",
    "\n",
    "I would like to investigate the correlation between the time of day and the number of police incidents which were recorded  during the summer of 2014 in San Francisco. I suspect that there would be more incidents during the evening than the day when it is dark.\n",
    "\n",
    "## Grouping police incidents by time\n",
    "\n",
    "To see if this suspicion is true and if there are any other correlations we created this Jupyter notebook. Initially we load the San Francisco incidents dataset using pandas. We need to convert the date columns into a datetime column so that we can query it. We also split the time column into an hour and minute column to help quering."
   ]
  },
  {
   "cell_type": "code",
   "execution_count": 1,
   "metadata": {},
   "outputs": [],
   "source": [
    "import pandas as pd\n",
    "df = pd.read_csv('sanfrancisco_incidents_summer_2014.csv', sep=\",\")\n",
    "df['Date'] =  pd.to_datetime(df['Date'], format='%m/%d/%Y')\n",
    "df['Hour'] = pd.to_datetime(df['Time'], format='%H:%M').dt.hour\n",
    "df['Minute'] = pd.to_datetime(df['Time'], format='%H:%M').dt.minute"
   ]
  },
  {
   "cell_type": "markdown",
   "metadata": {},
   "source": [
    "We also would like the find the hour in the day with the most and least number of occurrences. To do this we group the incidents by the newly created Hour column and count the incidntnum. We then find the max and min number of occurence."
   ]
  },
  {
   "cell_type": "code",
   "execution_count": 2,
   "metadata": {},
   "outputs": [
    {
     "name": "stdout",
     "output_type": "stream",
     "text": [
      "San Francisco - min :4 max : 18\n"
     ]
    }
   ],
   "source": [
    "# Group by hour\n",
    "df_HOUR = df.groupby(pd.Grouper(key=\"Hour\")).count().reset_index()\n",
    "minHour = df_HOUR.loc[df_HOUR['IncidntNum'].idxmin()].Hour\n",
    "maxHour = df_HOUR.loc[df_HOUR['IncidntNum'].idxmax()].Hour\n",
    "\n",
    "print \"San Francisco - min :\" + str(minHour%24) + \" max : \" + str(maxHour%24)"
   ]
  },
  {
   "cell_type": "markdown",
   "metadata": {},
   "source": [
    "Next we want to show how the number of incidents change throughout the day. However I think it would make more sense to look at the hours of the day from 6:00am to 5:59am which would show the daytime first and the nighttime second. \n",
    "\n",
    "To do this we will rotate the hours by 6 hours, i.e. if the time is before 6 we add 24 hours to it and then sort by the hours. We also rotate the max and min times."
   ]
  },
  {
   "cell_type": "code",
   "execution_count": 3,
   "metadata": {},
   "outputs": [],
   "source": [
    "def rotateTime(x):\n",
    "    return x + 24 if (x <= 5) else x;\n",
    "\n",
    "df_HOUR['Hour'] = df_HOUR['Hour'].transform(rotateTime)\n",
    "df_HOUR = df_HOUR.sort_values(by=['Hour'], ascending=True)\n",
    "\n",
    "minHour = rotateTime(minHour);\n",
    "maxHour = rotateTime(maxHour);"
   ]
  },
  {
   "cell_type": "markdown",
   "metadata": {},
   "source": [
    "To produce the plots we will use the Bokeh library. We then create a line plot of the number of incidents with time. We also add an extra vertical lines at the point for the hour of min and max occurences. We also format the time axis to display for example 10:00. "
   ]
  },
  {
   "cell_type": "code",
   "execution_count": 4,
   "metadata": {},
   "outputs": [
    {
     "data": {
      "text/html": [
       "\n",
       "    <div class=\"bk-root\">\n",
       "        <a href=\"https://bokeh.pydata.org\" target=\"_blank\" class=\"bk-logo bk-logo-small bk-logo-notebook\"></a>\n",
       "        <span id=\"20eb2fb9-22d0-45e2-b403-52139bc9a0a1\">Loading BokehJS ...</span>\n",
       "    </div>"
      ]
     },
     "metadata": {},
     "output_type": "display_data"
    },
    {
     "data": {
      "application/javascript": [
       "\n",
       "(function(root) {\n",
       "  function now() {\n",
       "    return new Date();\n",
       "  }\n",
       "\n",
       "  var force = true;\n",
       "\n",
       "  if (typeof (root._bokeh_onload_callbacks) === \"undefined\" || force === true) {\n",
       "    root._bokeh_onload_callbacks = [];\n",
       "    root._bokeh_is_loading = undefined;\n",
       "  }\n",
       "\n",
       "  var JS_MIME_TYPE = 'application/javascript';\n",
       "  var HTML_MIME_TYPE = 'text/html';\n",
       "  var EXEC_MIME_TYPE = 'application/vnd.bokehjs_exec.v0+json';\n",
       "  var CLASS_NAME = 'output_bokeh rendered_html';\n",
       "\n",
       "  /**\n",
       "   * Render data to the DOM node\n",
       "   */\n",
       "  function render(props, node) {\n",
       "    var script = document.createElement(\"script\");\n",
       "    node.appendChild(script);\n",
       "  }\n",
       "\n",
       "  /**\n",
       "   * Handle when an output is cleared or removed\n",
       "   */\n",
       "  function handleClearOutput(event, handle) {\n",
       "    var cell = handle.cell;\n",
       "\n",
       "    var id = cell.output_area._bokeh_element_id;\n",
       "    var server_id = cell.output_area._bokeh_server_id;\n",
       "    // Clean up Bokeh references\n",
       "    if (id != null && id in Bokeh.index) {\n",
       "      Bokeh.index[id].model.document.clear();\n",
       "      delete Bokeh.index[id];\n",
       "    }\n",
       "\n",
       "    if (server_id !== undefined) {\n",
       "      // Clean up Bokeh references\n",
       "      var cmd = \"from bokeh.io.state import curstate; print(curstate().uuid_to_server['\" + server_id + \"'].get_sessions()[0].document.roots[0]._id)\";\n",
       "      cell.notebook.kernel.execute(cmd, {\n",
       "        iopub: {\n",
       "          output: function(msg) {\n",
       "            var id = msg.content.text.trim();\n",
       "            if (id in Bokeh.index) {\n",
       "              Bokeh.index[id].model.document.clear();\n",
       "              delete Bokeh.index[id];\n",
       "            }\n",
       "          }\n",
       "        }\n",
       "      });\n",
       "      // Destroy server and session\n",
       "      var cmd = \"import bokeh.io.notebook as ion; ion.destroy_server('\" + server_id + \"')\";\n",
       "      cell.notebook.kernel.execute(cmd);\n",
       "    }\n",
       "  }\n",
       "\n",
       "  /**\n",
       "   * Handle when a new output is added\n",
       "   */\n",
       "  function handleAddOutput(event, handle) {\n",
       "    var output_area = handle.output_area;\n",
       "    var output = handle.output;\n",
       "\n",
       "    // limit handleAddOutput to display_data with EXEC_MIME_TYPE content only\n",
       "    if ((output.output_type != \"display_data\") || (!output.data.hasOwnProperty(EXEC_MIME_TYPE))) {\n",
       "      return\n",
       "    }\n",
       "\n",
       "    var toinsert = output_area.element.find(\".\" + CLASS_NAME.split(' ')[0]);\n",
       "\n",
       "    if (output.metadata[EXEC_MIME_TYPE][\"id\"] !== undefined) {\n",
       "      toinsert[toinsert.length - 1].firstChild.textContent = output.data[JS_MIME_TYPE];\n",
       "      // store reference to embed id on output_area\n",
       "      output_area._bokeh_element_id = output.metadata[EXEC_MIME_TYPE][\"id\"];\n",
       "    }\n",
       "    if (output.metadata[EXEC_MIME_TYPE][\"server_id\"] !== undefined) {\n",
       "      var bk_div = document.createElement(\"div\");\n",
       "      bk_div.innerHTML = output.data[HTML_MIME_TYPE];\n",
       "      var script_attrs = bk_div.children[0].attributes;\n",
       "      for (var i = 0; i < script_attrs.length; i++) {\n",
       "        toinsert[toinsert.length - 1].firstChild.setAttribute(script_attrs[i].name, script_attrs[i].value);\n",
       "      }\n",
       "      // store reference to server id on output_area\n",
       "      output_area._bokeh_server_id = output.metadata[EXEC_MIME_TYPE][\"server_id\"];\n",
       "    }\n",
       "  }\n",
       "\n",
       "  function register_renderer(events, OutputArea) {\n",
       "\n",
       "    function append_mime(data, metadata, element) {\n",
       "      // create a DOM node to render to\n",
       "      var toinsert = this.create_output_subarea(\n",
       "        metadata,\n",
       "        CLASS_NAME,\n",
       "        EXEC_MIME_TYPE\n",
       "      );\n",
       "      this.keyboard_manager.register_events(toinsert);\n",
       "      // Render to node\n",
       "      var props = {data: data, metadata: metadata[EXEC_MIME_TYPE]};\n",
       "      render(props, toinsert[toinsert.length - 1]);\n",
       "      element.append(toinsert);\n",
       "      return toinsert\n",
       "    }\n",
       "\n",
       "    /* Handle when an output is cleared or removed */\n",
       "    events.on('clear_output.CodeCell', handleClearOutput);\n",
       "    events.on('delete.Cell', handleClearOutput);\n",
       "\n",
       "    /* Handle when a new output is added */\n",
       "    events.on('output_added.OutputArea', handleAddOutput);\n",
       "\n",
       "    /**\n",
       "     * Register the mime type and append_mime function with output_area\n",
       "     */\n",
       "    OutputArea.prototype.register_mime_type(EXEC_MIME_TYPE, append_mime, {\n",
       "      /* Is output safe? */\n",
       "      safe: true,\n",
       "      /* Index of renderer in `output_area.display_order` */\n",
       "      index: 0\n",
       "    });\n",
       "  }\n",
       "\n",
       "  // register the mime type if in Jupyter Notebook environment and previously unregistered\n",
       "  if (root.Jupyter !== undefined) {\n",
       "    var events = require('base/js/events');\n",
       "    var OutputArea = require('notebook/js/outputarea').OutputArea;\n",
       "\n",
       "    if (OutputArea.prototype.mime_types().indexOf(EXEC_MIME_TYPE) == -1) {\n",
       "      register_renderer(events, OutputArea);\n",
       "    }\n",
       "  }\n",
       "\n",
       "  \n",
       "  if (typeof (root._bokeh_timeout) === \"undefined\" || force === true) {\n",
       "    root._bokeh_timeout = Date.now() + 5000;\n",
       "    root._bokeh_failed_load = false;\n",
       "  }\n",
       "\n",
       "  var NB_LOAD_WARNING = {'data': {'text/html':\n",
       "     \"<div style='background-color: #fdd'>\\n\"+\n",
       "     \"<p>\\n\"+\n",
       "     \"BokehJS does not appear to have successfully loaded. If loading BokehJS from CDN, this \\n\"+\n",
       "     \"may be due to a slow or bad network connection. Possible fixes:\\n\"+\n",
       "     \"</p>\\n\"+\n",
       "     \"<ul>\\n\"+\n",
       "     \"<li>re-rerun `output_notebook()` to attempt to load from CDN again, or</li>\\n\"+\n",
       "     \"<li>use INLINE resources instead, as so:</li>\\n\"+\n",
       "     \"</ul>\\n\"+\n",
       "     \"<code>\\n\"+\n",
       "     \"from bokeh.resources import INLINE\\n\"+\n",
       "     \"output_notebook(resources=INLINE)\\n\"+\n",
       "     \"</code>\\n\"+\n",
       "     \"</div>\"}};\n",
       "\n",
       "  function display_loaded() {\n",
       "    var el = document.getElementById(\"20eb2fb9-22d0-45e2-b403-52139bc9a0a1\");\n",
       "    if (el != null) {\n",
       "      el.textContent = \"BokehJS is loading...\";\n",
       "    }\n",
       "    if (root.Bokeh !== undefined) {\n",
       "      if (el != null) {\n",
       "        el.textContent = \"BokehJS \" + root.Bokeh.version + \" successfully loaded.\";\n",
       "      }\n",
       "    } else if (Date.now() < root._bokeh_timeout) {\n",
       "      setTimeout(display_loaded, 100)\n",
       "    }\n",
       "  }\n",
       "\n",
       "\n",
       "  function run_callbacks() {\n",
       "    try {\n",
       "      root._bokeh_onload_callbacks.forEach(function(callback) { callback() });\n",
       "    }\n",
       "    finally {\n",
       "      delete root._bokeh_onload_callbacks\n",
       "    }\n",
       "    console.info(\"Bokeh: all callbacks have finished\");\n",
       "  }\n",
       "\n",
       "  function load_libs(js_urls, callback) {\n",
       "    root._bokeh_onload_callbacks.push(callback);\n",
       "    if (root._bokeh_is_loading > 0) {\n",
       "      console.log(\"Bokeh: BokehJS is being loaded, scheduling callback at\", now());\n",
       "      return null;\n",
       "    }\n",
       "    if (js_urls == null || js_urls.length === 0) {\n",
       "      run_callbacks();\n",
       "      return null;\n",
       "    }\n",
       "    console.log(\"Bokeh: BokehJS not loaded, scheduling load and callback at\", now());\n",
       "    root._bokeh_is_loading = js_urls.length;\n",
       "    for (var i = 0; i < js_urls.length; i++) {\n",
       "      var url = js_urls[i];\n",
       "      var s = document.createElement('script');\n",
       "      s.src = url;\n",
       "      s.async = false;\n",
       "      s.onreadystatechange = s.onload = function() {\n",
       "        root._bokeh_is_loading--;\n",
       "        if (root._bokeh_is_loading === 0) {\n",
       "          console.log(\"Bokeh: all BokehJS libraries loaded\");\n",
       "          run_callbacks()\n",
       "        }\n",
       "      };\n",
       "      s.onerror = function() {\n",
       "        console.warn(\"failed to load library \" + url);\n",
       "      };\n",
       "      console.log(\"Bokeh: injecting script tag for BokehJS library: \", url);\n",
       "      document.getElementsByTagName(\"head\")[0].appendChild(s);\n",
       "    }\n",
       "  };var element = document.getElementById(\"20eb2fb9-22d0-45e2-b403-52139bc9a0a1\");\n",
       "  if (element == null) {\n",
       "    console.log(\"Bokeh: ERROR: autoload.js configured with elementid '20eb2fb9-22d0-45e2-b403-52139bc9a0a1' but no matching script tag was found. \")\n",
       "    return false;\n",
       "  }\n",
       "\n",
       "  var js_urls = [\"https://cdn.pydata.org/bokeh/release/bokeh-0.13.0.min.js\", \"https://cdn.pydata.org/bokeh/release/bokeh-widgets-0.13.0.min.js\", \"https://cdn.pydata.org/bokeh/release/bokeh-tables-0.13.0.min.js\", \"https://cdn.pydata.org/bokeh/release/bokeh-gl-0.13.0.min.js\"];\n",
       "\n",
       "  var inline_js = [\n",
       "    function(Bokeh) {\n",
       "      Bokeh.set_log_level(\"info\");\n",
       "    },\n",
       "    \n",
       "    function(Bokeh) {\n",
       "      \n",
       "    },\n",
       "    function(Bokeh) {\n",
       "      console.log(\"Bokeh: injecting CSS: https://cdn.pydata.org/bokeh/release/bokeh-0.13.0.min.css\");\n",
       "      Bokeh.embed.inject_css(\"https://cdn.pydata.org/bokeh/release/bokeh-0.13.0.min.css\");\n",
       "      console.log(\"Bokeh: injecting CSS: https://cdn.pydata.org/bokeh/release/bokeh-widgets-0.13.0.min.css\");\n",
       "      Bokeh.embed.inject_css(\"https://cdn.pydata.org/bokeh/release/bokeh-widgets-0.13.0.min.css\");\n",
       "      console.log(\"Bokeh: injecting CSS: https://cdn.pydata.org/bokeh/release/bokeh-tables-0.13.0.min.css\");\n",
       "      Bokeh.embed.inject_css(\"https://cdn.pydata.org/bokeh/release/bokeh-tables-0.13.0.min.css\");\n",
       "    }\n",
       "  ];\n",
       "\n",
       "  function run_inline_js() {\n",
       "    \n",
       "    if ((root.Bokeh !== undefined) || (force === true)) {\n",
       "      for (var i = 0; i < inline_js.length; i++) {\n",
       "        inline_js[i].call(root, root.Bokeh);\n",
       "      }if (force === true) {\n",
       "        display_loaded();\n",
       "      }} else if (Date.now() < root._bokeh_timeout) {\n",
       "      setTimeout(run_inline_js, 100);\n",
       "    } else if (!root._bokeh_failed_load) {\n",
       "      console.log(\"Bokeh: BokehJS failed to load within specified timeout.\");\n",
       "      root._bokeh_failed_load = true;\n",
       "    } else if (force !== true) {\n",
       "      var cell = $(document.getElementById(\"20eb2fb9-22d0-45e2-b403-52139bc9a0a1\")).parents('.cell').data().cell;\n",
       "      cell.output_area.append_execute_result(NB_LOAD_WARNING)\n",
       "    }\n",
       "\n",
       "  }\n",
       "\n",
       "  if (root._bokeh_is_loading === 0) {\n",
       "    console.log(\"Bokeh: BokehJS loaded, going straight to plotting\");\n",
       "    run_inline_js();\n",
       "  } else {\n",
       "    load_libs(js_urls, function() {\n",
       "      console.log(\"Bokeh: BokehJS plotting callback run at\", now());\n",
       "      run_inline_js();\n",
       "    });\n",
       "  }\n",
       "}(window));"
      ],
      "application/vnd.bokehjs_load.v0+json": "\n(function(root) {\n  function now() {\n    return new Date();\n  }\n\n  var force = true;\n\n  if (typeof (root._bokeh_onload_callbacks) === \"undefined\" || force === true) {\n    root._bokeh_onload_callbacks = [];\n    root._bokeh_is_loading = undefined;\n  }\n\n  \n\n  \n  if (typeof (root._bokeh_timeout) === \"undefined\" || force === true) {\n    root._bokeh_timeout = Date.now() + 5000;\n    root._bokeh_failed_load = false;\n  }\n\n  var NB_LOAD_WARNING = {'data': {'text/html':\n     \"<div style='background-color: #fdd'>\\n\"+\n     \"<p>\\n\"+\n     \"BokehJS does not appear to have successfully loaded. If loading BokehJS from CDN, this \\n\"+\n     \"may be due to a slow or bad network connection. Possible fixes:\\n\"+\n     \"</p>\\n\"+\n     \"<ul>\\n\"+\n     \"<li>re-rerun `output_notebook()` to attempt to load from CDN again, or</li>\\n\"+\n     \"<li>use INLINE resources instead, as so:</li>\\n\"+\n     \"</ul>\\n\"+\n     \"<code>\\n\"+\n     \"from bokeh.resources import INLINE\\n\"+\n     \"output_notebook(resources=INLINE)\\n\"+\n     \"</code>\\n\"+\n     \"</div>\"}};\n\n  function display_loaded() {\n    var el = document.getElementById(\"20eb2fb9-22d0-45e2-b403-52139bc9a0a1\");\n    if (el != null) {\n      el.textContent = \"BokehJS is loading...\";\n    }\n    if (root.Bokeh !== undefined) {\n      if (el != null) {\n        el.textContent = \"BokehJS \" + root.Bokeh.version + \" successfully loaded.\";\n      }\n    } else if (Date.now() < root._bokeh_timeout) {\n      setTimeout(display_loaded, 100)\n    }\n  }\n\n\n  function run_callbacks() {\n    try {\n      root._bokeh_onload_callbacks.forEach(function(callback) { callback() });\n    }\n    finally {\n      delete root._bokeh_onload_callbacks\n    }\n    console.info(\"Bokeh: all callbacks have finished\");\n  }\n\n  function load_libs(js_urls, callback) {\n    root._bokeh_onload_callbacks.push(callback);\n    if (root._bokeh_is_loading > 0) {\n      console.log(\"Bokeh: BokehJS is being loaded, scheduling callback at\", now());\n      return null;\n    }\n    if (js_urls == null || js_urls.length === 0) {\n      run_callbacks();\n      return null;\n    }\n    console.log(\"Bokeh: BokehJS not loaded, scheduling load and callback at\", now());\n    root._bokeh_is_loading = js_urls.length;\n    for (var i = 0; i < js_urls.length; i++) {\n      var url = js_urls[i];\n      var s = document.createElement('script');\n      s.src = url;\n      s.async = false;\n      s.onreadystatechange = s.onload = function() {\n        root._bokeh_is_loading--;\n        if (root._bokeh_is_loading === 0) {\n          console.log(\"Bokeh: all BokehJS libraries loaded\");\n          run_callbacks()\n        }\n      };\n      s.onerror = function() {\n        console.warn(\"failed to load library \" + url);\n      };\n      console.log(\"Bokeh: injecting script tag for BokehJS library: \", url);\n      document.getElementsByTagName(\"head\")[0].appendChild(s);\n    }\n  };var element = document.getElementById(\"20eb2fb9-22d0-45e2-b403-52139bc9a0a1\");\n  if (element == null) {\n    console.log(\"Bokeh: ERROR: autoload.js configured with elementid '20eb2fb9-22d0-45e2-b403-52139bc9a0a1' but no matching script tag was found. \")\n    return false;\n  }\n\n  var js_urls = [\"https://cdn.pydata.org/bokeh/release/bokeh-0.13.0.min.js\", \"https://cdn.pydata.org/bokeh/release/bokeh-widgets-0.13.0.min.js\", \"https://cdn.pydata.org/bokeh/release/bokeh-tables-0.13.0.min.js\", \"https://cdn.pydata.org/bokeh/release/bokeh-gl-0.13.0.min.js\"];\n\n  var inline_js = [\n    function(Bokeh) {\n      Bokeh.set_log_level(\"info\");\n    },\n    \n    function(Bokeh) {\n      \n    },\n    function(Bokeh) {\n      console.log(\"Bokeh: injecting CSS: https://cdn.pydata.org/bokeh/release/bokeh-0.13.0.min.css\");\n      Bokeh.embed.inject_css(\"https://cdn.pydata.org/bokeh/release/bokeh-0.13.0.min.css\");\n      console.log(\"Bokeh: injecting CSS: https://cdn.pydata.org/bokeh/release/bokeh-widgets-0.13.0.min.css\");\n      Bokeh.embed.inject_css(\"https://cdn.pydata.org/bokeh/release/bokeh-widgets-0.13.0.min.css\");\n      console.log(\"Bokeh: injecting CSS: https://cdn.pydata.org/bokeh/release/bokeh-tables-0.13.0.min.css\");\n      Bokeh.embed.inject_css(\"https://cdn.pydata.org/bokeh/release/bokeh-tables-0.13.0.min.css\");\n    }\n  ];\n\n  function run_inline_js() {\n    \n    if ((root.Bokeh !== undefined) || (force === true)) {\n      for (var i = 0; i < inline_js.length; i++) {\n        inline_js[i].call(root, root.Bokeh);\n      }if (force === true) {\n        display_loaded();\n      }} else if (Date.now() < root._bokeh_timeout) {\n      setTimeout(run_inline_js, 100);\n    } else if (!root._bokeh_failed_load) {\n      console.log(\"Bokeh: BokehJS failed to load within specified timeout.\");\n      root._bokeh_failed_load = true;\n    } else if (force !== true) {\n      var cell = $(document.getElementById(\"20eb2fb9-22d0-45e2-b403-52139bc9a0a1\")).parents('.cell').data().cell;\n      cell.output_area.append_execute_result(NB_LOAD_WARNING)\n    }\n\n  }\n\n  if (root._bokeh_is_loading === 0) {\n    console.log(\"Bokeh: BokehJS loaded, going straight to plotting\");\n    run_inline_js();\n  } else {\n    load_libs(js_urls, function() {\n      console.log(\"Bokeh: BokehJS plotting callback run at\", now());\n      run_inline_js();\n    });\n  }\n}(window));"
     },
     "metadata": {},
     "output_type": "display_data"
    },
    {
     "data": {
      "text/html": [
       "\n",
       "\n",
       "\n",
       "\n",
       "\n",
       "\n",
       "  <div class=\"bk-root\" id=\"e797024f-84ab-47c4-88f5-1f719b4df0c0\"></div>\n"
      ]
     },
     "metadata": {},
     "output_type": "display_data"
    },
    {
     "data": {
      "application/javascript": [
       "(function(root) {\n",
       "  function embed_document(root) {\n",
       "    \n",
       "  var docs_json = {\"ff4ae2a3-9d7b-4359-9540-f2bb2caaf24c\":{\"roots\":{\"references\":[{\"attributes\":{\"callback\":null},\"id\":\"7aee8a35-4c1c-4d0d-9d45-258d1db788e8\",\"type\":\"DataRange1d\"},{\"attributes\":{\"below\":[{\"id\":\"5b840bb6-d85b-437e-8b56-9cafab566e5a\",\"type\":\"LinearAxis\"}],\"left\":[{\"id\":\"d72733a2-5d20-4ac9-931b-305c9e583205\",\"type\":\"LinearAxis\"}],\"renderers\":[{\"id\":\"5b840bb6-d85b-437e-8b56-9cafab566e5a\",\"type\":\"LinearAxis\"},{\"id\":\"81d04b7d-b45d-4650-9bc7-26c31ebf023d\",\"type\":\"Grid\"},{\"id\":\"d72733a2-5d20-4ac9-931b-305c9e583205\",\"type\":\"LinearAxis\"},{\"id\":\"8884a31a-0a0f-44a6-8316-1b28ec742d22\",\"type\":\"Grid\"},{\"id\":\"f7b5114c-8203-4eea-a44e-b711501f05e0\",\"type\":\"BoxAnnotation\"},{\"id\":\"bacebef4-57c7-48bd-8cc1-a0e455acc6c6\",\"type\":\"GlyphRenderer\"},{\"id\":\"2090d5dd-c0d1-4b05-9852-1f078b3d3a4f\",\"type\":\"Span\"},{\"id\":\"4341525b-e378-4614-8d6c-61412c9b0600\",\"type\":\"Span\"}],\"title\":{\"id\":\"61edb6c1-2c80-4a4f-870a-e249bfae4e0e\",\"type\":\"Title\"},\"toolbar\":{\"id\":\"3b17890f-d438-4d8b-997d-eb3d91db81b9\",\"type\":\"Toolbar\"},\"x_range\":{\"id\":\"7aee8a35-4c1c-4d0d-9d45-258d1db788e8\",\"type\":\"DataRange1d\"},\"x_scale\":{\"id\":\"baf3d4da-42e9-4d28-9b29-81d3731c3c40\",\"type\":\"LinearScale\"},\"y_range\":{\"id\":\"582b687c-bcf0-4438-bf17-eff23a1d0e13\",\"type\":\"DataRange1d\"},\"y_scale\":{\"id\":\"1d2ea76c-2ef0-4360-96e5-a83120f19c5f\",\"type\":\"LinearScale\"}},\"id\":\"e7496580-80d5-40e7-8073-22a6fbbafee9\",\"subtype\":\"Figure\",\"type\":\"Plot\"},{\"attributes\":{\"data_source\":{\"id\":\"5b11b2d1-8f72-47f3-b461-21a561271725\",\"type\":\"ColumnDataSource\"},\"glyph\":{\"id\":\"a3173296-5c9d-442d-a4c0-cc9e70b52ffb\",\"type\":\"Line\"},\"hover_glyph\":null,\"muted_glyph\":null,\"nonselection_glyph\":{\"id\":\"234d3e5f-cfef-4729-90d1-313ca479626e\",\"type\":\"Line\"},\"selection_glyph\":null,\"view\":{\"id\":\"ff653ca7-fa5a-4c30-8d6e-1c95c4e8111f\",\"type\":\"CDSView\"}},\"id\":\"bacebef4-57c7-48bd-8cc1-a0e455acc6c6\",\"type\":\"GlyphRenderer\"},{\"attributes\":{\"overlay\":{\"id\":\"f7b5114c-8203-4eea-a44e-b711501f05e0\",\"type\":\"BoxAnnotation\"}},\"id\":\"cc9507e1-0ad2-4e47-8359-d54324295cb6\",\"type\":\"BoxZoomTool\"},{\"attributes\":{},\"id\":\"baf3d4da-42e9-4d28-9b29-81d3731c3c40\",\"type\":\"LinearScale\"},{\"attributes\":{\"dimension\":\"height\",\"line_color\":{\"value\":\"Green\"},\"line_width\":{\"value\":2},\"location\":18,\"plot\":null},\"id\":\"4341525b-e378-4614-8d6c-61412c9b0600\",\"type\":\"Span\"},{\"attributes\":{},\"id\":\"3308f1cc-8edc-4e25-9e7b-5434a6913a93\",\"type\":\"BasicTickFormatter\"},{\"attributes\":{},\"id\":\"a73d61ec-da38-4fb4-8d2f-d0532b751535\",\"type\":\"HelpTool\"},{\"attributes\":{\"code\":\"\\n    var s = \\\"0\\\" + ((tick%1)*60.0).toFixed(0);\\n    return (tick % 24).toFixed(0) + \\\":\\\" + s.substr(s.length-2);\\n\"},\"id\":\"97148905-a4dd-47d0-bf21-1abbc0a141dd\",\"type\":\"FuncTickFormatter\"},{\"attributes\":{\"axis_label\":\"Time of Incident\",\"formatter\":{\"id\":\"97148905-a4dd-47d0-bf21-1abbc0a141dd\",\"type\":\"FuncTickFormatter\"},\"plot\":{\"id\":\"e7496580-80d5-40e7-8073-22a6fbbafee9\",\"subtype\":\"Figure\",\"type\":\"Plot\"},\"ticker\":{\"id\":\"d9766eef-8459-41b2-b403-8fc5ef4d9057\",\"type\":\"BasicTicker\"}},\"id\":\"5b840bb6-d85b-437e-8b56-9cafab566e5a\",\"type\":\"LinearAxis\"},{\"attributes\":{\"active_drag\":\"auto\",\"active_inspect\":\"auto\",\"active_multi\":null,\"active_scroll\":\"auto\",\"active_tap\":\"auto\",\"tools\":[{\"id\":\"d3c0d3e7-989d-4f64-aa2b-71fab78c917a\",\"type\":\"PanTool\"},{\"id\":\"3a7186d0-3e2e-4115-ae31-b51b75800d06\",\"type\":\"WheelZoomTool\"},{\"id\":\"cc9507e1-0ad2-4e47-8359-d54324295cb6\",\"type\":\"BoxZoomTool\"},{\"id\":\"45bd1e47-adb1-4b19-bca7-af61c025f37e\",\"type\":\"SaveTool\"},{\"id\":\"b4f1e3d7-a4b2-4fd8-9fca-67c609da8446\",\"type\":\"ResetTool\"},{\"id\":\"a73d61ec-da38-4fb4-8d2f-d0532b751535\",\"type\":\"HelpTool\"}]},\"id\":\"3b17890f-d438-4d8b-997d-eb3d91db81b9\",\"type\":\"Toolbar\"},{\"attributes\":{\"callback\":null},\"id\":\"582b687c-bcf0-4438-bf17-eff23a1d0e13\",\"type\":\"DataRange1d\"},{\"attributes\":{\"plot\":null,\"text\":\"Total number of police incidents at each hour throughout the summer of 2014\"},\"id\":\"61edb6c1-2c80-4a4f-870a-e249bfae4e0e\",\"type\":\"Title\"},{\"attributes\":{\"line_alpha\":0.1,\"line_color\":\"#1f77b4\",\"line_width\":6,\"x\":{\"field\":\"x\"},\"y\":{\"field\":\"y\"}},\"id\":\"234d3e5f-cfef-4729-90d1-313ca479626e\",\"type\":\"Line\"},{\"attributes\":{},\"id\":\"3fc69a50-0a21-4dd3-bc35-d3ff6675bb0a\",\"type\":\"UnionRenderers\"},{\"attributes\":{},\"id\":\"d9766eef-8459-41b2-b403-8fc5ef4d9057\",\"type\":\"BasicTicker\"},{\"attributes\":{\"axis_label\":\"Number of Incidents\",\"formatter\":{\"id\":\"3308f1cc-8edc-4e25-9e7b-5434a6913a93\",\"type\":\"BasicTickFormatter\"},\"plot\":{\"id\":\"e7496580-80d5-40e7-8073-22a6fbbafee9\",\"subtype\":\"Figure\",\"type\":\"Plot\"},\"ticker\":{\"id\":\"2cb11d77-56eb-4250-9e2f-8991d1eccda9\",\"type\":\"BasicTicker\"}},\"id\":\"d72733a2-5d20-4ac9-931b-305c9e583205\",\"type\":\"LinearAxis\"},{\"attributes\":{},\"id\":\"06015bdc-579b-4642-b2f9-5889ccba3a2a\",\"type\":\"Selection\"},{\"attributes\":{\"plot\":{\"id\":\"e7496580-80d5-40e7-8073-22a6fbbafee9\",\"subtype\":\"Figure\",\"type\":\"Plot\"},\"ticker\":{\"id\":\"d9766eef-8459-41b2-b403-8fc5ef4d9057\",\"type\":\"BasicTicker\"}},\"id\":\"81d04b7d-b45d-4650-9bc7-26c31ebf023d\",\"type\":\"Grid\"},{\"attributes\":{\"dimension\":1,\"plot\":{\"id\":\"e7496580-80d5-40e7-8073-22a6fbbafee9\",\"subtype\":\"Figure\",\"type\":\"Plot\"},\"ticker\":{\"id\":\"2cb11d77-56eb-4250-9e2f-8991d1eccda9\",\"type\":\"BasicTicker\"}},\"id\":\"8884a31a-0a0f-44a6-8316-1b28ec742d22\",\"type\":\"Grid\"},{\"attributes\":{},\"id\":\"b4f1e3d7-a4b2-4fd8-9fca-67c609da8446\",\"type\":\"ResetTool\"},{\"attributes\":{\"bottom_units\":\"screen\",\"fill_alpha\":{\"value\":0.5},\"fill_color\":{\"value\":\"lightgrey\"},\"left_units\":\"screen\",\"level\":\"overlay\",\"line_alpha\":{\"value\":1.0},\"line_color\":{\"value\":\"black\"},\"line_dash\":[4,4],\"line_width\":{\"value\":2},\"plot\":null,\"render_mode\":\"css\",\"right_units\":\"screen\",\"top_units\":\"screen\"},\"id\":\"f7b5114c-8203-4eea-a44e-b711501f05e0\",\"type\":\"BoxAnnotation\"},{\"attributes\":{},\"id\":\"45bd1e47-adb1-4b19-bca7-af61c025f37e\",\"type\":\"SaveTool\"},{\"attributes\":{},\"id\":\"1d2ea76c-2ef0-4360-96e5-a83120f19c5f\",\"type\":\"LinearScale\"},{\"attributes\":{},\"id\":\"3a7186d0-3e2e-4115-ae31-b51b75800d06\",\"type\":\"WheelZoomTool\"},{\"attributes\":{},\"id\":\"2cb11d77-56eb-4250-9e2f-8991d1eccda9\",\"type\":\"BasicTicker\"},{\"attributes\":{},\"id\":\"d3c0d3e7-989d-4f64-aa2b-71fab78c917a\",\"type\":\"PanTool\"},{\"attributes\":{\"dimension\":\"height\",\"line_color\":{\"value\":\"Green\"},\"line_width\":{\"value\":2},\"location\":28,\"plot\":null},\"id\":\"2090d5dd-c0d1-4b05-9852-1f078b3d3a4f\",\"type\":\"Span\"},{\"attributes\":{\"callback\":null,\"data\":{\"x\":[6,7,8,9,10,11,12,13,14,15,16,17,18,19,20,21,22,23,24,25,26,27,28,29],\"y\":[386,610,944,1074,1206,1298,1779,1372,1424,1614,1718,1952,1959,1744,1674,1482,1573,1378,1381,821,654,413,245,292]},\"selected\":{\"id\":\"06015bdc-579b-4642-b2f9-5889ccba3a2a\",\"type\":\"Selection\"},\"selection_policy\":{\"id\":\"3fc69a50-0a21-4dd3-bc35-d3ff6675bb0a\",\"type\":\"UnionRenderers\"}},\"id\":\"5b11b2d1-8f72-47f3-b461-21a561271725\",\"type\":\"ColumnDataSource\"},{\"attributes\":{\"source\":{\"id\":\"5b11b2d1-8f72-47f3-b461-21a561271725\",\"type\":\"ColumnDataSource\"}},\"id\":\"ff653ca7-fa5a-4c30-8d6e-1c95c4e8111f\",\"type\":\"CDSView\"},{\"attributes\":{\"line_color\":\"Green\",\"line_width\":6,\"x\":{\"field\":\"x\"},\"y\":{\"field\":\"y\"}},\"id\":\"a3173296-5c9d-442d-a4c0-cc9e70b52ffb\",\"type\":\"Line\"}],\"root_ids\":[\"e7496580-80d5-40e7-8073-22a6fbbafee9\"]},\"title\":\"Bokeh Application\",\"version\":\"0.13.0\"}};\n",
       "  var render_items = [{\"docid\":\"ff4ae2a3-9d7b-4359-9540-f2bb2caaf24c\",\"roots\":{\"e7496580-80d5-40e7-8073-22a6fbbafee9\":\"e797024f-84ab-47c4-88f5-1f719b4df0c0\"}}];\n",
       "  root.Bokeh.embed.embed_items_notebook(docs_json, render_items);\n",
       "\n",
       "  }\n",
       "  if (root.Bokeh !== undefined) {\n",
       "    embed_document(root);\n",
       "  } else {\n",
       "    var attempts = 0;\n",
       "    var timer = setInterval(function(root) {\n",
       "      if (root.Bokeh !== undefined) {\n",
       "        embed_document(root);\n",
       "        clearInterval(timer);\n",
       "      }\n",
       "      attempts++;\n",
       "      if (attempts > 100) {\n",
       "        console.log(\"Bokeh: ERROR: Unable to run BokehJS code because BokehJS library is missing\")\n",
       "        clearInterval(timer);\n",
       "      }\n",
       "    }, 10, root)\n",
       "  }\n",
       "})(window);"
      ],
      "application/vnd.bokehjs_exec.v0+json": ""
     },
     "metadata": {
      "application/vnd.bokehjs_exec.v0+json": {
       "id": "e7496580-80d5-40e7-8073-22a6fbbafee9"
      }
     },
     "output_type": "display_data"
    }
   ],
   "source": [
    "from bokeh.plotting import figure \n",
    "from bokeh.io import output_notebook, show\n",
    "from bokeh.models import FuncTickFormatter, Span, ColumnDataSource, Range1d, LinearAxis\n",
    "from bokeh.transform import cumsum\n",
    "from math import pi\n",
    "\n",
    "output_notebook()\n",
    "\n",
    "p = figure(title=\"Total number of police incidents at each hour throughout the summer of 2014\")\n",
    "\n",
    "p.line(x=df_HOUR[\"Hour\"],y=df_HOUR[\"IncidntNum\"], line_width=6, line_color=\"Green\")\n",
    "\n",
    "SF_MIN = Span(location=minHour, dimension='height', line_color='Green', line_width=2)\n",
    "SF_MAX = Span(location=maxHour, dimension='height', line_color='Green', line_width=2)\n",
    "p.renderers.extend([SF_MIN, SF_MAX])\n",
    "\n",
    "timeFormatter = FuncTickFormatter(code=\"\"\"\n",
    "    var s = \"0\" + ((tick%1)*60.0).toFixed(0);\n",
    "    return (tick % 24).toFixed(0) + \":\" + s.substr(s.length-2);\n",
    "\"\"\")\n",
    "\n",
    "p.yaxis.axis_label = \"Number of Incidents\"\n",
    "p.xaxis.axis_label = \"Time of Incident\"\n",
    "p.xaxis[0].formatter = timeFormatter\n",
    "\n",
    "show(p)"
   ]
  },
  {
   "cell_type": "markdown",
   "metadata": {},
   "source": [
    "From the graph above it can be seen that in San Francisco the peak time for police incidents is 18:00 while the lowest \n",
    "number of incidents occur at 4:00. This is as I suspected that more crimes occur in the evening than during the day (which can also be seen by the sinusodal shape of the graph. However, what is unexpected is that the peak occurs so early 18:00 , when it is still light during the summer months. "
   ]
  },
  {
   "cell_type": "markdown",
   "metadata": {},
   "source": [
    "## Grouping police incidents by description\n",
    "What I suspect is that different types of incidents may occur more frequently at different times of day. To begin we first get a list of all the different descriptions present in our dataset. We group our dataset by \"Descript\" and count the number of incidntNums in each description. We display this below to get a list.\n",
    "\n",
    "We can see that most incidents are \"Grand Theft From Locked Auto\". But we can also see that there are 368 different descriptions which are perhaps too granular to be able to compare different categories."
   ]
  },
  {
   "cell_type": "code",
   "execution_count": 5,
   "metadata": {},
   "outputs": [
    {
     "name": "stdout",
     "output_type": "stream",
     "text": [
      "                                                  IncidntNum\n",
      "Descript                                                    \n",
      "GRAND THEFT FROM LOCKED AUTO                            3766\n",
      "STOLEN AUTOMOBILE                                       1350\n",
      "LOST PROPERTY                                           1202\n",
      "PETTY THEFT OF PROPERTY                                 1125\n",
      "WARRANT ARREST                                           980\n",
      "PETTY THEFT FROM LOCKED AUTO                             955\n",
      "BATTERY                                                  903\n",
      "FOUND PROPERTY                                           757\n",
      "GRAND THEFT FROM UNLOCKED AUTO                           681\n",
      "SUSPICIOUS OCCURRENCE                                    677\n",
      "FOUND PERSON                                             637\n",
      "INVESTIGATIVE DETENTION                                  559\n",
      "GRAND THEFT OF PROPERTY                                  485\n",
      "THREATS AGAINST LIFE                                     473\n",
      "ENROUTE TO OUTSIDE JURISDICTION                          470\n",
      "PETTY THEFT FROM A BUILDING                              451\n",
      "RESISTING ARREST                                         382\n",
      "PETTY THEFT SHOPLIFTING                                  379\n",
      "MISSING ADULT                                            362\n",
      "STOLEN TRUCK                                             350\n",
      "TRAFFIC VIOLATION ARREST                                 337\n",
      "TRAFFIC VIOLATION                                        330\n",
      "GRAND THEFT FROM PERSON                                  321\n",
      "LOST/STOLEN LICENSE PLATE                                316\n",
      "INFLICT INJURY ON COHABITEE                              297\n",
      "AGGRAVATED ASSAULT WITH A DEADLY WEAPON                  294\n",
      "DOMESTIC VIOLENCE                                        286\n",
      "PROBATION VIOLATION                                      284\n",
      "GRAND THEFT FROM A BUILDING                              277\n",
      "TRESPASSING                                              269\n",
      "...                                                      ...\n",
      "TRESPASSING ON RAILROAD TRAINS                             1\n",
      "PETTY THEFT COIN OPERATED MACHINE                          1\n",
      "ATTEMPTED ROBBERY SERVICE STATION WITH A KNIFE             1\n",
      "MINOR ON ON-SALE LICENSED PREMISE                          1\n",
      "DISRUPTS SCHOOL ACTIVITIES                                 1\n",
      "ESCAPE OR ASSISTING ESCAPE                                 1\n",
      "LOITERS AROUND PUBLIC TOILET FOR LEWD ACT                  1\n",
      "IMPERSONATING FIRE DEPARTMENT MEMBER                       1\n",
      "ATTEMPTED SUICIDE BY FIREARMS                              1\n",
      "UNLAWFUL TRANSPORTATION OF ALCOHOL                         1\n",
      "ATTEMPTED ROBBERY RESIDENCE WITH A GUN                     1\n",
      "ARSON OF A VACANT BUILDING                                 1\n",
      "FAILURE TO PROVIDE FOR CHILD                               1\n",
      "PEEPING TOM                                                1\n",
      "HABITUAL TRUANT                                            1\n",
      "JUDGE/JUROR ACCEPTING A BRIBE                              1\n",
      "SOLICITS LEWD ACT                                          1\n",
      "ROBBERY OF A COMMERCIAL ESTABLISHMENT W/ A KNIFE           1\n",
      "IMPERSONATING PUBLIC UTILITY MEMBER                        1\n",
      "AGGRESSIVE SOLICITING                                      1\n",
      "VIOLATION OF FEDERAL STATUTE                               1\n",
      "SAFE BURGLARY OF A STORE                                   1\n",
      "ATTEMPTED AUTO STRIP                                       1\n",
      "BRIBERY OF EXECUTIVE OFFICER                               1\n",
      "ATTEMPTED ARSON                                            1\n",
      "POSSESSION OF OBSCENE MATTER FOR SALE                      1\n",
      "STOLEN BUS                                                 1\n",
      "ACCIDENTAL BURNS                                           1\n",
      "MAYHEM WITH A GUN                                          1\n",
      "PETTY THEFT MOTORCYCLE STRIP                               1\n",
      "\n",
      "[368 rows x 1 columns]\n"
     ]
    }
   ],
   "source": [
    "dfDescriptGROUP = df.groupby(pd.Grouper(key=\"Descript\"))[[\"IncidntNum\"]].count()\n",
    "dfDescriptGROUP = dfDescriptGROUP.sort_values(by=[\"IncidntNum\"], ascending=False)\n",
    "print dfDescriptGROUP"
   ]
  },
  {
   "cell_type": "markdown",
   "metadata": {},
   "source": [
    "To be be able to compare the different descriptions we will attempt to group the descirptions into common groups. I created a list of categories and I will consider a description to fall within a category if that category name occurs within the description title. This is a pretty naive way to split the categories but it doesn't require detail knowledge of all the different descriptions. We then split the data into each category and calculate the number of incidents for each category and also the hour of max and min number of incidents. We also get the incidents per hour for each category.\n",
    "\n",
    "However, there are many incident descriptions which don't fall within an any category. To account for this we will create another category \"OTHER\" which includes all descriptions which fall in no category."
   ]
  },
  {
   "cell_type": "code",
   "execution_count": 6,
   "metadata": {},
   "outputs": [],
   "source": [
    "# prepare data for our graphs - \n",
    "listOfCategories = [\"ROBBERY\",\"THEFT\", \"ASSAULT\", \"POSSESSION\", \"SALE\", \"HOMICIDE\", \"BATTERY\", \"LOST\", \"STOLEN\" ];\n",
    "\n",
    "data = {\n",
    "    \"categories\": listOfCategories,\n",
    "    \"min\":[],\n",
    "    \"max\":[],\n",
    "    \"totIncidents\":[],\n",
    "    \"incidentTypes\":[],\n",
    "    \"incidntNum\":[]\n",
    "}\n",
    "\n",
    "def extractDetails(df):\n",
    "    data['incidentTypes'].append(df['Descript'].unique())\n",
    "    data['totIncidents'].append(len(df))\n",
    "    df_Hour = df.groupby(pd.Grouper(key=\"Hour\")).count().reset_index()\n",
    "    df_Hour['Hour'] = df_Hour['Hour'].transform(rotateTime)\n",
    "    df_Hour_H = df_Hour.set_index(\"Hour\")\n",
    "    df_Hour_H = df_Hour_H.reindex(range(6, 6+24), fill_value=0)\n",
    "    data['incidntNum'].append(df_Hour_H['IncidntNum'])\n",
    "    data['max'].append(df_Hour.loc[df_Hour['IncidntNum'].idxmax()].Hour)\n",
    "    data['min'].append(df_Hour.loc[df_Hour['IncidntNum'].idxmax()].Hour)\n",
    "\n",
    "def isInNoCategory(x):\n",
    "    return True if not any(s in x['Descript'] for s in listOfCategories) else False\n",
    " \n",
    "#Extract only entries for each category then group by hour and get the hour with most incidents and least    \n",
    "for c in data[\"categories\"]:\n",
    "    df_Filtered = df[df.apply(lambda x: c in x['Descript'], axis=1, result_type='reduce')]\n",
    "    extractDetails(df_Filtered)\n",
    "\n",
    "# Get all entries which don't fit in any category   \n",
    "df_Filtered_Other = df[df.apply(isInNoCategory, axis=1, result_type='reduce')]\n",
    "data['categories'].append(\"OTHER\")\n",
    "extractDetails(df_Filtered_Other)"
   ]
  },
  {
   "cell_type": "markdown",
   "metadata": {},
   "source": [
    "Next we want to compare the number incidents (in total) for each category. To display this we calculate the proportion of incidents for each category. We then display a pie chart. There is a hover-over tooltip on each segment which displays the percentage proportion of each category."
   ]
  },
  {
   "cell_type": "code",
   "execution_count": 7,
   "metadata": {},
   "outputs": [
    {
     "data": {
      "text/html": [
       "\n",
       "\n",
       "\n",
       "\n",
       "\n",
       "\n",
       "  <div class=\"bk-root\" id=\"fa68ecd1-76b3-4a51-9eb4-2dc66c65dab9\"></div>\n"
      ]
     },
     "metadata": {},
     "output_type": "display_data"
    },
    {
     "data": {
      "application/javascript": [
       "(function(root) {\n",
       "  function embed_document(root) {\n",
       "    \n",
       "  var docs_json = {\"d6865418-efaf-47f1-9149-686324a71412\":{\"roots\":{\"references\":[{\"attributes\":{\"data_source\":{\"id\":\"f4ea2e1b-1895-4d55-8935-0789c0be6d30\",\"type\":\"ColumnDataSource\"},\"glyph\":{\"id\":\"017a5623-a37b-4add-b711-1f2bf1f67414\",\"type\":\"Wedge\"},\"hover_glyph\":null,\"muted_glyph\":null,\"nonselection_glyph\":{\"id\":\"331601c7-db2f-4616-9e2d-beb057d0425e\",\"type\":\"Wedge\"},\"selection_glyph\":null,\"view\":{\"id\":\"317cc294-06a0-451b-b944-47fdfcfe9600\",\"type\":\"CDSView\"}},\"id\":\"5fb6b92b-f1fa-46a9-aa5b-50553afde148\",\"type\":\"GlyphRenderer\"},{\"attributes\":{\"items\":[{\"id\":\"67ce873c-88f4-41be-a134-16e79701609f\",\"type\":\"LegendItem\"}],\"plot\":{\"id\":\"c19a8067-ed4a-4d54-9d72-1b94d78bbbd4\",\"subtype\":\"Figure\",\"type\":\"Plot\"}},\"id\":\"d1030bb2-991b-491f-8252-f5ec8ac11f3f\",\"type\":\"Legend\"},{\"attributes\":{},\"id\":\"527a3012-f0aa-4a5e-9fc2-589444a619f8\",\"type\":\"Selection\"},{\"attributes\":{},\"id\":\"3e10f0ea-dbd7-4030-ab64-695a62325a27\",\"type\":\"LinearScale\"},{\"attributes\":{\"label\":{\"field\":\"categories\"},\"renderers\":[{\"id\":\"5fb6b92b-f1fa-46a9-aa5b-50553afde148\",\"type\":\"GlyphRenderer\"}]},\"id\":\"67ce873c-88f4-41be-a134-16e79701609f\",\"type\":\"LegendItem\"},{\"attributes\":{\"formatter\":{\"id\":\"bd644bc8-6332-4fa5-b584-a1ddec2b40b4\",\"type\":\"BasicTickFormatter\"},\"plot\":{\"id\":\"c19a8067-ed4a-4d54-9d72-1b94d78bbbd4\",\"subtype\":\"Figure\",\"type\":\"Plot\"},\"ticker\":{\"id\":\"b1e9e915-d1ea-4b1b-97d1-db9caa7c9908\",\"type\":\"BasicTicker\"},\"visible\":null},\"id\":\"7965a408-c429-407a-921c-29d5fbc70dd9\",\"type\":\"LinearAxis\"},{\"attributes\":{\"below\":[{\"id\":\"5137fc90-31c9-4ebe-b573-265f2943b2a6\",\"type\":\"LinearAxis\"}],\"left\":[{\"id\":\"7965a408-c429-407a-921c-29d5fbc70dd9\",\"type\":\"LinearAxis\"}],\"plot_height\":350,\"renderers\":[{\"id\":\"5137fc90-31c9-4ebe-b573-265f2943b2a6\",\"type\":\"LinearAxis\"},{\"id\":\"d68ae6e2-3589-496b-88b2-678727daa35f\",\"type\":\"Grid\"},{\"id\":\"7965a408-c429-407a-921c-29d5fbc70dd9\",\"type\":\"LinearAxis\"},{\"id\":\"59f057e8-a485-4d4e-8b08-888b5d2022ee\",\"type\":\"Grid\"},{\"id\":\"d1030bb2-991b-491f-8252-f5ec8ac11f3f\",\"type\":\"Legend\"},{\"id\":\"5fb6b92b-f1fa-46a9-aa5b-50553afde148\",\"type\":\"GlyphRenderer\"}],\"title\":{\"id\":\"c23aa9df-b997-4e54-ac1a-aac0abde484d\",\"type\":\"Title\"},\"toolbar\":{\"id\":\"348bb55c-9dde-43de-9c61-63b5c5ee94b2\",\"type\":\"Toolbar\"},\"toolbar_location\":null,\"x_range\":{\"id\":\"378eab62-72f5-4620-ba5f-21853b2fcb69\",\"type\":\"DataRange1d\"},\"x_scale\":{\"id\":\"919f9f56-898c-4363-9ad7-1464ef605dfc\",\"type\":\"LinearScale\"},\"y_range\":{\"id\":\"6927160a-303e-4067-a994-988c678e02a0\",\"type\":\"DataRange1d\"},\"y_scale\":{\"id\":\"3e10f0ea-dbd7-4030-ab64-695a62325a27\",\"type\":\"LinearScale\"}},\"id\":\"c19a8067-ed4a-4d54-9d72-1b94d78bbbd4\",\"subtype\":\"Figure\",\"type\":\"Plot\"},{\"attributes\":{\"callback\":null,\"data\":{\"angle\":[0.06378868332162016,2.0233770349617917,0.1586211925264288,0.28938799333575016,0.0763337910415388,0.006378868332162017,0.22007095745958957,0.32277073760739805,0.48692028268836723,2.63553576590494],\"categories\":[\"ROBBERY\",\"THEFT\",\"ASSAULT\",\"POSSESSION\",\"SALE\",\"HOMICIDE\",\"BATTERY\",\"LOST\",\"STOLEN\",\"OTHER\"],\"color\":[\"#5e4fa2\",\"#3288bd\",\"#66c2a5\",\"#abdda4\",\"#e6f598\",\"#fee08b\",\"#fdae61\",\"#f46d43\",\"#d53e4f\",\"#9e0142\"],\"incidentTypes\":[[\"ROBBERY OF A CHAIN STORE WITH BODILY FORCE\",\"ROBBERY ON THE STREET WITH A KNIFE\",\"ROBBERY ON THE STREET WITH A DANGEROUS WEAPON\",\"ROBBERY OF A SERVICE STATION WITH BODILY FORCE\",\"ROBBERY ON THE STREET WITH A GUN\",\"ROBBERY OF A RESIDENCE WITH BODILY FORCE\",\"ATTEMPTED ROBBERY RESIDENCE WITH BODILY FORCE\",\"ATTEMPTED ROBBERY ON THE STREET WITH A KNIFE\",\"ATTEMPTED ROBBERY WITH BODILY FORCE\",\"ATTEMPTED ROBBERY ON THE STREET WITH BODILY FORCE\",\"ATTEMPTED ROBBERY ON THE STREET WITH A GUN\",\"ROBBERY OF A RESIDENCE WITH A GUN\",\"ATTEMPTED ROBBERY WITH A KNIFE\",\"KIDNAPPING DURING ROBBERY\",\"ATTEMPTED ROBBERY ON THE STREET W/DEADLY WEAPON\",\"ROBBERY OF A COMMERCIAL ESTABLISHMENT WITH A GUN\",\"ATTEMPTED ROBBERY SERVICE STATION WITH A KNIFE\",\"ROBBERY OF A SERVICE STATION WITH A GUN\",\"ATTEMPTED ROBBERY WITH A GUN\",\"ROBBERY OF A CHAIN STORE WITH A KNIFE\",\"ATTEMPTED ROBBERY COMM. ESTAB. WITH BODILY FORCE\",\"ATTEMPTED ROBBERY CHAIN STORE WITH BODILY FORCE\",\"ATTEMPTED ROBBERY RESIDENCE WITH A GUN\",\"ROBBERY OF A BANK WITH A GUN\",\"ATTEMPTED ROBBERY OF A BANK WITH BODILY FORCE\",\"ATTEMPTED ROBBERY COMM. ESTAB. WITH DEADLY WEAPON\",\"ATTEMPTED ROBBERY COMM. ESTABLISHMENT WITH A GUN\",\"ROBBERY OF A COMMERCIAL ESTABLISHMENT W/ A KNIFE\",\"ATTEMPTED ROBBERY WITH A DEADLY WEAPON\",\"ROBBERY OF A COMMERCIAL ESTABLISHMENT W/ WEAPON\",\"ATTEMPTED ROBBERY CHAIN STORE WITH DEADLY WEAPON\",\"ROBBERY OF A RESIDENCE WITH A KNIFE\",\"ROBBERY OF A CHAIN STORE WITH A GUN\",\"ATTEMPTED ROBBERY OF A BANK WITH A DEADLY WEAPON\",\"ROBBERY OF A CHAIN STORE WITH A DANGEROUS WEAPON\",\"ROBBERY OF A BANK WITH BODILY FORCE\",\"ATTEMPTED ROBBERY RESIDENCE WITH A KNIFE\"],[\"GRAND THEFT FROM LOCKED AUTO\",\"PETTY THEFT OF PROPERTY\",\"PETTY THEFT FROM LOCKED AUTO\",\"GRAND THEFT FROM UNLOCKED AUTO\",\"PETTY THEFT SHOPLIFTING\",\"GRAND THEFT PICKPOCKET\",\"GRAND THEFT FROM PERSON\",\"PETTY THEFT BICYCLE\",\"PETTY THEFT FROM A BUILDING\",\"PETTY THEFT FROM UNLOCKED AUTO\",\"GRAND THEFT OF PROPERTY\",\"GRAND THEFT BICYCLE\",\"ELDER ADULT OR DEPENDENT ABUSE (NOT EMBEZZLEMENT OR THEFT)\",\"ATTEMPTED THEFT FROM LOCKED VEHICLE\",\"GRAND THEFT PURSESNATCH\",\"GRAND THEFT AUTO STRIP\",\"PETTY THEFT WITH PRIOR\",\"THEFT FROM MERCHANT OR LIBRARY\",\"GRAND THEFT FROM A BUILDING\",\"ATTEMPTED THEFT OF A BICYCLE\",\"GRAND THEFT SHOPLIFTING\",\"GRAND THEFT BY PROSTITUTE\",\"THEFT OF ANIMALS (GENERAL)\",\"THEFT OF COMPUTERS OR CELL PHONES\",\"PETTY THEFT AUTO STRIP\",\"THEFT OF CHECKS OR CREDIT CARDS\",\"ATTEMPTED THEFT FROM A BUILDING\",\"PETTY THEFT COIN OPERATED MACHINE\",\"THEFT OF WRITTEN INSTRUMENT\",\"ATTEMPTED PETTY THEFT OF PROPERTY\",\"ATTEMPTED GRAND THEFT FROM PERSON\",\"THEFT OF UTILITY SERVICES\",\"ATTEMPTED THEFT FROM UNLOCKED VEHICLE\",\"GRAND THEFT COIN OPERATED MACHINE\",\"PETTY THEFT MOTORCYCLE STRIP\"],[\"AGGRAVATED ASSAULT WITH BODILY FORCE\",\"AGGRAVATED ASSAULT WITH A DEADLY WEAPON\",\"AGGRAVATED ASSAULT WITH A KNIFE\",\"ASSAULT\",\"AGGRAVATED ASSAULT WITH A GUN\",\"POSS OF DEADLY WEAPON WITH INTENT TO ASSAULT\",\"ASSAULT ON A POLICE OFFICER WITH A DEADLY WEAPON\",\"ASSAULT WITH CAUSTIC CHEMICALS\",\"AGGRAVATED ASSAULT ON POLICE OFFICER WITH A KNIFE\",\"ATTEMPTED SIMPLE ASSAULT\"],[\"POSSESSION OF MARIJUANA\",\"POSSESSION OF CONTROLLED SUBSTANCE FOR SALE\",\"POSSESSION OF METH-AMPHETAMINE FOR SALE\",\"POSSESSION OF HEROIN FOR SALES\",\"POSSESSION OF METH-AMPHETAMINE\",\"POSSESSION OF COCAINE\",\"POSSESSION OF NARCOTICS PARAPHERNALIA\",\"POSSESSION OF CONTROLLED SUBSTANCE\",\"POSSESSION OF METHADONE\",\"POSSESSION OF MARIJUANA FOR SALES\",\"POSSESSION OF BASE/ROCK COCAINE\",\"POSSESSION OF AIR GUN\",\"POSSESSION OF HEROIN\",\"POSSESSION OF BASE/ROCK COCAINE FOR SALE\",\"POSSESSION OF HALLUCINOGENIC FOR SALES\",\"POSSESSION OF BURGLARY TOOLS\",\"POSSESSION OF BURGLARY TOOLS W/PRIORS\",\"POSSESSION OF OPIATES\",\"POSSESSION OF ALCOHOL BY MINOR\",\"POSSESSION OF COCAINE FOR SALES\",\"POSSESSION OF EXPLOSIVE DEVICE\",\"FIREARM POSSESSION IN SCHOOL ZONE\",\"POSSESSION OF AMPHETAMINE FOR SALES\",\"POSSESSION OF HALLUCINOGENIC\",\"POSSESSION OF OPIUM DERIVATIVE\",\"POSSESSION OF METHADONE FOR SALES\",\"POSSESSION OF OBSCENE MATTER FOR SALE\",\"POSSESSION OF OPIATES FOR SALES\",\"POSSESSION OF CAUSTIC CHEMICAL\",\"POSSESSION OF FIRECRACKERS\",\"POSSESSION OF MACHINE GUN\"],[\"POSSESSION OF CONTROLLED SUBSTANCE FOR SALE\",\"POSSESSION OF METH-AMPHETAMINE FOR SALE\",\"POSSESSION OF HEROIN FOR SALES\",\"POSSESSION OF MARIJUANA FOR SALES\",\"SALE OF MARIJUANA\",\"MINOR ON ON-SALE LICENSED PREMISE\",\"POSSESSION OF BASE/ROCK COCAINE FOR SALE\",\"SALE OF BASE/ROCK COCAINE\",\"POSSESSION OF HALLUCINOGENIC FOR SALES\",\"SALE OF HEROIN\",\"SALE OF CONTROLLED SUBSTANCE\",\"SALE OF METH-AMPHETAMINE\",\"POSSESSION OF COCAINE FOR SALES\",\"SALE OF ALCOHOL TO MINOR\",\"POSSESSION OF AMPHETAMINE FOR SALES\",\"SALE OF OPIATES\",\"POSSESSION OF METHADONE FOR SALES\",\"POSSESSION OF OBSCENE MATTER FOR SALE\",\"SALE OF COCAINE\",\"POSSESSION OF OPIATES FOR SALES\",\"SALE OF BARBITUATES\",\"SALE OF ALCOHOL TO MINOR IN BAR\"],[\"ATTEMPTED HOMICIDE WITH A GUN\",\"ATTEMPTED HOMICIDE WITH A KNIFE\",\"ATTEMPTED HOMICIDE WITH A DANGEROUS WEAPON\",\"ATTEMPTED HOMICIDE WITH BODILY FORCE\"],[\"BATTERY\",\"BATTERY WITH SERIOUS INJURIES\",\"BATTERY OF A POLICE OFFICER\"],[\"LOST PROPERTY\",\"LOST/STOLEN LICENSE PLATE\"],[\"STOLEN TRUCK\",\"STOLEN AUTOMOBILE\",\"STOLEN MOTORCYCLE\",\"LOST/STOLEN LICENSE PLATE\",\"STOLEN AND RECOVERED VEHICLE\",\"ATTEMPTED STOLEN VEHICLE\",\"RECEIVING STOLEN PROPERTY\",\"STOLEN BUS\",\"STOLEN MISCELLANEOUS VEHICLE\"],[\"ARSON OF A VEHICLE\",\"FOUND PROPERTY\",\"DRIVING WHILE UNDER THE INFLUENCE OF ALCOHOL\",\"EVADING A POLICE OFFICER RECKLESSLY\",\"TRESPASSING\",\"DEFRAUDING AN INNKEEPER\",\"SUSPICIOUS OCCURRENCE\",\"DOMESTIC VIOLENCE\",\"THREATS AGAINST LIFE\",\"MISCELLANEOUS INVESTIGATION\",\"SHOOTING INTO INHABITED DWELLING OR OCCUPIED VEHICLE\",\"POSS OF FIREARM BY CONVICTED FELON/ADDICT/ALIEN\",\"CRUELTY TO ANIMALS\",\"INVESTIGATIVE DETENTION\",\"MISSING JUVENILE\",\"CASE CLOSURE\",\"RESISTING ARREST\",\"ENROUTE TO DEPARTMENT OF CORRECTIONS\",\"WARRANT ARREST\",\"TRAFFIC VIOLATION ARREST\",\"EXHIBITING DEADLY WEAPON IN A THREATING MANNER\",\"SPEEDING\",\"OPERATING TAXI WITHOUT A PERMIT\",\"AIDED CASE -PROPERTY FOR DESTRUCTION\",\"MISSING ADULT\",\"FOUND PERSON\",\"FALSE PERSONATION\",\"ENROUTE TO OUTSIDE JURISDICTION\",\"CARRYING A CONCEALED WEAPON\",\"POSS OF LOADED FIREARM\",\"GANG ACTIVITY\",\"INFLICT INJURY ON COHABITEE\",\"SEARCH WARRANT SERVICE\",\"PROPERTY FOR IDENTIFICATION\",\"PROBATION VIOLATION\",\"FALSE PERSONATION TO RECEIVE MONEY OR PROPERTY\",\"ARSON OF AN INHABITED DWELLING\",\"HARASSING PHONE CALLS\",\"COURTESY REPORT\",\"MISCELLANEOUS STATE FELONY\",\"VIOLATION OF MUNICIPAL CODE\",\"INJURY TO TELEGRAPH/TELEPHONE LINES\",\"SHELTER\",\"MINOR PURCHASING OR RECEIVING TOBACCO PRODUCT\",\"FALSE EVIDENCE OF VEHICLE REGISTRATION\",\"BEYOND PARENTAL CONTROL\",\"TRAFFIC VIOLATION\",\"THROWING SUBSTANCE AT VEHICLE\",\"UNDER INFLUENCE OF ALCOHOL IN A PUBLIC PLACE\",\"THREATENING PHONE CALL(S)\",\"LOCATED PROPERTY\",\"LOITERING FOR PURPOSE OF PROSTITUTION\",\"INDECENT EXPOSURE - PROSTITUTION RELATED\",\"VIOLATION OF EMERGENCY PROTECTIVE ORDER\",\"DRIVING WHILE UNDER THE INFLUENCE OF DRUGS\",\"ARSON\",\"CHILD ABUSE (PHYSICAL)\",\"FRAUDULENT USE OF AUTOMATED TELLER CARD\",\"CONSPIRACY\",\"DANGER OF LEADING IMMORAL LIFE\",\"PUBLIC TRANSIT CRIMES - INFRACTIONS\",\"PAROLE VIOLATION\",\"AIDED CASE\",\"CARRYING OF CONCEALED WEAPON BY CONVICTED FELON\",\"UNUSUAL OCCURENCE\",\"PROBATION SEARCH\",\"AID OR HARBOR FELON\",\"JUVENILE INVOLVED\",\"TAMPERING WITH A VEHICLE\",\"DISCHARGING IN GROSSLY NEGLIGENT MANNER\",\"FRAUDULENT CREDIT APPLICATION\",\"FIRE REPORT\",\"SUSPICIOUS ACT TOWARDS FEMALE\",\"TRANSPORTATION OF METH-AMPHETAMINE\",\"MISCELLANEOUS LIQOUR LAW VIOLATION\",\"POSS OF PROHIBITED WEAPON\",\"ENROUTE TO PAROLE OFFICER\",\"LICENSE REQUIRED TO SELL ALCOHOL\",\"TRAFFIC ACCIDENT\",\"TARASOFF REPORT\",\"VIOLATION OF RESTRAINING ORDER\",\"FALSE ID TO PEACE OFFICER\",\"ATTEMPTED MAYHEM WITH A DEADLY WEAPON\",\"OBSCENE PHONE CALLS(S)\",\"SUSPICIOUS PERSON\",\"VIOLATION OF STAY AWAY ORDER\",\"FALSE PERSONATION AND CHEAT CRIMES (GENERAL)\",\"ATM RELATED CRIME\",\"MISPLACED VEHICLE\",\"FALSE IMPRISONMENT\",\"FALSE REPORT OF EMERGENCY\",\"IMMORAL ACTS OR DRUNK IN PRESENCE OF CHILD\",\"VIOLATION OF MUNICIPAL POLICE CODE\",\"MISCELLANEOUS STATE MISDEMEANOR\",\"ENROUTE TO U.S. MARSHALL\",\"REFUSING TO DISPERSE UPON LAWFUL COMMAND\",\"INCIDENT ON SCHOOL GROUNDS\",\"THREATENING SCHOOL OR PUBLIC EMPLOYEE\",\"DISRUPTS SCHOOL ACTIVITIES\",\"LODGING WITHOUT PERMISSION\",\"COMMITTING PUBLIC NUISANCE\",\"DEFRAUDING TAXI DRIVER\",\"FORGERY & COUNTERFEITING (GENERAL)\",\"RESTRAINING ORDER NOTIFICATION/SERVICE OF RESTRAINING ORDER\",\"PAROLE SEARCH\",\"HUMAN TRAFFICKING\",\"EMBEZZLEMENT (GENERAL)\",\"ABANDONMENT OF CHILD\",\"SAFE BURGLARY OF A RESIDENCE\",\"FAILURE TO REGISTER AS SEX OFFENDER\",\"MASSAGE ESTABLISHMENT PERMIT VIOLATION\",\"THREAT OR FORCE TO RESIST EXECUTIVE OFFICER\",\"LOITERING WHILE CARRYING CONCEALED WEAPON\",\"WILLFUL CRUELTY TO CHILD\",\"ENROUTE TO ADULT AUTHORITY\",\"TURNED IN GUN\",\"LOITERS AROUND PUBLIC TOILET FOR LEWD ACT\",\"DISCHARGE FIREARM WITHIN CITY LIMITS\",\"ATTEMPTED SUICIDE\",\"STALKING\",\"ATTEMPTED SUICIDE BY JUMPING\",\"ATTEMPTED SUICIDE BY FIREARMS\",\"OPEN CONTAINER OF ALCOHOL IN VEHICLE\",\"POST RELEASE COMMUNITY SUPERVISION\",\"SAFE BURGLARY\",\"RECKLESS DRIVING\",\"VIOLATION OF PARK CODE\",\"VIOLATION OF FIRE CODE\",\"DAMAGE TO FIRE ALARM APPARATUS\",\"POSS OF TEAR GAS WEAPON\",\"GRAFFITI ON GOVERNMENT VEHICLES OR PUBLIC TRANSPORTATION\",\"SUSPICIOUS ACT TOWARDS CHILD\",\"CARJACKING WITH A GUN\",\"MAYHEM WITH A DEADLY WEAPON\",\"CARJACKING WITH BODILY FORCE\",\"IMPERSONATING FIRE DEPARTMENT MEMBER\",\"INDECENT EXPOSURE (JUVENILE VICTIM)\",\"ACTS AGAINST PUBLIC TRANSIT\",\"FAILURE TO HEED RED LIGHT AND SIREN\",\"UNDER INFLUENCE OF DRUGS IN A PUBLIC PLACE\",\"INDECENT EXPOSURE\",\"EVADING A POLICE VEHICLE OR BICYCLE\",\"OBSTRUCTIONS ON STREETS/SIDEWALKS\",\"VANDALISM OR GRAFFITI ON OR WITHIN 100 FT OF HIGHWAY\",\"LOCATED EXPLOSIVE DEVICE\",\"PLANTING/CULTIVATING MARIJUANA\",\"ESCAPE OR ASSISTING ESCAPE\",\"FALSE FIRE ALARM\",\"EMBEZZLEMENT FROM DEPENDENT OR ELDER ADULT BY CARETAKER\",\"MAINTAINING PREMISE WHERE NARCOTICS ARE SOLD/USED\",\"INMATE/KEEPER OF HOUSE OF PROSTITUTION\",\"DISTURBING THE PEACE\",\"PREJUDICE-BASED INCIDENT\",\"LOITERING WHERE NARCOTICS ARE SOLD/USED\",\"CONTRIBUTING TO THE DELINQUENCY OF MINOR\",\"ENROUTE TO PROBATION OFFICER\",\"INDECENT EXPOSURE WITH PRIOR CONVICTION\",\"RUNAWAY\",\"ATTEMPTED SUICIDE BY INGESTION\",\"TRESPASSING ON RAILROAD TRAINS\",\"CHILD STEALING\",\"SUSPICIOUS PACKAGE\",\"TRANSPORTAION OF CONTROLLED SUBSTANCE\",\"DISCHARGE FIREARM AT AN INHABITED DWELLING\",\"UNLAWFUL DISSUADING/THREATENING OF A WITNESS\",\"DAMAGE TO MAIL BOX\",\"INTOXICATED JUVENILE\",\"FIREARM WITH ALTERED IDENTIFICATION\",\"AUTO IMPOUNDED\",\"GAMBLING\",\"IMPERSONATING A POLICE OFFICER\",\"MAINTAINING A PUBLIC NUISANCE AFTER NOTIFICATION\",\"ATTEMPTED SHOPLIFTING\",\"CONSUMING ALCOHOL IN PUBLIC VIEW\",\"SCALPING TICKETS\",\"EMBEZZLED VEHICLE\",\"ATTEMPTED SUICIDE BY LACERATION\",\"UNLAWFUL TRANSPORTATION OF ALCOHOL\",\"ARSON OF A VACANT BUILDING\",\"SAFE BURGLARY OF A STORE\",\"MAYHEM WITH A GUN\",\"FORGE OR ALTER PRESCRIPTION\",\"UNDER THE INFLUENCE OF CONTROLLED SUBSTANCES\",\"IMPOUNDED VEHICLE\",\"MINOR WITHOUT PROPER PARENTAL CARE\",\"ACCIDENTAL BURNS\",\"ATTEMPTED EXTORTION\",\"FALSE REPORT OF BOMB\",\"PHONE CALLS IN VIOLATION OF DV COURT ORDER\",\"PEDDLING WITHOUT A LICENSE\",\"ATTEMPTED ARSON\",\"BRIBERY OF EXECUTIVE OFFICER\",\"PANDERING\",\"PIMPING\",\"ATTEMPTED AUTO STRIP\",\"VIOLATION OF FEDERAL STATUTE\",\"FAILURE TO PROVIDE FOR CHILD\",\"AGGRESSIVE SOLICITING\",\"TRANSPORTATION OF COCAINE\",\"IMPERSONATING PUBLIC UTILITY MEMBER\",\"SOLICITS LEWD ACT\",\"JUDGE/JUROR ACCEPTING A BRIBE\",\"HABITUAL TRUANT\",\"PEEPING TOM\",\"TAMPERING WITH MARKS ON FIREARM\",\"SUICIDE BY STRANGULATION\",\"TRANSPORTATION OF MARIJUANA\",\"SOLICITS FOR ACT OF PROSTITUTION\",\"SELLING/DISCHARGING OF FIRECRACKERS\",\"FALSE REPORT OF CRIME\",\"SPITTING ON SIDEWALK\",\"OTHER OFFENSES AGAINST PUBLIC JUSTICE\",\"LYNCHING BY RIOT\",\"MAYHEM WITH BODILY FORCE\",\"DESTROYING JAIL PROPERTY-OVER $200\",\"TERRORIZING BY ARSON OR EXPLOSIVE DEVICE\",\"MINOR PURCHASING ALCOHOL\",\"FALSIFYING JUDICIAL & PUBLIC RECORDS & DOCUMENTS\",\"UNSOLICITED FAX ADVERTISING\",\"EXTORTION\",\"UNAUTHORIZED USE OF LOUD SPEAKERS\",\"THROWING INJURIOUS SUBSTANCE ON HIGHWAY\",\"OPERATING WITHOUT DANCEHALL PERMIT\",\"TRANSPORTATION OF HEROIN\",\"ESCAPE FROM JAIL\",\"FAILURE TO REGISTER AS NARCOTICS ADDICT\",\"SUICIDE BY FIREARMS\"]],\"incidntNum\":[[8,5,10,8,5,9,21,11,10,7,10,15,16,14,15,16,19,23,18,19,19,10,6,6],[93,154,238,298,365,419,517,441,479,515,548,655,820,721,681,595,565,462,356,231,144,88,65,66],[22,14,18,16,20,19,28,19,29,46,46,45,47,23,40,33,46,43,46,34,53,27,15,17],[9,27,32,57,39,66,66,97,79,89,100,116,96,64,87,38,57,67,59,35,37,28,7,9],[0,4,4,10,14,37,21,28,36,32,33,32,26,11,29,4,12,4,7,4,5,5,0,1],[0,0,0,0,0,0,0,2,2,0,1,2,0,2,2,3,4,3,2,1,2,2,1,1],[7,28,33,41,46,51,50,46,51,60,54,67,46,53,60,56,62,42,46,54,39,18,10,15],[20,27,69,74,85,65,121,83,63,96,95,98,89,78,66,80,63,74,71,38,36,14,3,10],[46,40,93,84,64,55,116,68,70,105,111,163,203,167,186,151,178,149,79,56,39,25,19,23],[194,321,472,511,588,607,878,601,642,705,752,808,656,642,541,529,596,526,715,355,288,201,119,148]],\"max\":[23,18,26,17,11,22,17,12,18,12],\"min\":[23,18,26,17,11,22,17,12,18,12],\"percent\":[\"1.02%\",\"32.20%\",\"2.52%\",\"4.61%\",\"1.21%\",\"0.10%\",\"3.50%\",\"5.14%\",\"7.75%\",\"41.95%\"],\"totIncidents\":[300,9516,746,1361,359,30,1035,1518,2290,12395]},\"selected\":{\"id\":\"527a3012-f0aa-4a5e-9fc2-589444a619f8\",\"type\":\"Selection\"},\"selection_policy\":{\"id\":\"9e62d435-66fe-4176-9131-3d25b73470c4\",\"type\":\"UnionRenderers\"}},\"id\":\"f4ea2e1b-1895-4d55-8935-0789c0be6d30\",\"type\":\"ColumnDataSource\"},{\"attributes\":{\"plot\":null,\"text\":\"Proportion of incident categories\"},\"id\":\"c23aa9df-b997-4e54-ac1a-aac0abde484d\",\"type\":\"Title\"},{\"attributes\":{\"end_angle\":{\"expr\":{\"id\":\"ff70db09-6d36-4949-ac4a-eb044b436fa3\",\"type\":\"CumSum\"},\"units\":\"rad\"},\"fill_color\":{\"field\":\"color\"},\"line_color\":{\"value\":\"white\"},\"radius\":{\"units\":\"data\",\"value\":0.4},\"start_angle\":{\"expr\":{\"id\":\"ffd7e186-22a9-49af-854a-858a28d8bffe\",\"type\":\"CumSum\"},\"units\":\"rad\"},\"x\":{\"value\":0},\"y\":{\"value\":1}},\"id\":\"017a5623-a37b-4add-b711-1f2bf1f67414\",\"type\":\"Wedge\"},{\"attributes\":{\"dimension\":1,\"plot\":{\"id\":\"c19a8067-ed4a-4d54-9d72-1b94d78bbbd4\",\"subtype\":\"Figure\",\"type\":\"Plot\"},\"ticker\":{\"id\":\"b1e9e915-d1ea-4b1b-97d1-db9caa7c9908\",\"type\":\"BasicTicker\"},\"visible\":false},\"id\":\"59f057e8-a485-4d4e-8b08-888b5d2022ee\",\"type\":\"Grid\"},{\"attributes\":{},\"id\":\"b1e9e915-d1ea-4b1b-97d1-db9caa7c9908\",\"type\":\"BasicTicker\"},{\"attributes\":{\"callback\":null,\"renderers\":\"auto\",\"tooltips\":\"@categories: @percent\"},\"id\":\"32956268-b56b-43f8-8f93-4bf951d1d0f6\",\"type\":\"HoverTool\"},{\"attributes\":{\"end_angle\":{\"expr\":{\"id\":\"ff70db09-6d36-4949-ac4a-eb044b436fa3\",\"type\":\"CumSum\"},\"units\":\"rad\"},\"fill_alpha\":{\"value\":0.1},\"fill_color\":{\"value\":\"#1f77b4\"},\"line_alpha\":{\"value\":0.1},\"line_color\":{\"value\":\"#1f77b4\"},\"radius\":{\"units\":\"data\",\"value\":0.4},\"start_angle\":{\"expr\":{\"id\":\"ffd7e186-22a9-49af-854a-858a28d8bffe\",\"type\":\"CumSum\"},\"units\":\"rad\"},\"x\":{\"value\":0},\"y\":{\"value\":1}},\"id\":\"331601c7-db2f-4616-9e2d-beb057d0425e\",\"type\":\"Wedge\"},{\"attributes\":{\"callback\":null},\"id\":\"378eab62-72f5-4620-ba5f-21853b2fcb69\",\"type\":\"DataRange1d\"},{\"attributes\":{\"plot\":{\"id\":\"c19a8067-ed4a-4d54-9d72-1b94d78bbbd4\",\"subtype\":\"Figure\",\"type\":\"Plot\"},\"ticker\":{\"id\":\"c6611d22-ce52-4158-8183-45abe395ec27\",\"type\":\"BasicTicker\"},\"visible\":false},\"id\":\"d68ae6e2-3589-496b-88b2-678727daa35f\",\"type\":\"Grid\"},{\"attributes\":{\"field\":\"angle\"},\"id\":\"ff70db09-6d36-4949-ac4a-eb044b436fa3\",\"type\":\"CumSum\"},{\"attributes\":{\"formatter\":{\"id\":\"00f3548c-2511-447e-af7b-98e46eb570d4\",\"type\":\"BasicTickFormatter\"},\"plot\":{\"id\":\"c19a8067-ed4a-4d54-9d72-1b94d78bbbd4\",\"subtype\":\"Figure\",\"type\":\"Plot\"},\"ticker\":{\"id\":\"c6611d22-ce52-4158-8183-45abe395ec27\",\"type\":\"BasicTicker\"},\"visible\":null},\"id\":\"5137fc90-31c9-4ebe-b573-265f2943b2a6\",\"type\":\"LinearAxis\"},{\"attributes\":{\"field\":\"angle\",\"include_zero\":true},\"id\":\"ffd7e186-22a9-49af-854a-858a28d8bffe\",\"type\":\"CumSum\"},{\"attributes\":{},\"id\":\"919f9f56-898c-4363-9ad7-1464ef605dfc\",\"type\":\"LinearScale\"},{\"attributes\":{\"active_drag\":\"auto\",\"active_inspect\":\"auto\",\"active_multi\":null,\"active_scroll\":\"auto\",\"active_tap\":\"auto\",\"tools\":[{\"id\":\"32956268-b56b-43f8-8f93-4bf951d1d0f6\",\"type\":\"HoverTool\"}]},\"id\":\"348bb55c-9dde-43de-9c61-63b5c5ee94b2\",\"type\":\"Toolbar\"},{\"attributes\":{},\"id\":\"c6611d22-ce52-4158-8183-45abe395ec27\",\"type\":\"BasicTicker\"},{\"attributes\":{\"source\":{\"id\":\"f4ea2e1b-1895-4d55-8935-0789c0be6d30\",\"type\":\"ColumnDataSource\"}},\"id\":\"317cc294-06a0-451b-b944-47fdfcfe9600\",\"type\":\"CDSView\"},{\"attributes\":{},\"id\":\"9e62d435-66fe-4176-9131-3d25b73470c4\",\"type\":\"UnionRenderers\"},{\"attributes\":{\"callback\":null},\"id\":\"6927160a-303e-4067-a994-988c678e02a0\",\"type\":\"DataRange1d\"},{\"attributes\":{},\"id\":\"bd644bc8-6332-4fa5-b584-a1ddec2b40b4\",\"type\":\"BasicTickFormatter\"},{\"attributes\":{},\"id\":\"00f3548c-2511-447e-af7b-98e46eb570d4\",\"type\":\"BasicTickFormatter\"}],\"root_ids\":[\"c19a8067-ed4a-4d54-9d72-1b94d78bbbd4\"]},\"title\":\"Bokeh Application\",\"version\":\"0.13.0\"}};\n",
       "  var render_items = [{\"docid\":\"d6865418-efaf-47f1-9149-686324a71412\",\"roots\":{\"c19a8067-ed4a-4d54-9d72-1b94d78bbbd4\":\"fa68ecd1-76b3-4a51-9eb4-2dc66c65dab9\"}}];\n",
       "  root.Bokeh.embed.embed_items_notebook(docs_json, render_items);\n",
       "\n",
       "  }\n",
       "  if (root.Bokeh !== undefined) {\n",
       "    embed_document(root);\n",
       "  } else {\n",
       "    var attempts = 0;\n",
       "    var timer = setInterval(function(root) {\n",
       "      if (root.Bokeh !== undefined) {\n",
       "        embed_document(root);\n",
       "        clearInterval(timer);\n",
       "      }\n",
       "      attempts++;\n",
       "      if (attempts > 100) {\n",
       "        console.log(\"Bokeh: ERROR: Unable to run BokehJS code because BokehJS library is missing\")\n",
       "        clearInterval(timer);\n",
       "      }\n",
       "    }, 10, root)\n",
       "  }\n",
       "})(window);"
      ],
      "application/vnd.bokehjs_exec.v0+json": ""
     },
     "metadata": {
      "application/vnd.bokehjs_exec.v0+json": {
       "id": "c19a8067-ed4a-4d54-9d72-1b94d78bbbd4"
      }
     },
     "output_type": "display_data"
    }
   ],
   "source": [
    "from bokeh.palettes import brewer\n",
    "\n",
    "allIncidents = float(sum(data['totIncidents']))\n",
    "data['percent'] = map(lambda x: '{0:.2f}'.format(x/allIncidents*100.0) + \"%\", data['totIncidents'])\n",
    "data['angle'] = map(lambda x: x/allIncidents*2*pi, data['totIncidents'])\n",
    "data['color'] = brewer['Spectral'][len(data['categories'])]\n",
    "\n",
    "p = figure(plot_height=350, title=\"Proportion of incident categories\", toolbar_location=None,\n",
    "        tools=\"hover\", tooltips=\"@categories: @percent\")\n",
    "\n",
    "p.wedge(x=0, y=1, radius=0.4,\n",
    "        start_angle=cumsum('angle', include_zero=True), end_angle=cumsum('angle'),\n",
    "        line_color=\"white\", fill_color='color', legend='categories', source=data)\n",
    "p.axis.visible = None\n",
    "p.xgrid.visible = False\n",
    "p.ygrid.visible = False\n",
    "show(p)"
   ]
  },
  {
   "cell_type": "markdown",
   "metadata": {},
   "source": [
    "We can see that the majority of incidents actually do not fit in any of the categories that we have listed - so the the \"OTHER\" category accounts for 41.95%. The next most popular incident category is theft 32.20%. More serious types of incidents such as \"ROBBERY\", \"HOMICIDE\", \"ASSAULT\" account for quite little of the total incidents. \"POSSESSION\" and \"SALE\" refer to drug related incidents and they and \"LOST\" and \"STOLEN\" (which relate to property incidents) "
   ]
  },
  {
   "cell_type": "markdown",
   "metadata": {},
   "source": [
    "We can compare the time when the most occurences of a category of incidents occur for the different categories. We then display a horizontal bar chart for each category. We also display the average (i.e. for all categories) in a different colour (green) to act as a baseline. There is a hover-over tooltip which displays the hour when most incidents occur for a category."
   ]
  },
  {
   "cell_type": "code",
   "execution_count": 8,
   "metadata": {},
   "outputs": [
    {
     "data": {
      "text/html": [
       "\n",
       "\n",
       "\n",
       "\n",
       "\n",
       "\n",
       "  <div class=\"bk-root\" id=\"2030223b-19cf-4d2f-b984-5c998032a815\"></div>\n"
      ]
     },
     "metadata": {},
     "output_type": "display_data"
    },
    {
     "data": {
      "application/javascript": [
       "(function(root) {\n",
       "  function embed_document(root) {\n",
       "    \n",
       "  var docs_json = {\"c178ba0b-94fc-44ff-aa74-31ff36af3d78\":{\"roots\":{\"references\":[{\"attributes\":{},\"id\":\"bd36b61f-3b9a-44f7-af3f-0f952e05fb34\",\"type\":\"CategoricalTickFormatter\"},{\"attributes\":{},\"id\":\"5c996779-92f4-44ce-aaa6-dd764a0ac989\",\"type\":\"UnionRenderers\"},{\"attributes\":{},\"id\":\"dabcd283-d813-44c6-8247-6b4168741414\",\"type\":\"CategoricalScale\"},{\"attributes\":{\"callback\":null},\"id\":\"6c1f33ad-a89d-4204-9466-582ee4462393\",\"type\":\"DataRange1d\"},{\"attributes\":{\"data_source\":{\"id\":\"d2605fa4-f684-4991-9efa-389b8c883281\",\"type\":\"ColumnDataSource\"},\"glyph\":{\"id\":\"f2083012-72dd-404c-8ca5-5825b56c414f\",\"type\":\"HBar\"},\"hover_glyph\":null,\"muted_glyph\":null,\"nonselection_glyph\":{\"id\":\"38f7135b-c08c-4397-9ab3-9adf97b0c43f\",\"type\":\"HBar\"},\"selection_glyph\":null,\"view\":{\"id\":\"4003185b-4185-4092-bd23-fd980749fd5e\",\"type\":\"CDSView\"}},\"id\":\"384f5e15-35d7-4438-8179-61d27eb276b3\",\"type\":\"GlyphRenderer\"},{\"attributes\":{\"plot\":{\"id\":\"c3bdf7a1-bd8f-4bb7-9d40-ce43750a76ae\",\"subtype\":\"Figure\",\"type\":\"Plot\"},\"ticker\":{\"id\":\"7862a356-0e6c-4f01-8136-80ea1bfa61b2\",\"type\":\"BasicTicker\"}},\"id\":\"c8cab44a-db2c-4af1-9d99-c9b88064eea0\",\"type\":\"Grid\"},{\"attributes\":{\"below\":[{\"id\":\"76a0fc27-2810-48c6-8555-c3d576326022\",\"type\":\"LinearAxis\"}],\"left\":[{\"id\":\"075ea36e-e20e-48e9-b0de-085f60872b11\",\"type\":\"CategoricalAxis\"}],\"renderers\":[{\"id\":\"76a0fc27-2810-48c6-8555-c3d576326022\",\"type\":\"LinearAxis\"},{\"id\":\"c8cab44a-db2c-4af1-9d99-c9b88064eea0\",\"type\":\"Grid\"},{\"id\":\"075ea36e-e20e-48e9-b0de-085f60872b11\",\"type\":\"CategoricalAxis\"},{\"id\":\"abbf42e9-2eb1-4122-bca7-631851e9ec96\",\"type\":\"Grid\"},{\"id\":\"384f5e15-35d7-4438-8179-61d27eb276b3\",\"type\":\"GlyphRenderer\"}],\"title\":{\"id\":\"7df18dde-c161-4b38-959d-08e301ff6fb3\",\"type\":\"Title\"},\"toolbar\":{\"id\":\"a7ae2db8-126e-4d58-8781-92253e689b54\",\"type\":\"Toolbar\"},\"x_range\":{\"id\":\"6c1f33ad-a89d-4204-9466-582ee4462393\",\"type\":\"DataRange1d\"},\"x_scale\":{\"id\":\"3e3f405c-1737-448d-96f9-25e4555fc4d3\",\"type\":\"LinearScale\"},\"y_range\":{\"id\":\"1dae3b01-e9cc-4fff-bf9a-dbe727fd1137\",\"type\":\"FactorRange\"},\"y_scale\":{\"id\":\"dabcd283-d813-44c6-8247-6b4168741414\",\"type\":\"CategoricalScale\"}},\"id\":\"c3bdf7a1-bd8f-4bb7-9d40-ce43750a76ae\",\"subtype\":\"Figure\",\"type\":\"Plot\"},{\"attributes\":{\"fill_color\":{\"field\":\"colour\"},\"height\":{\"value\":0.8},\"left\":{\"value\":6},\"line_color\":{\"value\":\"#1f77b4\"},\"right\":{\"field\":\"max\"},\"y\":{\"field\":\"categories\"}},\"id\":\"f2083012-72dd-404c-8ca5-5825b56c414f\",\"type\":\"HBar\"},{\"attributes\":{\"fill_alpha\":{\"value\":0.1},\"fill_color\":{\"value\":\"#1f77b4\"},\"height\":{\"value\":0.8},\"left\":{\"value\":6},\"line_alpha\":{\"value\":0.1},\"line_color\":{\"value\":\"#1f77b4\"},\"right\":{\"field\":\"max\"},\"y\":{\"field\":\"categories\"}},\"id\":\"38f7135b-c08c-4397-9ab3-9adf97b0c43f\",\"type\":\"HBar\"},{\"attributes\":{\"code\":\"\\n    var s = \\\"0\\\" + ((tick%1)*60.0).toFixed(0);\\n    return (tick % 24).toFixed(0) + \\\":\\\" + s.substr(s.length-2);\\n\"},\"id\":\"97148905-a4dd-47d0-bf21-1abbc0a141dd\",\"type\":\"FuncTickFormatter\"},{\"attributes\":{\"active_drag\":\"auto\",\"active_inspect\":\"auto\",\"active_multi\":null,\"active_scroll\":\"auto\",\"active_tap\":\"auto\",\"tools\":[{\"id\":\"f3be9d2f-123f-46b0-abc9-cceeb2ff3bc6\",\"type\":\"HoverTool\"}]},\"id\":\"a7ae2db8-126e-4d58-8781-92253e689b54\",\"type\":\"Toolbar\"},{\"attributes\":{\"axis_label\":\"Peak time for incident categories\",\"formatter\":{\"id\":\"97148905-a4dd-47d0-bf21-1abbc0a141dd\",\"type\":\"FuncTickFormatter\"},\"plot\":{\"id\":\"c3bdf7a1-bd8f-4bb7-9d40-ce43750a76ae\",\"subtype\":\"Figure\",\"type\":\"Plot\"},\"ticker\":{\"id\":\"7862a356-0e6c-4f01-8136-80ea1bfa61b2\",\"type\":\"BasicTicker\"}},\"id\":\"76a0fc27-2810-48c6-8555-c3d576326022\",\"type\":\"LinearAxis\"},{\"attributes\":{},\"id\":\"93719916-7d72-4dc8-943a-09dcc8eae9db\",\"type\":\"CategoricalTicker\"},{\"attributes\":{\"callback\":null,\"factors\":[\"SALE\",\"LOST\",\"OTHER\",\"POSSESSION\",\"BATTERY\",\"THEFT\",\"STOLEN\",\"AVERAGE\",\"HOMICIDE\",\"ROBBERY\",\"ASSAULT\"]},\"id\":\"1dae3b01-e9cc-4fff-bf9a-dbe727fd1137\",\"type\":\"FactorRange\"},{\"attributes\":{\"dimension\":1,\"plot\":{\"id\":\"c3bdf7a1-bd8f-4bb7-9d40-ce43750a76ae\",\"subtype\":\"Figure\",\"type\":\"Plot\"},\"ticker\":{\"id\":\"93719916-7d72-4dc8-943a-09dcc8eae9db\",\"type\":\"CategoricalTicker\"}},\"id\":\"abbf42e9-2eb1-4122-bca7-631851e9ec96\",\"type\":\"Grid\"},{\"attributes\":{},\"id\":\"3e3f405c-1737-448d-96f9-25e4555fc4d3\",\"type\":\"LinearScale\"},{\"attributes\":{\"callback\":null,\"data\":{\"categories\":[\"SALE\",\"LOST\",\"OTHER\",\"POSSESSION\",\"BATTERY\",\"THEFT\",\"STOLEN\",\"AVERAGE\",\"HOMICIDE\",\"ROBBERY\",\"ASSAULT\"],\"colour\":[\"blue\",\"blue\",\"blue\",\"blue\",\"blue\",\"blue\",\"blue\",\"green\",\"blue\",\"blue\",\"blue\"],\"index\":[4,7,9,3,6,1,8,10,5,0,2],\"max\":[11,12,12,17,17,18,18,18,22,23,26],\"max_Time\":[\"11:00\",\"12:00\",\"12:00\",\"17:00\",\"17:00\",\"18:00\",\"18:00\",\"18:00\",\"22:00\",\"23:00\",\"02:00\"]},\"selected\":{\"id\":\"b7664a4b-2327-465d-b59a-3b44ae79d02d\",\"type\":\"Selection\"},\"selection_policy\":{\"id\":\"5c996779-92f4-44ce-aaa6-dd764a0ac989\",\"type\":\"UnionRenderers\"}},\"id\":\"d2605fa4-f684-4991-9efa-389b8c883281\",\"type\":\"ColumnDataSource\"},{\"attributes\":{\"plot\":null,\"text\":\"Total number of police incidents at each hour throughout the summer of 2014\"},\"id\":\"7df18dde-c161-4b38-959d-08e301ff6fb3\",\"type\":\"Title\"},{\"attributes\":{},\"id\":\"7862a356-0e6c-4f01-8136-80ea1bfa61b2\",\"type\":\"BasicTicker\"},{\"attributes\":{\"formatter\":{\"id\":\"bd36b61f-3b9a-44f7-af3f-0f952e05fb34\",\"type\":\"CategoricalTickFormatter\"},\"plot\":{\"id\":\"c3bdf7a1-bd8f-4bb7-9d40-ce43750a76ae\",\"subtype\":\"Figure\",\"type\":\"Plot\"},\"ticker\":{\"id\":\"93719916-7d72-4dc8-943a-09dcc8eae9db\",\"type\":\"CategoricalTicker\"}},\"id\":\"075ea36e-e20e-48e9-b0de-085f60872b11\",\"type\":\"CategoricalAxis\"},{\"attributes\":{\"callback\":null,\"renderers\":\"auto\",\"tooltips\":\"@categories: @max_Time\"},\"id\":\"f3be9d2f-123f-46b0-abc9-cceeb2ff3bc6\",\"type\":\"HoverTool\"},{\"attributes\":{},\"id\":\"b7664a4b-2327-465d-b59a-3b44ae79d02d\",\"type\":\"Selection\"},{\"attributes\":{\"source\":{\"id\":\"d2605fa4-f684-4991-9efa-389b8c883281\",\"type\":\"ColumnDataSource\"}},\"id\":\"4003185b-4185-4092-bd23-fd980749fd5e\",\"type\":\"CDSView\"}],\"root_ids\":[\"c3bdf7a1-bd8f-4bb7-9d40-ce43750a76ae\"]},\"title\":\"Bokeh Application\",\"version\":\"0.13.0\"}};\n",
       "  var render_items = [{\"docid\":\"c178ba0b-94fc-44ff-aa74-31ff36af3d78\",\"roots\":{\"c3bdf7a1-bd8f-4bb7-9d40-ce43750a76ae\":\"2030223b-19cf-4d2f-b984-5c998032a815\"}}];\n",
       "  root.Bokeh.embed.embed_items_notebook(docs_json, render_items);\n",
       "\n",
       "  }\n",
       "  if (root.Bokeh !== undefined) {\n",
       "    embed_document(root);\n",
       "  } else {\n",
       "    var attempts = 0;\n",
       "    var timer = setInterval(function(root) {\n",
       "      if (root.Bokeh !== undefined) {\n",
       "        embed_document(root);\n",
       "        clearInterval(timer);\n",
       "      }\n",
       "      attempts++;\n",
       "      if (attempts > 100) {\n",
       "        console.log(\"Bokeh: ERROR: Unable to run BokehJS code because BokehJS library is missing\")\n",
       "        clearInterval(timer);\n",
       "      }\n",
       "    }, 10, root)\n",
       "  }\n",
       "})(window);"
      ],
      "application/vnd.bokehjs_exec.v0+json": ""
     },
     "metadata": {
      "application/vnd.bokehjs_exec.v0+json": {
       "id": "c3bdf7a1-bd8f-4bb7-9d40-ce43750a76ae"
      }
     },
     "output_type": "display_data"
    }
   ],
   "source": [
    "from bokeh.layouts import row\n",
    "from bokeh.models import FuncTickFormatter\n",
    "\n",
    "data_MAX = {\n",
    "     'categories' : list(data['categories']),\n",
    "     'max': list(data['max']), \n",
    "     'colour' : ['blue']*len(data['max'])\n",
    "    }\n",
    "\n",
    "# Add the average\n",
    "data_MAX[\"categories\"].append('AVERAGE')\n",
    "data_MAX[\"max\"].append(maxHour)\n",
    "data_MAX[\"colour\"].append(\"green\")\n",
    "\n",
    "df_Categories = pd.DataFrame(data_MAX, columns=data_MAX.keys())\n",
    "# rotate the time\n",
    "df_Categories['max'] = df_Categories['max'].transform(rotateTime)\n",
    "df_Categories['max_Time'] = map(lambda x: str(x%24).zfill(2)+\":00\", df_Categories['max'])\n",
    "\n",
    "df_Categories = df_Categories.sort_values(by=['max'], ascending=True)\n",
    "\n",
    "p = figure(title=\"Total number of police incidents at each hour throughout the summer of 2014\", \n",
    "            y_range=df_Categories[\"categories\"], tools=\"hover\", tooltips=\"@categories: @max_Time\")\n",
    "p.hbar(height=0.8, y='categories', right=\"max\", left=6, source=df_Categories, fill_color=\"colour\")\n",
    "p.xaxis.formatter = timeFormatter\n",
    "p.xaxis.axis_label = \"Peak time for incident categories\"\n",
    "show(p)\n"
   ]
  },
  {
   "cell_type": "markdown",
   "metadata": {},
   "source": [
    "From the above graph we can see that although violent incident types which we more typically think of, such as \"ASSAULT\", \"ROBBERY\", \"HOMICIDE\" do occur late at night (22:00, 23:00 and 2:00am) but these incidents account for very little of the total. The majority of incidents which fall into the \"OTHER\" category have peaks early at 12:00. \"THEFT\" which accounts for a high proportion of incidents have a peak at 18:00."
   ]
  },
  {
   "cell_type": "markdown",
   "metadata": {},
   "source": [
    "Lastly we want to investigate the relative occurence of different categories throughout the day. To do so we will create a stacked area chart of the relative proportion of incident categories for each hour. \n",
    "\n",
    "The bokeh library does not support stacked graphs directly but they can be acheived using the \"patches' but does require some work. "
   ]
  },
  {
   "cell_type": "code",
   "execution_count": 12,
   "metadata": {
    "scrolled": false
   },
   "outputs": [
    {
     "data": {
      "text/html": [
       "\n",
       "\n",
       "\n",
       "\n",
       "\n",
       "\n",
       "  <div class=\"bk-root\" id=\"99e15a24-6f93-4912-9f37-dd323099181d\"></div>\n"
      ]
     },
     "metadata": {},
     "output_type": "display_data"
    },
    {
     "data": {
      "application/javascript": [
       "(function(root) {\n",
       "  function embed_document(root) {\n",
       "    \n",
       "  var docs_json = {\"44f8d515-7b5d-4b42-8f55-ee58f8caf38b\":{\"roots\":{\"references\":[{\"attributes\":{},\"id\":\"bf36cdd3-c4cb-41f0-ada1-caa36f83d9df\",\"type\":\"Selection\"},{\"attributes\":{\"callback\":null},\"id\":\"5c1eab03-8436-49c9-b066-f58294606b8d\",\"type\":\"DataRange1d\"},{\"attributes\":{\"label\":{\"field\":\"names\"},\"renderers\":[{\"id\":\"1759d6b7-ae4d-4469-9313-bb20a4a9cab0\",\"type\":\"GlyphRenderer\"}]},\"id\":\"07a1c07c-393c-41d6-8a6d-5eb26ee709a8\",\"type\":\"LegendItem\"},{\"attributes\":{\"items\":[{\"id\":\"07a1c07c-393c-41d6-8a6d-5eb26ee709a8\",\"type\":\"LegendItem\"}],\"plot\":{\"id\":\"2c915f75-07c2-4b82-b912-9efe270711cc\",\"subtype\":\"Figure\",\"type\":\"Plot\"}},\"id\":\"bc3a36c3-a199-4a29-a1ee-4fe1bb7479f8\",\"type\":\"Legend\"},{\"attributes\":{},\"id\":\"22d1f071-fedb-4b45-a85e-49c579ba11b7\",\"type\":\"BasicTicker\"},{\"attributes\":{\"plot\":null,\"text\":\"\"},\"id\":\"724cf619-00ad-409f-b4b9-883e38ed97c2\",\"type\":\"Title\"},{\"attributes\":{\"fill_alpha\":{\"value\":0.1},\"fill_color\":{\"value\":\"#1f77b4\"},\"line_alpha\":{\"value\":0.1},\"line_color\":{\"value\":\"#1f77b4\"},\"xs\":{\"field\":\"xs\"},\"ys\":{\"field\":\"ys\"}},\"id\":\"8c7167f2-ee3e-4a27-a3d8-ee2b92775747\",\"type\":\"Patches\"},{\"attributes\":{},\"id\":\"6b717a58-a300-46db-830e-97fd43359224\",\"type\":\"LinearScale\"},{\"attributes\":{},\"id\":\"017556f0-9797-477b-9301-b08df061dcf9\",\"type\":\"PanTool\"},{\"attributes\":{},\"id\":\"a030b73e-def3-4de5-a077-6e3b7fe986ba\",\"type\":\"UnionRenderers\"},{\"attributes\":{},\"id\":\"76a20c3c-949d-4439-a031-e003263a510a\",\"type\":\"WheelZoomTool\"},{\"attributes\":{\"callback\":null,\"renderers\":\"auto\",\"tooltips\":\"@names\"},\"id\":\"30e38cde-6a1c-443b-9e93-cef212bf7dfb\",\"type\":\"HoverTool\"},{\"attributes\":{\"code\":\"\\n    var s = \\\"0\\\" + ((tick%1)*60.0).toFixed(0);\\n    return (tick % 24).toFixed(0) + \\\":\\\" + s.substr(s.length-2);\\n\"},\"id\":\"97148905-a4dd-47d0-bf21-1abbc0a141dd\",\"type\":\"FuncTickFormatter\"},{\"attributes\":{\"overlay\":{\"id\":\"faf2fbd2-630b-45d8-bed7-b8cd09ee478f\",\"type\":\"BoxAnnotation\"}},\"id\":\"2abded8d-1b04-421e-b320-e38919235c64\",\"type\":\"BoxZoomTool\"},{\"attributes\":{},\"id\":\"c744fe59-f92b-4897-9c6b-6cab5d15bd03\",\"type\":\"HelpTool\"},{\"attributes\":{},\"id\":\"2ad9451a-d5a2-45ff-9a68-196667a915df\",\"type\":\"BasicTicker\"},{\"attributes\":{\"active_drag\":\"auto\",\"active_inspect\":\"auto\",\"active_multi\":null,\"active_scroll\":\"auto\",\"active_tap\":\"auto\",\"tools\":[{\"id\":\"017556f0-9797-477b-9301-b08df061dcf9\",\"type\":\"PanTool\"},{\"id\":\"76a20c3c-949d-4439-a031-e003263a510a\",\"type\":\"WheelZoomTool\"},{\"id\":\"2abded8d-1b04-421e-b320-e38919235c64\",\"type\":\"BoxZoomTool\"},{\"id\":\"e8d236d5-4f1a-4c41-afb7-b593dca018f1\",\"type\":\"SaveTool\"},{\"id\":\"eb35e821-60f7-460b-bbd0-20eb9bd86fb5\",\"type\":\"ResetTool\"},{\"id\":\"c744fe59-f92b-4897-9c6b-6cab5d15bd03\",\"type\":\"HelpTool\"},{\"id\":\"30e38cde-6a1c-443b-9e93-cef212bf7dfb\",\"type\":\"HoverTool\"}]},\"id\":\"f3f8c688-689c-4440-b355-e332f30904b8\",\"type\":\"Toolbar\"},{\"attributes\":{\"bottom_units\":\"screen\",\"fill_alpha\":{\"value\":0.5},\"fill_color\":{\"value\":\"lightgrey\"},\"left_units\":\"screen\",\"level\":\"overlay\",\"line_alpha\":{\"value\":1.0},\"line_color\":{\"value\":\"black\"},\"line_dash\":[4,4],\"line_width\":{\"value\":2},\"plot\":null,\"render_mode\":\"css\",\"right_units\":\"screen\",\"top_units\":\"screen\"},\"id\":\"faf2fbd2-630b-45d8-bed7-b8cd09ee478f\",\"type\":\"BoxAnnotation\"},{\"attributes\":{\"axis_label\":\"Proportion of Incidents\",\"formatter\":{\"id\":\"76c62a19-9bb7-41bd-95ff-96d107eb5208\",\"type\":\"BasicTickFormatter\"},\"plot\":{\"id\":\"2c915f75-07c2-4b82-b912-9efe270711cc\",\"subtype\":\"Figure\",\"type\":\"Plot\"},\"ticker\":{\"id\":\"2ad9451a-d5a2-45ff-9a68-196667a915df\",\"type\":\"BasicTicker\"}},\"id\":\"e3698df3-e74a-4c17-83b1-8b2996869396\",\"type\":\"LinearAxis\"},{\"attributes\":{},\"id\":\"76c62a19-9bb7-41bd-95ff-96d107eb5208\",\"type\":\"BasicTickFormatter\"},{\"attributes\":{},\"id\":\"e8d236d5-4f1a-4c41-afb7-b593dca018f1\",\"type\":\"SaveTool\"},{\"attributes\":{\"source\":{\"id\":\"4ff5d623-bee4-4560-b49b-2458fc4ffad7\",\"type\":\"ColumnDataSource\"}},\"id\":\"64932126-1f6f-4c44-8c04-760ad41e9a9a\",\"type\":\"CDSView\"},{\"attributes\":{\"fill_alpha\":{\"value\":0.7},\"fill_color\":{\"field\":\"col\"},\"line_alpha\":{\"value\":0.7},\"xs\":{\"field\":\"xs\"},\"ys\":{\"field\":\"ys\"}},\"id\":\"f2e7e84b-6071-42c1-b904-1d36deb63d78\",\"type\":\"Patches\"},{\"attributes\":{\"dimension\":1,\"plot\":{\"id\":\"2c915f75-07c2-4b82-b912-9efe270711cc\",\"subtype\":\"Figure\",\"type\":\"Plot\"},\"ticker\":{\"id\":\"2ad9451a-d5a2-45ff-9a68-196667a915df\",\"type\":\"BasicTicker\"}},\"id\":\"c7ab127d-5a9c-4732-8113-5347fd3e8237\",\"type\":\"Grid\"},{\"attributes\":{\"callback\":null,\"data\":{\"col\":[\"#5e4fa2\",\"#3288bd\",\"#66c2a5\",\"#abdda4\",\"#e6f598\",\"#fee08b\",\"#fdae61\",\"#f46d43\",\"#d53e4f\",\"#9e0142\"],\"names\":[\"ROBBERY\",\"THEFT\",\"ASSAULT\",\"POSSESSION\",\"SALE\",\"HOMICIDE\",\"BATTERY\",\"LOST\",\"STOLEN\",\"OTHER\"],\"xs\":[[29,28,27,26,25,24,23,22,21,20,19,18,17,16,15,14,13,12,11,10,9,8,7,6,6,7,8,9,10,11,12,13,14,15,16,17,18,19,20,21,22,23,24,25,26,27,28,29],[29,28,27,26,25,24,23,22,21,20,19,18,17,16,15,14,13,12,11,10,9,8,7,6,6,7,8,9,10,11,12,13,14,15,16,17,18,19,20,21,22,23,24,25,26,27,28,29],[29,28,27,26,25,24,23,22,21,20,19,18,17,16,15,14,13,12,11,10,9,8,7,6,6,7,8,9,10,11,12,13,14,15,16,17,18,19,20,21,22,23,24,25,26,27,28,29],[29,28,27,26,25,24,23,22,21,20,19,18,17,16,15,14,13,12,11,10,9,8,7,6,6,7,8,9,10,11,12,13,14,15,16,17,18,19,20,21,22,23,24,25,26,27,28,29],[29,28,27,26,25,24,23,22,21,20,19,18,17,16,15,14,13,12,11,10,9,8,7,6,6,7,8,9,10,11,12,13,14,15,16,17,18,19,20,21,22,23,24,25,26,27,28,29],[29,28,27,26,25,24,23,22,21,20,19,18,17,16,15,14,13,12,11,10,9,8,7,6,6,7,8,9,10,11,12,13,14,15,16,17,18,19,20,21,22,23,24,25,26,27,28,29],[29,28,27,26,25,24,23,22,21,20,19,18,17,16,15,14,13,12,11,10,9,8,7,6,6,7,8,9,10,11,12,13,14,15,16,17,18,19,20,21,22,23,24,25,26,27,28,29],[29,28,27,26,25,24,23,22,21,20,19,18,17,16,15,14,13,12,11,10,9,8,7,6,6,7,8,9,10,11,12,13,14,15,16,17,18,19,20,21,22,23,24,25,26,27,28,29],[29,28,27,26,25,24,23,22,21,20,19,18,17,16,15,14,13,12,11,10,9,8,7,6,6,7,8,9,10,11,12,13,14,15,16,17,18,19,20,21,22,23,24,25,26,27,28,29],[29,28,27,26,25,24,23,22,21,20,19,18,17,16,15,14,13,12,11,10,9,8,7,6,6,7,8,9,10,11,12,13,14,15,16,17,18,19,20,21,22,23,24,25,26,27,28,29]],\"ys\":[{\"__ndarray__\":\"AAAAAAAAAAAAAAAAAAAAAAAAAAAAAAAAAAAAAAAAAAAAAAAAAAAAAAAAAAAAAAAAAAAAAAAAAAAAAAAAAAAAAAAAAAAAAAAAAAAAAAAAAAAAAAAAAAAAAAAAAAAAAAAAAAAAAAAAAAAAAAAAAAAAAAAAAAAAAAAAAAAAAAAAAAAAAAAAAAAAAAAAAAAAAAAAAAAAAAAAAAAAAAAAAAAAAAAAAAAAAAAAAAAAAAAAAAAAAAAAAAAAAAAAAAAAAAAAAAAAAAAAIEAAAAAAAAAUQAAAAAAAACRAAAAAAAAAIEAAAAAAAAAUQAAAAAAAACJAAAAAAAAANUAAAAAAAAAmQAAAAAAAACRAAAAAAAAAHEAAAAAAAAAkQAAAAAAAAC5AAAAAAAAAMEAAAAAAAAAsQAAAAAAAAC5AAAAAAAAAMEAAAAAAAAAzQAAAAAAAADdAAAAAAAAAMkAAAAAAAAAzQAAAAAAAADNAAAAAAAAAJEAAAAAAAAAYQAAAAAAAABhA\",\"dtype\":\"float64\",\"shape\":[48]},{\"__ndarray__\":\"AAAAAAAAGEAAAAAAAAAYQAAAAAAAACRAAAAAAAAAM0AAAAAAAAAzQAAAAAAAADJAAAAAAAAAN0AAAAAAAAAzQAAAAAAAADBAAAAAAAAALkAAAAAAAAAsQAAAAAAAADBAAAAAAAAALkAAAAAAAAAkQAAAAAAAABxAAAAAAAAAJEAAAAAAAAAmQAAAAAAAADVAAAAAAAAAIkAAAAAAAAAUQAAAAAAAACBAAAAAAAAAJEAAAAAAAAAUQAAAAAAAACBAAAAAAABAWUAAAAAAAOBjQAAAAAAAAG9AAAAAAAAgc0AAAAAAACB3QAAAAAAAwHpAAAAAAADQgEAAAAAAAEB8QAAAAAAAkH5AAAAAAABQgEAAAAAAAHCBQAAAAAAA8IRAAAAAAAAgikAAAAAAAPiGQAAAAAAAwIVAAAAAAAAYg0AAAAAAAECCQAAAAAAAUH5AAAAAAABgd0AAAAAAAEBvQAAAAAAAYGRAAAAAAACAWEAAAAAAAMBRQAAAAAAAAFJA\",\"dtype\":\"float64\",\"shape\":[48]},{\"__ndarray__\":\"AAAAAAAAUkAAAAAAAMBRQAAAAAAAgFhAAAAAAABgZEAAAAAAAEBvQAAAAAAAYHdAAAAAAABQfkAAAAAAAECCQAAAAAAAGINAAAAAAADAhUAAAAAAAPiGQAAAAAAAIIpAAAAAAADwhEAAAAAAAHCBQAAAAAAAUIBAAAAAAACQfkAAAAAAAEB8QAAAAAAA0IBAAAAAAADAekAAAAAAACB3QAAAAAAAIHNAAAAAAAAAb0AAAAAAAOBjQAAAAAAAQFlAAAAAAADAXkAAAAAAAKBlQAAAAAAAoHBAAAAAAAAgdEAAAAAAAGB4QAAAAAAA8HtAAAAAAACwgUAAAAAAAHB9QAAAAAAAMIBAAAAAAADAgUAAAAAAAOCCQAAAAAAAWIZAAAAAAACYi0AAAAAAALCHQAAAAAAAAIdAAAAAAAAghEAAAAAAALCDQAAAAAAAgIBAAAAAAABAekAAAAAAAMBxQAAAAAAAAGtAAAAAAABAX0AAAAAAAIBVQAAAAAAAQFZA\",\"dtype\":\"float64\",\"shape\":[48]},{\"__ndarray__\":\"AAAAAABAVkAAAAAAAIBVQAAAAAAAQF9AAAAAAAAAa0AAAAAAAMBxQAAAAAAAQHpAAAAAAACAgEAAAAAAALCDQAAAAAAAIIRAAAAAAAAAh0AAAAAAALCHQAAAAAAAmItAAAAAAABYhkAAAAAAAOCCQAAAAAAAwIFAAAAAAAAwgEAAAAAAAHB9QAAAAAAAsIFAAAAAAADwe0AAAAAAAGB4QAAAAAAAIHRAAAAAAACgcEAAAAAAAKBlQAAAAAAAwF5AAAAAAACAYEAAAAAAAABpQAAAAAAAoHJAAAAAAACwd0AAAAAAANB6QAAAAAAACIBAAAAAAADAg0AAAAAAAMCBQAAAAAAAqIJAAAAAAACIhEAAAAAAAACGQAAAAAAA+IlAAAAAAACYjkAAAAAAALCJQAAAAAAAuIlAAAAAAABQhUAAAAAAAHiFQAAAAAAAmIJAAAAAAADwfUAAAAAAAPBzQAAAAAAAoG9AAAAAAAAgY0AAAAAAAEBXQAAAAAAAgFhA\",\"dtype\":\"float64\",\"shape\":[48]},{\"__ndarray__\":\"AAAAAACAWEAAAAAAAEBXQAAAAAAAIGNAAAAAAACgb0AAAAAAAPBzQAAAAAAA8H1AAAAAAACYgkAAAAAAAHiFQAAAAAAAUIVAAAAAAAC4iUAAAAAAALCJQAAAAAAAmI5AAAAAAAD4iUAAAAAAAACGQAAAAAAAiIRAAAAAAACogkAAAAAAAMCBQAAAAAAAwINAAAAAAAAIgEAAAAAAANB6QAAAAAAAsHdAAAAAAACgckAAAAAAAABpQAAAAAAAgGBAAAAAAACAYEAAAAAAAIBpQAAAAAAA4HJAAAAAAABQeEAAAAAAALB7QAAAAAAAMIFAAAAAAABohEAAAAAAAKCCQAAAAAAAyINAAAAAAACIhUAAAAAAAAiHQAAAAAAA+IpAAAAAAABoj0AAAAAAAAiKQAAAAAAAoIpAAAAAAABwhUAAAAAAANiFQAAAAAAAuIJAAAAAAABgfkAAAAAAADB0QAAAAAAAIHBAAAAAAADAY0AAAAAAAEBXQAAAAAAAwFhA\",\"dtype\":\"float64\",\"shape\":[48]},{\"__ndarray__\":\"AAAAAADAWEAAAAAAAEBXQAAAAAAAwGNAAAAAAAAgcEAAAAAAADB0QAAAAAAAYH5AAAAAAAC4gkAAAAAAANiFQAAAAAAAcIVAAAAAAACgikAAAAAAAAiKQAAAAAAAaI9AAAAAAAD4ikAAAAAAAAiHQAAAAAAAiIVAAAAAAADIg0AAAAAAAKCCQAAAAAAAaIRAAAAAAAAwgUAAAAAAALB7QAAAAAAAUHhAAAAAAADgckAAAAAAAIBpQAAAAAAAgGBAAAAAAACAYEAAAAAAAIBpQAAAAAAA4HJAAAAAAABQeEAAAAAAALB7QAAAAAAAMIFAAAAAAABohEAAAAAAALCCQAAAAAAA2INAAAAAAACIhUAAAAAAABCHQAAAAAAACItAAAAAAABoj0AAAAAAABiKQAAAAAAAsIpAAAAAAACIhUAAAAAAAPiFQAAAAAAA0IJAAAAAAACAfkAAAAAAAEB0QAAAAAAAQHBAAAAAAAAAZEAAAAAAAIBXQAAAAAAAAFlA\",\"dtype\":\"float64\",\"shape\":[48]},{\"__ndarray__\":\"AAAAAAAAWUAAAAAAAIBXQAAAAAAAAGRAAAAAAABAcEAAAAAAAEB0QAAAAAAAgH5AAAAAAADQgkAAAAAAAPiFQAAAAAAAiIVAAAAAAACwikAAAAAAABiKQAAAAAAAaI9AAAAAAAAIi0AAAAAAABCHQAAAAAAAiIVAAAAAAADYg0AAAAAAALCCQAAAAAAAaIRAAAAAAAAwgUAAAAAAALB7QAAAAAAAUHhAAAAAAADgckAAAAAAAIBpQAAAAAAAgGBAAAAAAABgYUAAAAAAAABtQAAAAAAA8HRAAAAAAADgekAAAAAAAJB+QAAAAAAAyIJAAAAAAAD4hUAAAAAAACCEQAAAAAAAcIVAAAAAAABoh0AAAAAAAMCIQAAAAAAAII1AAAAAAABskEAAAAAAAMCLQAAAAAAAkIxAAAAAAABIh0AAAAAAAOiHQAAAAAAAIIRAAAAAAACwgEAAAAAAAKB3QAAAAAAAsHJAAAAAAABAZkAAAAAAAABaQAAAAAAAwFxA\",\"dtype\":\"float64\",\"shape\":[48]},{\"__ndarray__\":\"AAAAAADAXEAAAAAAAABaQAAAAAAAQGZAAAAAAACwckAAAAAAAKB3QAAAAAAAsIBAAAAAAAAghEAAAAAAAOiHQAAAAAAASIdAAAAAAACQjEAAAAAAAMCLQAAAAAAAbJBAAAAAAAAgjUAAAAAAAMCIQAAAAAAAaIdAAAAAAABwhUAAAAAAACCEQAAAAAAA+IVAAAAAAADIgkAAAAAAAJB+QAAAAAAA4HpAAAAAAADwdEAAAAAAAABtQAAAAAAAYGFAAAAAAADgY0AAAAAAADBwQAAAAAAAQHlAAAAAAACAf0AAAAAAAPCBQAAAAAAA0IRAAAAAAADAiUAAAAAAALiGQAAAAAAAaIdAAAAAAABoikAAAAAAALiLQAAAAAAAGJBAAAAAAADQkUAAAAAAADCOQAAAAAAAoI5AAAAAAADIiUAAAAAAAOCJQAAAAAAAcIZAAAAAAADogkAAAAAAAAB6QAAAAAAA8HRAAAAAAAAAaEAAAAAAAMBaQAAAAAAAQF9A\",\"dtype\":\"float64\",\"shape\":[48]},{\"__ndarray__\":\"AAAAAABAX0AAAAAAAMBaQAAAAAAAAGhAAAAAAADwdEAAAAAAAAB6QAAAAAAA6IJAAAAAAABwhkAAAAAAAOCJQAAAAAAAyIlAAAAAAACgjkAAAAAAADCOQAAAAAAA0JFAAAAAAAAYkEAAAAAAALiLQAAAAAAAaIpAAAAAAABoh0AAAAAAALiGQAAAAAAAwIlAAAAAAADQhEAAAAAAAPCBQAAAAAAAgH9AAAAAAABAeUAAAAAAADBwQAAAAAAA4GNAAAAAAACgaUAAAAAAALByQAAAAAAAEH9AAAAAAABggkAAAAAAAPCDQAAAAAAAiIZAAAAAAABgjUAAAAAAANiIQAAAAAAAmIlAAAAAAACwjUAAAAAAADCPQAAAAAAApJJAAAAAAAD8lEAAAAAAALSRQAAAAAAAOJJAAAAAAACAjkAAAAAAAHCPQAAAAAAAGItAAAAAAABghUAAAAAAAIB9QAAAAAAAYHdAAAAAAAAga0AAAAAAAIBfQAAAAAAAgGJA\",\"dtype\":\"float64\",\"shape\":[48]},{\"__ndarray__\":\"AAAAAACAYkAAAAAAAIBfQAAAAAAAIGtAAAAAAABgd0AAAAAAAIB9QAAAAAAAYIVAAAAAAAAYi0AAAAAAAHCPQAAAAAAAgI5AAAAAAAA4kkAAAAAAALSRQAAAAAAA/JRAAAAAAACkkkAAAAAAADCPQAAAAAAAsI1AAAAAAACYiUAAAAAAANiIQAAAAAAAYI1AAAAAAACIhkAAAAAAAPCDQAAAAAAAYIJAAAAAAAAQf0AAAAAAALByQAAAAAAAoGlAAAAAAADweEAAAAAAAGCDQAAAAAAASI5AAAAAAAAskUAAAAAAACiTQAAAAAAAwJRAAAAAAABonEAAAAAAANCVQAAAAAAA1JZAAAAAAADcmUAAAAAAAFibQAAAAAAARJ9AAAAAAAA8n0AAAAAAALybQAAAAAAArJpAAAAAAACEl0AAAAAAAAiZQAAAAAAAxJVAAAAAAADclUAAAAAAANiJQAAAAAAAsIRAAAAAAAAgekAAAAAAAKBuQAAAAAAAgHJA\",\"dtype\":\"float64\",\"shape\":[48]}]},\"selected\":{\"id\":\"bf36cdd3-c4cb-41f0-ada1-caa36f83d9df\",\"type\":\"Selection\"},\"selection_policy\":{\"id\":\"a030b73e-def3-4de5-a077-6e3b7fe986ba\",\"type\":\"UnionRenderers\"}},\"id\":\"4ff5d623-bee4-4560-b49b-2458fc4ffad7\",\"type\":\"ColumnDataSource\"},{\"attributes\":{\"axis_label\":\"Time of Incident\",\"formatter\":{\"id\":\"97148905-a4dd-47d0-bf21-1abbc0a141dd\",\"type\":\"FuncTickFormatter\"},\"plot\":{\"id\":\"2c915f75-07c2-4b82-b912-9efe270711cc\",\"subtype\":\"Figure\",\"type\":\"Plot\"},\"ticker\":{\"id\":\"22d1f071-fedb-4b45-a85e-49c579ba11b7\",\"type\":\"BasicTicker\"}},\"id\":\"a949b7cb-3f02-4a31-ac0e-52d231caee59\",\"type\":\"LinearAxis\"},{\"attributes\":{\"plot\":{\"id\":\"2c915f75-07c2-4b82-b912-9efe270711cc\",\"subtype\":\"Figure\",\"type\":\"Plot\"},\"ticker\":{\"id\":\"22d1f071-fedb-4b45-a85e-49c579ba11b7\",\"type\":\"BasicTicker\"}},\"id\":\"fd78f235-5517-4fe9-9f13-7f3b34513a9a\",\"type\":\"Grid\"},{\"attributes\":{},\"id\":\"eb35e821-60f7-460b-bbd0-20eb9bd86fb5\",\"type\":\"ResetTool\"},{\"attributes\":{\"below\":[{\"id\":\"a949b7cb-3f02-4a31-ac0e-52d231caee59\",\"type\":\"LinearAxis\"}],\"left\":[{\"id\":\"e3698df3-e74a-4c17-83b1-8b2996869396\",\"type\":\"LinearAxis\"}],\"renderers\":[{\"id\":\"a949b7cb-3f02-4a31-ac0e-52d231caee59\",\"type\":\"LinearAxis\"},{\"id\":\"fd78f235-5517-4fe9-9f13-7f3b34513a9a\",\"type\":\"Grid\"},{\"id\":\"e3698df3-e74a-4c17-83b1-8b2996869396\",\"type\":\"LinearAxis\"},{\"id\":\"c7ab127d-5a9c-4732-8113-5347fd3e8237\",\"type\":\"Grid\"},{\"id\":\"faf2fbd2-630b-45d8-bed7-b8cd09ee478f\",\"type\":\"BoxAnnotation\"},{\"id\":\"bc3a36c3-a199-4a29-a1ee-4fe1bb7479f8\",\"type\":\"Legend\"},{\"id\":\"1759d6b7-ae4d-4469-9313-bb20a4a9cab0\",\"type\":\"GlyphRenderer\"}],\"title\":{\"id\":\"724cf619-00ad-409f-b4b9-883e38ed97c2\",\"type\":\"Title\"},\"toolbar\":{\"id\":\"f3f8c688-689c-4440-b355-e332f30904b8\",\"type\":\"Toolbar\"},\"x_range\":{\"id\":\"e24b96c8-9997-43f2-a39e-904d9e54492a\",\"type\":\"DataRange1d\"},\"x_scale\":{\"id\":\"55ac2698-effe-489d-af93-a637e1ba8562\",\"type\":\"LinearScale\"},\"y_range\":{\"id\":\"5c1eab03-8436-49c9-b066-f58294606b8d\",\"type\":\"DataRange1d\"},\"y_scale\":{\"id\":\"6b717a58-a300-46db-830e-97fd43359224\",\"type\":\"LinearScale\"}},\"id\":\"2c915f75-07c2-4b82-b912-9efe270711cc\",\"subtype\":\"Figure\",\"type\":\"Plot\"},{\"attributes\":{\"data_source\":{\"id\":\"4ff5d623-bee4-4560-b49b-2458fc4ffad7\",\"type\":\"ColumnDataSource\"},\"glyph\":{\"id\":\"f2e7e84b-6071-42c1-b904-1d36deb63d78\",\"type\":\"Patches\"},\"hover_glyph\":null,\"muted_glyph\":null,\"nonselection_glyph\":{\"id\":\"8c7167f2-ee3e-4a27-a3d8-ee2b92775747\",\"type\":\"Patches\"},\"selection_glyph\":null,\"view\":{\"id\":\"64932126-1f6f-4c44-8c04-760ad41e9a9a\",\"type\":\"CDSView\"}},\"id\":\"1759d6b7-ae4d-4469-9313-bb20a4a9cab0\",\"type\":\"GlyphRenderer\"},{\"attributes\":{\"callback\":null},\"id\":\"e24b96c8-9997-43f2-a39e-904d9e54492a\",\"type\":\"DataRange1d\"},{\"attributes\":{},\"id\":\"55ac2698-effe-489d-af93-a637e1ba8562\",\"type\":\"LinearScale\"}],\"root_ids\":[\"2c915f75-07c2-4b82-b912-9efe270711cc\"]},\"title\":\"Bokeh Application\",\"version\":\"0.13.0\"}};\n",
       "  var render_items = [{\"docid\":\"44f8d515-7b5d-4b42-8f55-ee58f8caf38b\",\"roots\":{\"2c915f75-07c2-4b82-b912-9efe270711cc\":\"99e15a24-6f93-4912-9f37-dd323099181d\"}}];\n",
       "  root.Bokeh.embed.embed_items_notebook(docs_json, render_items);\n",
       "\n",
       "  }\n",
       "  if (root.Bokeh !== undefined) {\n",
       "    embed_document(root);\n",
       "  } else {\n",
       "    var attempts = 0;\n",
       "    var timer = setInterval(function(root) {\n",
       "      if (root.Bokeh !== undefined) {\n",
       "        embed_document(root);\n",
       "        clearInterval(timer);\n",
       "      }\n",
       "      attempts++;\n",
       "      if (attempts > 100) {\n",
       "        console.log(\"Bokeh: ERROR: Unable to run BokehJS code because BokehJS library is missing\")\n",
       "        clearInterval(timer);\n",
       "      }\n",
       "    }, 10, root)\n",
       "  }\n",
       "})(window);"
      ],
      "application/vnd.bokehjs_exec.v0+json": ""
     },
     "metadata": {
      "application/vnd.bokehjs_exec.v0+json": {
       "id": "2c915f75-07c2-4b82-b912-9efe270711cc"
      }
     },
     "output_type": "display_data"
    }
   ],
   "source": [
    "import numpy as np\n",
    "from bokeh.palettes import brewer\n",
    "\n",
    "def  stacked(df):\n",
    "    df_top = df.cumsum(axis=1)\n",
    "    df_bottom = df_top.shift(axis=1).fillna(0)[::-1]\n",
    "    df_stack = pd.concat([df_bottom, df_top], ignore_index=True)\n",
    "    return df_stack\n",
    "\n",
    "df_stacked =  pd.DataFrame(data['incidntNum']).transpose()\n",
    "df_stacked.columns = data['categories']\n",
    "df_stacked = df_stacked.div(df_stacked.sum(axis=1), axis=0)\n",
    "\n",
    "areas = stacked(df_stacked)\n",
    "x2 = np.hstack((df_stacked.index[::-1], df_stacked.index))\n",
    "colors = brewer['Spectral'][areas.shape[1]]\n",
    "p = figure(tooltips='@names')\n",
    "\n",
    "stackedData = {\n",
    "    'xs' : [x2]*areas.shape[1],\n",
    "    'ys' : [areas[c].values for c in areas],\n",
    "    'col' : colors,\n",
    "    'names' : data['categories']\n",
    "}\n",
    "p.patches(xs='xs', ys='ys', color=\"col\",  alpha=0.7, line_color='black', legend=\"names\", source=stackedData)\n",
    "p.yaxis.axis_label = \"Proportion of Incidents\"\n",
    "p.xaxis.axis_label = \"Time of Incident\"\n",
    "p.xaxis[0].formatter = timeFormatter\n",
    "\n",
    "show(p)"
   ]
  },
  {
   "cell_type": "markdown",
   "metadata": {},
   "source": [
    "From the above graph it can be seen that  \"THEFT\" category takes a higher proportion of the incidents between 17:00 and 22:00. It can also be observed that the violent types \"ASSAULT\" and \"ROBBERY\" have higher proportions during the early morning 2:00am to 4:00am. It is difficult to observe much else from this graph and the relative proportions of the different categories remains at least visually constant."
   ]
  },
  {
   "cell_type": "markdown",
   "metadata": {},
   "source": [
    "## Conclusion\n",
    "\n",
    "In San Francisco during the summer of 2014 the peak time for incidents is 18:00. Violent types of incidents occur typically late at night but they account for little of the total number of incidents that the police deal with. Due to the high variety in incident types (which fall within the \"OTHER\" category) these occur throughout the day and shift the peak earlier. \"THEFT\" is major contributor to the number of incidents and occurs throughout the day peaking the early evening. "
   ]
  },
  {
   "cell_type": "code",
   "execution_count": null,
   "metadata": {},
   "outputs": [],
   "source": []
  }
 ],
 "metadata": {
  "kernelspec": {
   "display_name": "Python 2",
   "language": "python",
   "name": "python2"
  },
  "language_info": {
   "codemirror_mode": {
    "name": "ipython",
    "version": 2
   },
   "file_extension": ".py",
   "mimetype": "text/x-python",
   "name": "python",
   "nbconvert_exporter": "python",
   "pygments_lexer": "ipython2",
   "version": "2.7.15"
  }
 },
 "nbformat": 4,
 "nbformat_minor": 2
}
